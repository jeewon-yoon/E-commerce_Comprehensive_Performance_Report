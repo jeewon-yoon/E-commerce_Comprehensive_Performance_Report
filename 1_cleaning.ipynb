{
 "cells": [
  {
   "cell_type": "markdown",
   "id": "91a04ff9-a778-47ab-ba93-6e705a8d4ab1",
   "metadata": {},
   "source": [
    "### 1. 데이터 영어명 한글로 바꾸기.\n",
    "- #### 1) 주 이름 (**customer** 데이터)\n",
    "- #### 2) 상품명 (**product_name** 데이터)\n",
    "### 2. 지리정보 위도/경도 (**customer**  데이터) --> 대표 위도/경도로 표시\n",
    "### 3. 매출/이익 각각 계산 (**item** 데이터)--> Sales와 Profit 계산을 위해서 어떤 컬럼을 사용하고 계산해야하는지 확인\n",
    "- #### 1) profit 컬럼 새로 만듦 (item_count * price)\n",
    "- #### 2) 중복되는 행 삭제(최대구매갯수 행만 남김)\n",
    "### 4. datetime 유형으로 배달시간 데이터 타입변경 (**orders** 데이터)\n",
    "- #### 1) 주문, 배달 시간 관련된 컬럼들의 유형이 object이므로 datetime유형으로 변환 후 시간비교(오류검수)\n",
    "### 5. **review** 데이터에서 필요한 컬럼만 남기고 나머지는 drop"
   ]
  },
  {
   "cell_type": "code",
   "execution_count": 2,
   "id": "59db5b5c-ff2e-444a-90c7-f1e67e195fae",
   "metadata": {},
   "outputs": [],
   "source": [
    "import pandas as pd"
   ]
  },
  {
   "cell_type": "markdown",
   "id": "e7023c6f-e501-4751-b5a8-2f7ab72dc709",
   "metadata": {},
   "source": [
    "## 3. 매출/이익 계산을 위해 payment_value가 order_item의 계산 합과 일치하는지 확인."
   ]
  },
  {
   "cell_type": "markdown",
   "id": "71e2e2ea-e611-4e6e-8a92-b178394b0506",
   "metadata": {},
   "source": [
    "- order_id, 00143d0f86d6fbd9f9b38ab440ac16f5 는 3개의 아이템을 구매.\n",
    "  - The total order_item value is: 21.33 * 3 = 63.99\n",
    "  - The total freight value is: 15.10 * 3 = 45.30\n",
    "  - The total order value (product + freight) is: 45.30 + 63.99 = 109.29"
   ]
  },
  {
   "cell_type": "code",
   "execution_count": 24,
   "id": "7ba30b42-c1a1-419e-93a1-a01c07500930",
   "metadata": {},
   "outputs": [],
   "source": [
    "order_items = pd.read_csv('C:/Users/elley/Desktop/Python/project_4_portfolio/ecommerce/olist_order_items.csv')"
   ]
  },
  {
   "cell_type": "code",
   "execution_count": 27,
   "id": "a9259a4f-b420-472c-8fdb-218e4b47474b",
   "metadata": {},
   "outputs": [
    {
     "data": {
      "text/html": [
       "<div>\n",
       "<style scoped>\n",
       "    .dataframe tbody tr th:only-of-type {\n",
       "        vertical-align: middle;\n",
       "    }\n",
       "\n",
       "    .dataframe tbody tr th {\n",
       "        vertical-align: top;\n",
       "    }\n",
       "\n",
       "    .dataframe thead th {\n",
       "        text-align: right;\n",
       "    }\n",
       "</style>\n",
       "<table border=\"1\" class=\"dataframe\">\n",
       "  <thead>\n",
       "    <tr style=\"text-align: right;\">\n",
       "      <th></th>\n",
       "      <th>order_id</th>\n",
       "      <th>order_item_id</th>\n",
       "      <th>product_id</th>\n",
       "      <th>seller_id</th>\n",
       "      <th>shipping_limit_date</th>\n",
       "      <th>price</th>\n",
       "      <th>freight_value</th>\n",
       "    </tr>\n",
       "  </thead>\n",
       "  <tbody>\n",
       "    <tr>\n",
       "      <th>32</th>\n",
       "      <td>00143d0f86d6fbd9f9b38ab440ac16f5</td>\n",
       "      <td>1</td>\n",
       "      <td>e95ee6822b66ac6058e2e4aff656071a</td>\n",
       "      <td>a17f621c590ea0fab3d5d883e1630ec6</td>\n",
       "      <td>2017-10-20 16:07:52</td>\n",
       "      <td>21.33</td>\n",
       "      <td>15.1</td>\n",
       "    </tr>\n",
       "    <tr>\n",
       "      <th>33</th>\n",
       "      <td>00143d0f86d6fbd9f9b38ab440ac16f5</td>\n",
       "      <td>2</td>\n",
       "      <td>e95ee6822b66ac6058e2e4aff656071a</td>\n",
       "      <td>a17f621c590ea0fab3d5d883e1630ec6</td>\n",
       "      <td>2017-10-20 16:07:52</td>\n",
       "      <td>21.33</td>\n",
       "      <td>15.1</td>\n",
       "    </tr>\n",
       "    <tr>\n",
       "      <th>34</th>\n",
       "      <td>00143d0f86d6fbd9f9b38ab440ac16f5</td>\n",
       "      <td>3</td>\n",
       "      <td>e95ee6822b66ac6058e2e4aff656071a</td>\n",
       "      <td>a17f621c590ea0fab3d5d883e1630ec6</td>\n",
       "      <td>2017-10-20 16:07:52</td>\n",
       "      <td>21.33</td>\n",
       "      <td>15.1</td>\n",
       "    </tr>\n",
       "  </tbody>\n",
       "</table>\n",
       "</div>"
      ],
      "text/plain": [
       "                            order_id  order_item_id  \\\n",
       "32  00143d0f86d6fbd9f9b38ab440ac16f5              1   \n",
       "33  00143d0f86d6fbd9f9b38ab440ac16f5              2   \n",
       "34  00143d0f86d6fbd9f9b38ab440ac16f5              3   \n",
       "\n",
       "                          product_id                         seller_id  \\\n",
       "32  e95ee6822b66ac6058e2e4aff656071a  a17f621c590ea0fab3d5d883e1630ec6   \n",
       "33  e95ee6822b66ac6058e2e4aff656071a  a17f621c590ea0fab3d5d883e1630ec6   \n",
       "34  e95ee6822b66ac6058e2e4aff656071a  a17f621c590ea0fab3d5d883e1630ec6   \n",
       "\n",
       "    shipping_limit_date  price  freight_value  \n",
       "32  2017-10-20 16:07:52  21.33           15.1  \n",
       "33  2017-10-20 16:07:52  21.33           15.1  \n",
       "34  2017-10-20 16:07:52  21.33           15.1  "
      ]
     },
     "execution_count": 27,
     "metadata": {},
     "output_type": "execute_result"
    }
   ],
   "source": [
    "order_items[order_items['order_id'] == '00143d0f86d6fbd9f9b38ab440ac16f5']"
   ]
  },
  {
   "cell_type": "code",
   "execution_count": 17,
   "id": "46144463-fd52-44bb-941a-75c057abe9df",
   "metadata": {},
   "outputs": [],
   "source": [
    "payments = pd.read_csv('C:/Users/elley/Desktop/Python/project_4_portfolio/ecommerce/olist_order_payments.csv')"
   ]
  },
  {
   "cell_type": "code",
   "execution_count": 61,
   "id": "da60ad48-74e8-40ae-bd93-aef930829033",
   "metadata": {},
   "outputs": [
    {
     "data": {
      "text/html": [
       "<div>\n",
       "<style scoped>\n",
       "    .dataframe tbody tr th:only-of-type {\n",
       "        vertical-align: middle;\n",
       "    }\n",
       "\n",
       "    .dataframe tbody tr th {\n",
       "        vertical-align: top;\n",
       "    }\n",
       "\n",
       "    .dataframe thead th {\n",
       "        text-align: right;\n",
       "    }\n",
       "</style>\n",
       "<table border=\"1\" class=\"dataframe\">\n",
       "  <thead>\n",
       "    <tr style=\"text-align: right;\">\n",
       "      <th></th>\n",
       "      <th>order_id</th>\n",
       "      <th>payment_sequential</th>\n",
       "      <th>payment_type</th>\n",
       "      <th>payment_installments</th>\n",
       "      <th>payment_value</th>\n",
       "    </tr>\n",
       "  </thead>\n",
       "  <tbody>\n",
       "    <tr>\n",
       "      <th>0</th>\n",
       "      <td>b81ef226f3fe1789b1e8b2acac839d17</td>\n",
       "      <td>1</td>\n",
       "      <td>credit_card</td>\n",
       "      <td>8</td>\n",
       "      <td>99.33</td>\n",
       "    </tr>\n",
       "  </tbody>\n",
       "</table>\n",
       "</div>"
      ],
      "text/plain": [
       "                           order_id  payment_sequential payment_type  \\\n",
       "0  b81ef226f3fe1789b1e8b2acac839d17                   1  credit_card   \n",
       "\n",
       "   payment_installments  payment_value  \n",
       "0                     8          99.33  "
      ]
     },
     "execution_count": 61,
     "metadata": {},
     "output_type": "execute_result"
    }
   ],
   "source": [
    "payments.head(1)"
   ]
  },
  {
   "cell_type": "code",
   "execution_count": 30,
   "id": "54b0298b-7439-4da5-94ce-45749bce31e5",
   "metadata": {},
   "outputs": [
    {
     "data": {
      "text/html": [
       "<div>\n",
       "<style scoped>\n",
       "    .dataframe tbody tr th:only-of-type {\n",
       "        vertical-align: middle;\n",
       "    }\n",
       "\n",
       "    .dataframe tbody tr th {\n",
       "        vertical-align: top;\n",
       "    }\n",
       "\n",
       "    .dataframe thead th {\n",
       "        text-align: right;\n",
       "    }\n",
       "</style>\n",
       "<table border=\"1\" class=\"dataframe\">\n",
       "  <thead>\n",
       "    <tr style=\"text-align: right;\">\n",
       "      <th></th>\n",
       "      <th>order_id</th>\n",
       "      <th>payment_sequential</th>\n",
       "      <th>payment_type</th>\n",
       "      <th>payment_installments</th>\n",
       "      <th>payment_value</th>\n",
       "    </tr>\n",
       "  </thead>\n",
       "  <tbody>\n",
       "    <tr>\n",
       "      <th>29413</th>\n",
       "      <td>00143d0f86d6fbd9f9b38ab440ac16f5</td>\n",
       "      <td>1</td>\n",
       "      <td>credit_card</td>\n",
       "      <td>1</td>\n",
       "      <td>109.29</td>\n",
       "    </tr>\n",
       "  </tbody>\n",
       "</table>\n",
       "</div>"
      ],
      "text/plain": [
       "                               order_id  payment_sequential payment_type  \\\n",
       "29413  00143d0f86d6fbd9f9b38ab440ac16f5                   1  credit_card   \n",
       "\n",
       "       payment_installments  payment_value  \n",
       "29413                     1         109.29  "
      ]
     },
     "execution_count": 30,
     "metadata": {},
     "output_type": "execute_result"
    }
   ],
   "source": [
    "payments[payments['order_id'] == '00143d0f86d6fbd9f9b38ab440ac16f5']"
   ]
  },
  {
   "cell_type": "markdown",
   "id": "2ede7742-7fe6-4b9b-a6b0-27134f05e03a",
   "metadata": {},
   "source": [
    "- Sales 계산시 payment_value 사용"
   ]
  },
  {
   "cell_type": "code",
   "execution_count": 62,
   "id": "03c910fd-c70a-44e8-ad7d-483728b362b2",
   "metadata": {},
   "outputs": [],
   "source": [
    "payments.to_csv('C:/Users/elley/Desktop/Python/project_4_portfolio/ecommerce/cleaned_csv/payments.csv')"
   ]
  },
  {
   "cell_type": "markdown",
   "id": "755757ca-da24-4748-89d7-b5fd2bbcfb36",
   "metadata": {},
   "source": [
    "- Profit 계산하기 위해 order_item 데이터셋에서 최대구매갯수 행만 남기고 중복되는 행 제거\n",
    "  - 새로운 테이블명: items"
   ]
  },
  {
   "cell_type": "code",
   "execution_count": 42,
   "id": "88d913e4-c29b-41c6-a172-9ef2d34758fc",
   "metadata": {},
   "outputs": [
    {
     "data": {
      "text/plain": [
       "(98666, 7)"
      ]
     },
     "execution_count": 42,
     "metadata": {},
     "output_type": "execute_result"
    }
   ],
   "source": [
    "result = order_items.loc[order_items.groupby('order_id')['order_item_id'].idxmax()]\n",
    "items = result\n",
    "items.shape"
   ]
  },
  {
   "cell_type": "markdown",
   "id": "7409fed7-f17f-44bc-bd46-93c9b751c4b7",
   "metadata": {},
   "source": [
    "- items 테이블에서 profit 컬럼 새로 만듦"
   ]
  },
  {
   "cell_type": "code",
   "execution_count": 46,
   "id": "fb1e403e-1e43-4c08-b409-f002f3326e14",
   "metadata": {},
   "outputs": [],
   "source": [
    "items['profit'] = items['order_item_id']*items['price']"
   ]
  },
  {
   "cell_type": "markdown",
   "id": "3dd520d9-95fe-41aa-96f6-dd2d2353336a",
   "metadata": {},
   "source": [
    "- items 테이블에서 order_item_id 컬럼명을 알아보기 쉽게 아이템 개수 컬럼이름으로 변경 (item_count) "
   ]
  },
  {
   "cell_type": "code",
   "execution_count": 53,
   "id": "e2d2341d-c96a-4400-9714-75ce42a34b2f",
   "metadata": {},
   "outputs": [],
   "source": [
    "items = items.rename(columns={'order_item_id': 'item_count'})"
   ]
  },
  {
   "cell_type": "code",
   "execution_count": 55,
   "id": "64112a06-fb33-4a84-851d-d74f9aae9083",
   "metadata": {},
   "outputs": [
    {
     "data": {
      "text/html": [
       "<div>\n",
       "<style scoped>\n",
       "    .dataframe tbody tr th:only-of-type {\n",
       "        vertical-align: middle;\n",
       "    }\n",
       "\n",
       "    .dataframe tbody tr th {\n",
       "        vertical-align: top;\n",
       "    }\n",
       "\n",
       "    .dataframe thead th {\n",
       "        text-align: right;\n",
       "    }\n",
       "</style>\n",
       "<table border=\"1\" class=\"dataframe\">\n",
       "  <thead>\n",
       "    <tr style=\"text-align: right;\">\n",
       "      <th></th>\n",
       "      <th>order_id</th>\n",
       "      <th>item_count</th>\n",
       "      <th>product_id</th>\n",
       "      <th>seller_id</th>\n",
       "      <th>shipping_limit_date</th>\n",
       "      <th>price</th>\n",
       "      <th>freight_value</th>\n",
       "      <th>profit</th>\n",
       "    </tr>\n",
       "  </thead>\n",
       "  <tbody>\n",
       "    <tr>\n",
       "      <th>0</th>\n",
       "      <td>00010242fe8c5a6d1ba2dd792cb16214</td>\n",
       "      <td>1</td>\n",
       "      <td>4244733e06e7ecb4970a6e2683c13e61</td>\n",
       "      <td>48436dade18ac8b2bce089ec2a041202</td>\n",
       "      <td>2017-09-19 09:45:35</td>\n",
       "      <td>58.9</td>\n",
       "      <td>13.29</td>\n",
       "      <td>58.9</td>\n",
       "    </tr>\n",
       "  </tbody>\n",
       "</table>\n",
       "</div>"
      ],
      "text/plain": [
       "                           order_id  item_count  \\\n",
       "0  00010242fe8c5a6d1ba2dd792cb16214           1   \n",
       "\n",
       "                         product_id                         seller_id  \\\n",
       "0  4244733e06e7ecb4970a6e2683c13e61  48436dade18ac8b2bce089ec2a041202   \n",
       "\n",
       "   shipping_limit_date  price  freight_value  profit  \n",
       "0  2017-09-19 09:45:35   58.9          13.29    58.9  "
      ]
     },
     "execution_count": 55,
     "metadata": {},
     "output_type": "execute_result"
    }
   ],
   "source": [
    "items.head(1)"
   ]
  },
  {
   "cell_type": "code",
   "execution_count": 60,
   "id": "3e4f585d-ff9c-4f3b-9a98-ee42db984c36",
   "metadata": {},
   "outputs": [],
   "source": [
    "items.to_csv('C:/Users/elley/Desktop/Python/project_4_portfolio/ecommerce/items.csv')"
   ]
  },
  {
   "cell_type": "markdown",
   "id": "4e5bb66c-1b08-4020-a154-d6dcb4c9cf86",
   "metadata": {},
   "source": [
    "## 4. datetime 유형으로 배달시간 변경 & 오류 검수"
   ]
  },
  {
   "cell_type": "code",
   "execution_count": 33,
   "id": "eb1bb933-f73f-4e92-b60d-360bba5c8a24",
   "metadata": {},
   "outputs": [],
   "source": [
    "orders = pd.read_csv('C:/Users/elley/Desktop/Python/project_4_portfolio/ecommerce/olist_orders.csv')"
   ]
  },
  {
   "cell_type": "code",
   "execution_count": 35,
   "id": "d972462c-1909-4257-a6e0-473ca6ad34cc",
   "metadata": {},
   "outputs": [
    {
     "name": "stdout",
     "output_type": "stream",
     "text": [
      "<class 'pandas.core.frame.DataFrame'>\n",
      "RangeIndex: 99441 entries, 0 to 99440\n",
      "Data columns (total 8 columns):\n",
      " #   Column                         Non-Null Count  Dtype \n",
      "---  ------                         --------------  ----- \n",
      " 0   order_id                       99441 non-null  object\n",
      " 1   customer_id                    99441 non-null  object\n",
      " 2   order_status                   99441 non-null  object\n",
      " 3   order_purchase_timestamp       99441 non-null  object\n",
      " 4   order_approved_at              99281 non-null  object\n",
      " 5   order_delivered_carrier_date   97658 non-null  object\n",
      " 6   order_delivered_customer_date  96476 non-null  object\n",
      " 7   order_estimated_delivery_date  99441 non-null  object\n",
      "dtypes: object(8)\n",
      "memory usage: 6.1+ MB\n"
     ]
    }
   ],
   "source": [
    "orders.info()"
   ]
  },
  {
   "cell_type": "code",
   "execution_count": 38,
   "id": "489c07d2-66c5-4711-9e30-2cbf65ed3d1f",
   "metadata": {},
   "outputs": [
    {
     "name": "stdout",
     "output_type": "stream",
     "text": [
      "order_id                                 object\n",
      "customer_id                              object\n",
      "order_status                             object\n",
      "order_purchase_timestamp         datetime64[ns]\n",
      "order_approved_at                datetime64[ns]\n",
      "order_delivered_carrier_date     datetime64[ns]\n",
      "order_delivered_customer_date    datetime64[ns]\n",
      "order_estimated_delivery_date    datetime64[ns]\n",
      "dtype: object\n"
     ]
    }
   ],
   "source": [
    "# column 3, 4, 5, 6, 7 datetime으로 변환\n",
    "orders[orders.columns[[3,4,5,6,7]]] = orders[orders.columns[[3,4,5,6,7]]].apply(pd.to_datetime)\n",
    "\n",
    "print(orders.dtypes)"
   ]
  },
  {
   "cell_type": "code",
   "execution_count": 40,
   "id": "607d37ca-8ce8-49c1-a47b-b46dc91f490a",
   "metadata": {},
   "outputs": [
    {
     "data": {
      "text/html": [
       "<div>\n",
       "<style scoped>\n",
       "    .dataframe tbody tr th:only-of-type {\n",
       "        vertical-align: middle;\n",
       "    }\n",
       "\n",
       "    .dataframe tbody tr th {\n",
       "        vertical-align: top;\n",
       "    }\n",
       "\n",
       "    .dataframe thead th {\n",
       "        text-align: right;\n",
       "    }\n",
       "</style>\n",
       "<table border=\"1\" class=\"dataframe\">\n",
       "  <thead>\n",
       "    <tr style=\"text-align: right;\">\n",
       "      <th></th>\n",
       "      <th>order_id</th>\n",
       "      <th>customer_id</th>\n",
       "      <th>order_status</th>\n",
       "      <th>order_purchase_timestamp</th>\n",
       "      <th>order_approved_at</th>\n",
       "      <th>order_delivered_carrier_date</th>\n",
       "      <th>order_delivered_customer_date</th>\n",
       "      <th>order_estimated_delivery_date</th>\n",
       "    </tr>\n",
       "  </thead>\n",
       "  <tbody>\n",
       "    <tr>\n",
       "      <th>0</th>\n",
       "      <td>e481f51cbdc54678b7cc49136f2d6af7</td>\n",
       "      <td>9ef432eb6251297304e76186b10a928d</td>\n",
       "      <td>delivered</td>\n",
       "      <td>2017-10-02 10:56:33</td>\n",
       "      <td>2017-10-02 11:07:15</td>\n",
       "      <td>2017-10-04 19:55:00</td>\n",
       "      <td>2017-10-10 21:25:13</td>\n",
       "      <td>2017-10-18</td>\n",
       "    </tr>\n",
       "  </tbody>\n",
       "</table>\n",
       "</div>"
      ],
      "text/plain": [
       "                           order_id                       customer_id  \\\n",
       "0  e481f51cbdc54678b7cc49136f2d6af7  9ef432eb6251297304e76186b10a928d   \n",
       "\n",
       "  order_status order_purchase_timestamp   order_approved_at  \\\n",
       "0    delivered      2017-10-02 10:56:33 2017-10-02 11:07:15   \n",
       "\n",
       "  order_delivered_carrier_date order_delivered_customer_date  \\\n",
       "0          2017-10-04 19:55:00           2017-10-10 21:25:13   \n",
       "\n",
       "  order_estimated_delivery_date  \n",
       "0                    2017-10-18  "
      ]
     },
     "execution_count": 40,
     "metadata": {},
     "output_type": "execute_result"
    }
   ],
   "source": [
    "orders.head(1)"
   ]
  },
  {
   "cell_type": "markdown",
   "id": "284294c5-bcf9-40d7-9688-595028bfbf40",
   "metadata": {},
   "source": [
    "- 주문 중 주문날짜 오류 검수\n",
    "  1) order_purchase_timestamp > order_approved_at --> 오류없음\n",
    "  2) order_approved_at > order_delivered_carrier_date --> 오류있음 (1359건)\n",
    "     - 1359건 삭제 후 3번 검수 진행    \n",
    "  3) order_delivered_carrier_date > order_delivered_customer_date"
   ]
  },
  {
   "cell_type": "code",
   "execution_count": 63,
   "id": "bbbe5b07-5622-4cb7-9f00-110a6b67b976",
   "metadata": {},
   "outputs": [
    {
     "data": {
      "text/html": [
       "<div>\n",
       "<style scoped>\n",
       "    .dataframe tbody tr th:only-of-type {\n",
       "        vertical-align: middle;\n",
       "    }\n",
       "\n",
       "    .dataframe tbody tr th {\n",
       "        vertical-align: top;\n",
       "    }\n",
       "\n",
       "    .dataframe thead th {\n",
       "        text-align: right;\n",
       "    }\n",
       "</style>\n",
       "<table border=\"1\" class=\"dataframe\">\n",
       "  <thead>\n",
       "    <tr style=\"text-align: right;\">\n",
       "      <th></th>\n",
       "      <th>order_id</th>\n",
       "      <th>customer_id</th>\n",
       "      <th>order_status</th>\n",
       "      <th>order_purchase_timestamp</th>\n",
       "      <th>order_approved_at</th>\n",
       "      <th>order_delivered_carrier_date</th>\n",
       "      <th>order_delivered_customer_date</th>\n",
       "      <th>order_estimated_delivery_date</th>\n",
       "    </tr>\n",
       "  </thead>\n",
       "  <tbody>\n",
       "  </tbody>\n",
       "</table>\n",
       "</div>"
      ],
      "text/plain": [
       "Empty DataFrame\n",
       "Columns: [order_id, customer_id, order_status, order_purchase_timestamp, order_approved_at, order_delivered_carrier_date, order_delivered_customer_date, order_estimated_delivery_date]\n",
       "Index: []"
      ]
     },
     "execution_count": 63,
     "metadata": {},
     "output_type": "execute_result"
    }
   ],
   "source": [
    "orders[orders[\"order_purchase_timestamp\"] > orders[\"order_approved_at\"]]"
   ]
  },
  {
   "cell_type": "code",
   "execution_count": 65,
   "id": "4ec5854a-151f-4d9d-825c-0cebeca281ac",
   "metadata": {},
   "outputs": [],
   "source": [
    "error_date_1 = orders[orders[\"order_approved_at\"] > orders[\"order_delivered_carrier_date\"]]"
   ]
  },
  {
   "cell_type": "code",
   "execution_count": 66,
   "id": "3638ad90-522f-439f-8faf-c0ff0699aa11",
   "metadata": {},
   "outputs": [
    {
     "data": {
      "text/plain": [
       "(1359, 8)"
      ]
     },
     "execution_count": 66,
     "metadata": {},
     "output_type": "execute_result"
    }
   ],
   "source": [
    "error_date_1.shape"
   ]
  },
  {
   "cell_type": "markdown",
   "id": "3d6de500-4ed5-4a50-aeb2-6f113447be46",
   "metadata": {},
   "source": [
    "- 주문이 운송업체에게 전달된 날짜가 주문승인된 날짜보다 이른 경우 - 1359건\n",
    "  - 오류이므로 삭제"
   ]
  },
  {
   "cell_type": "code",
   "execution_count": 70,
   "id": "1509f775-380b-4062-9818-793000cf419f",
   "metadata": {},
   "outputs": [],
   "source": [
    "error_excluded = orders.merge(error_date_1, on=orders.columns.tolist(), how='left', indicator=True)\n",
    "error_excluded = error_excluded[error_excluded['_merge'] == 'left_only'].drop('_merge', axis=1)"
   ]
  },
  {
   "cell_type": "code",
   "execution_count": 71,
   "id": "dc50d158-961c-40e0-befc-136f14ac88fb",
   "metadata": {},
   "outputs": [
    {
     "data": {
      "text/plain": [
       "(98082, 8)"
      ]
     },
     "execution_count": 71,
     "metadata": {},
     "output_type": "execute_result"
    }
   ],
   "source": [
    "error_excluded.shape"
   ]
  },
  {
   "cell_type": "code",
   "execution_count": 74,
   "id": "03d5b7b0-77f9-4dd9-a4a2-0fb5336fb264",
   "metadata": {},
   "outputs": [],
   "source": [
    "error_date_2 = error_excluded[error_excluded[\"order_delivered_carrier_date\"] > error_excluded[\"order_delivered_customer_date\"]]"
   ]
  },
  {
   "cell_type": "code",
   "execution_count": 75,
   "id": "df915f01-2776-42c9-8554-c48f7310b049",
   "metadata": {},
   "outputs": [
    {
     "data": {
      "text/plain": [
       "(23, 8)"
      ]
     },
     "execution_count": 75,
     "metadata": {},
     "output_type": "execute_result"
    }
   ],
   "source": [
    "error_date_2.shape"
   ]
  },
  {
   "cell_type": "markdown",
   "id": "0a512bc2-0f2c-44fa-84d5-185f3452f417",
   "metadata": {},
   "source": [
    "- 주문이 고객에게 도착한 날짜가 주문이 운송업체에게 전달된 날짜보다 이른 경우 - 23건\n",
    "  - 오류이므로 삭제"
   ]
  },
  {
   "cell_type": "code",
   "execution_count": 76,
   "id": "5b35529b-4992-4de8-a0c1-46e683a2535c",
   "metadata": {},
   "outputs": [],
   "source": [
    "error_excluded_2 = error_excluded.merge(error_date_2, on=error_excluded.columns.tolist(), how='left', indicator=True)\n",
    "error_excluded_2 = error_excluded_2[error_excluded_2['_merge'] == 'left_only'].drop('_merge', axis=1)"
   ]
  },
  {
   "cell_type": "code",
   "execution_count": 77,
   "id": "85915d93-9a77-4768-8fac-9884a8887c0e",
   "metadata": {},
   "outputs": [
    {
     "data": {
      "text/plain": [
       "(98059, 8)"
      ]
     },
     "execution_count": 77,
     "metadata": {},
     "output_type": "execute_result"
    }
   ],
   "source": [
    "error_excluded_2.shape"
   ]
  },
  {
   "cell_type": "code",
   "execution_count": 80,
   "id": "b1510405-a990-48e8-8dae-f18e345f23aa",
   "metadata": {},
   "outputs": [
    {
     "name": "stdout",
     "output_type": "stream",
     "text": [
      "(98059, 8)\n"
     ]
    }
   ],
   "source": [
    "orders = error_excluded_2\n",
    "print(orders.shape)"
   ]
  },
  {
   "cell_type": "code",
   "execution_count": 81,
   "id": "4a177362-45a9-4e6a-b780-92c3fd333689",
   "metadata": {},
   "outputs": [],
   "source": [
    "orders.to_csv('C:/Users/elley/Desktop/Python/project_4_portfolio/ecommerce/cleaned_csv/orders.csv')"
   ]
  },
  {
   "cell_type": "markdown",
   "id": "9a0d078b-3294-4906-8479-0cab8c2e6f68",
   "metadata": {},
   "source": [
    "### 1-2) 영어 상품명 한국어로 바꾸기"
   ]
  },
  {
   "cell_type": "code",
   "execution_count": 2,
   "id": "1ce557c1-39af-4af2-800e-b87e8201307a",
   "metadata": {},
   "outputs": [],
   "source": [
    "english_product_name = pd.read_csv('C:/Users/elley/Desktop/Python/project_4_portfolio/ecommerce/product_category_name_translation.csv')"
   ]
  },
  {
   "cell_type": "code",
   "execution_count": 3,
   "id": "b69ad7bf-f563-4c02-8045-026aba35bcd1",
   "metadata": {},
   "outputs": [
    {
     "data": {
      "text/html": [
       "<div>\n",
       "<style scoped>\n",
       "    .dataframe tbody tr th:only-of-type {\n",
       "        vertical-align: middle;\n",
       "    }\n",
       "\n",
       "    .dataframe tbody tr th {\n",
       "        vertical-align: top;\n",
       "    }\n",
       "\n",
       "    .dataframe thead th {\n",
       "        text-align: right;\n",
       "    }\n",
       "</style>\n",
       "<table border=\"1\" class=\"dataframe\">\n",
       "  <thead>\n",
       "    <tr style=\"text-align: right;\">\n",
       "      <th></th>\n",
       "      <th>product_category_name</th>\n",
       "      <th>product_category_name_english</th>\n",
       "    </tr>\n",
       "  </thead>\n",
       "  <tbody>\n",
       "    <tr>\n",
       "      <th>0</th>\n",
       "      <td>beleza_saude</td>\n",
       "      <td>health_beauty</td>\n",
       "    </tr>\n",
       "    <tr>\n",
       "      <th>1</th>\n",
       "      <td>informatica_acessorios</td>\n",
       "      <td>computers_accessories</td>\n",
       "    </tr>\n",
       "  </tbody>\n",
       "</table>\n",
       "</div>"
      ],
      "text/plain": [
       "    product_category_name product_category_name_english\n",
       "0            beleza_saude                 health_beauty\n",
       "1  informatica_acessorios         computers_accessories"
      ]
     },
     "execution_count": 3,
     "metadata": {},
     "output_type": "execute_result"
    }
   ],
   "source": [
    "english_product_name.head(2)"
   ]
  },
  {
   "cell_type": "code",
   "execution_count": 4,
   "id": "a87e6890-b203-48a9-973e-8ddddfac89eb",
   "metadata": {},
   "outputs": [],
   "source": [
    "# 기존 상품의 영어명을 한글명으로 매핑 (A->X, B->Y, C->Z)\n",
    "mapping = {'health_beauty': '건강/뷰티', 'computers_accessories': '컴퓨터/액세서리', 'auto':'자동차', \n",
    "           'bed_bath_table': '침구/욕실/테이블', 'furniture_decor': '가구/인테리어', 'sports_leisure':'스포츠/레저',\n",
    "           'perfumery': '향수', 'housewares':'주방용품', 'telephony':'통신기기', 'watches_gifts':'시계/선물', \n",
    "           'food_drink':'음식/음료', 'baby':'유아용품', 'stationery':'문구', \n",
    "           'tablets_printing_image': '태블릿/인쇄/이미지', 'toys':'장난감', 'fixed_telephony':'유선 전화',\n",
    "           'garden_tools':'정원 도구', 'fashion_bags_accessories': '패션 가방/액세서리', \n",
    "           'small_appliances':'소형 가전', 'consoles_games': '게임 콘솔/게임', 'audio':'오디오', \n",
    "           'fashion_shoes':'패션 신발', 'cool_stuff':'특별 상품', 'luggage_accessories':'여행 가방/액세서리',\n",
    "           'air_conditioning':'에어컨', 'construction_tools_construction':'건설 도구/건설', \n",
    "           'kitchen_dining_laundry_garden_furniture': '주방/식당/세탁/정원 가구', \n",
    "           'costruction_tools_garden':'건설 도구/정원', 'fashion_male_clothing':'남성 의류', \n",
    "           'pet_shop':'애완동물 용품', 'office_furniture':'사무용 가구', 'market_place':'마켓플레이스',\n",
    "           'electronics':'전자제품', 'home_appliances':'가전제품', 'party_supplies':'파티 용품', \n",
    "           'home_confort':'홈 컴포트', 'costruction_tools_tools':'건설 도구', \n",
    "           'agro_industry_and_commerce': '농업/산업/상업', 'furniture_mattress_and_upholstery':'가구/매트리스/침구',\n",
    "           'books_technical':'기술 서적', 'home_construction':'주택 건설', 'musical_instruments': '악기',\n",
    "           'furniture_living_room':'거실 가구', 'construction_tools_lights':'건설 도구/조명',\n",
    "           'industry_commerce_and_business':'산업/상업/비즈니스', 'food':'식품', 'art':'예술', \n",
    "           'furniture_bedroom':'침실 가구', 'books_general_interest':'일반 관심 서적', \n",
    "           'construction_tools_safety':'건설 도구/안전', 'fashion_underwear_beach': '언더웨어/비치웨어',\n",
    "           'fashion_sport':'스포츠 의류', 'signaling_and_security':'신호/보안', 'computers':'컴퓨터', \n",
    "           'christmas_supplies':'크리스마스 용품', 'fashio_female_clothing':'여성 의류', \n",
    "           'home_appliances_2':'가전제품 2', 'books_imported':'수입 서적', 'drinks':'음료', 'cine_photo':'영화/사진',\n",
    "           'la_cuisine':'주방 용품', 'music': '음악', 'home_comfort_2':'홈 컴포트 2', \n",
    "           'small_appliances_home_oven_and_coffee': '소형 가전/가정용 오븐/커피', \n",
    "           'cds_dvds_musicals':'CD/DVD/뮤지컬', 'dvds_blu_ray':'DVD/블루레이', 'flowers':'꽃', \n",
    "           'arts_and_craftmanship':'공예/수공예', 'diapers_and_hygiene':'기저귀/위생용품',\n",
    "           'fashion_childrens_clothes':'아동 의류', 'security_and_services':'보안/서비스'}\n",
    "english_product_name['korean'] = english_product_name['product_category_name_english'].map(mapping)"
   ]
  },
  {
   "cell_type": "code",
   "execution_count": 57,
   "id": "94e58537-636c-4d95-adf7-965455b72abf",
   "metadata": {},
   "outputs": [
    {
     "data": {
      "text/html": [
       "<div>\n",
       "<style scoped>\n",
       "    .dataframe tbody tr th:only-of-type {\n",
       "        vertical-align: middle;\n",
       "    }\n",
       "\n",
       "    .dataframe tbody tr th {\n",
       "        vertical-align: top;\n",
       "    }\n",
       "\n",
       "    .dataframe thead th {\n",
       "        text-align: right;\n",
       "    }\n",
       "</style>\n",
       "<table border=\"1\" class=\"dataframe\">\n",
       "  <thead>\n",
       "    <tr style=\"text-align: right;\">\n",
       "      <th></th>\n",
       "      <th>product_category_name</th>\n",
       "      <th>product_category_name_english</th>\n",
       "      <th>korean</th>\n",
       "    </tr>\n",
       "  </thead>\n",
       "  <tbody>\n",
       "    <tr>\n",
       "      <th>0</th>\n",
       "      <td>beleza_saude</td>\n",
       "      <td>health_beauty</td>\n",
       "      <td>건강/뷰티</td>\n",
       "    </tr>\n",
       "    <tr>\n",
       "      <th>1</th>\n",
       "      <td>informatica_acessorios</td>\n",
       "      <td>computers_accessories</td>\n",
       "      <td>컴퓨터/액세서리</td>\n",
       "    </tr>\n",
       "  </tbody>\n",
       "</table>\n",
       "</div>"
      ],
      "text/plain": [
       "    product_category_name product_category_name_english    korean\n",
       "0            beleza_saude                 health_beauty     건강/뷰티\n",
       "1  informatica_acessorios         computers_accessories  컴퓨터/액세서리"
      ]
     },
     "execution_count": 57,
     "metadata": {},
     "output_type": "execute_result"
    }
   ],
   "source": [
    "english_product_name.head(2)"
   ]
  },
  {
   "cell_type": "code",
   "execution_count": 58,
   "id": "6602715f-6cac-46c4-ad6f-cf080ab15407",
   "metadata": {},
   "outputs": [],
   "source": [
    "english_product_name.to_csv('C:/Users/elley/Desktop/Python/project_4_portfolio/ecommerce/product_name.csv', encoding=\"utf-8-sig\")"
   ]
  },
  {
   "cell_type": "markdown",
   "id": "45fdb6e1-1544-46ed-8961-b8e01435f7ac",
   "metadata": {},
   "source": [
    "## 2. 위도/경도 대표 위치로 바꾸기"
   ]
  },
  {
   "cell_type": "code",
   "execution_count": 8,
   "id": "324ea359-63bc-44a6-91e3-d386bb946e3c",
   "metadata": {},
   "outputs": [],
   "source": [
    "customer = pd.read_csv('C:/Users/elley/Desktop/Python/project_4_portfolio/ecommerce/olist_customers_dataset.csv')"
   ]
  },
  {
   "cell_type": "code",
   "execution_count": 9,
   "id": "77cbec48-bb56-4be5-8ec0-710953e2cc33",
   "metadata": {},
   "outputs": [
    {
     "data": {
      "text/html": [
       "<div>\n",
       "<style scoped>\n",
       "    .dataframe tbody tr th:only-of-type {\n",
       "        vertical-align: middle;\n",
       "    }\n",
       "\n",
       "    .dataframe tbody tr th {\n",
       "        vertical-align: top;\n",
       "    }\n",
       "\n",
       "    .dataframe thead th {\n",
       "        text-align: right;\n",
       "    }\n",
       "</style>\n",
       "<table border=\"1\" class=\"dataframe\">\n",
       "  <thead>\n",
       "    <tr style=\"text-align: right;\">\n",
       "      <th></th>\n",
       "      <th>customer_id</th>\n",
       "      <th>customer_unique_id</th>\n",
       "      <th>customer_zip_code_prefix</th>\n",
       "      <th>customer_city</th>\n",
       "      <th>customer_state</th>\n",
       "    </tr>\n",
       "  </thead>\n",
       "  <tbody>\n",
       "    <tr>\n",
       "      <th>0</th>\n",
       "      <td>06b8999e2fba1a1fbc88172c00ba8bc7</td>\n",
       "      <td>861eff4711a542e4b93843c6dd7febb0</td>\n",
       "      <td>14409</td>\n",
       "      <td>franca</td>\n",
       "      <td>SP</td>\n",
       "    </tr>\n",
       "    <tr>\n",
       "      <th>1</th>\n",
       "      <td>18955e83d337fd6b2def6b18a428ac77</td>\n",
       "      <td>290c77bc529b7ac935b93aa66c333dc3</td>\n",
       "      <td>9790</td>\n",
       "      <td>sao bernardo do campo</td>\n",
       "      <td>SP</td>\n",
       "    </tr>\n",
       "  </tbody>\n",
       "</table>\n",
       "</div>"
      ],
      "text/plain": [
       "                        customer_id                customer_unique_id  \\\n",
       "0  06b8999e2fba1a1fbc88172c00ba8bc7  861eff4711a542e4b93843c6dd7febb0   \n",
       "1  18955e83d337fd6b2def6b18a428ac77  290c77bc529b7ac935b93aa66c333dc3   \n",
       "\n",
       "   customer_zip_code_prefix          customer_city customer_state  \n",
       "0                     14409                 franca             SP  \n",
       "1                      9790  sao bernardo do campo             SP  "
      ]
     },
     "execution_count": 9,
     "metadata": {},
     "output_type": "execute_result"
    }
   ],
   "source": [
    "customer.head(2)"
   ]
  },
  {
   "cell_type": "code",
   "execution_count": 10,
   "id": "eb7cd5de-876d-44ae-911f-6e2d810ee959",
   "metadata": {},
   "outputs": [],
   "source": [
    "mapping = {'AC':-9.9747, 'AL':-9.6667, 'AP':0.0330, 'AM':-3.4653, 'BA':-12.9714, 'CE':-3.7172, 'ES':-20.3155, \n",
    "           'GO':-16.6869, 'MA':-2.5387, 'MT':-15.5989, 'MS':-20.7722, 'MG':-19.9167, 'PA':-1.4558, \n",
    "           'PB':-7.1200, 'PR':-25.4284, 'PE':-8.0476, 'PI':-5.0892, 'RJ':-22.9068, 'RN':-5.7945, 'RS':-30.0331, \n",
    "           'RO':-8.7617, 'RR':2.8195, 'SC':-27.5969, 'SP':-23.5505, 'SE':-10.9472, 'TO':-10.1845, 'DF':-15.7975}\n",
    "customer['latitude'] = customer['customer_state'].map(mapping)"
   ]
  },
  {
   "cell_type": "code",
   "execution_count": 11,
   "id": "e945bfef-47b7-4cc1-a113-927b85e4bbb1",
   "metadata": {},
   "outputs": [],
   "source": [
    "mapping = {'AC':-67.8100, 'AL':-35.7167, 'AP':-51.0654, 'AM':-62.2159, 'BA':-38.5014, 'CE':-38.5433, \n",
    "           'ES':-40.3128, 'GO':-49.2648, 'MA':-44.2828, 'MT':-56.0949, 'MS':-54.7852, 'MG':-43.9333, \n",
    "           'PA':-48.4902, 'PB':-34.8828, 'PR':-49.2733, 'PE':-34.8770, 'PI':-42.8036, 'RJ':-43.1729,\n",
    "           'RN':-35.2110, 'RS':-51.2300, 'RO':-63.9019, 'RR':-60.6714, 'SC':-48.5495, 'SP':-46.6333,\n",
    "           'SE':-37.0731, 'TO':-48.3337, 'DF':-47.8919}\n",
    "customer['longitude'] = customer['customer_state'].map(mapping)"
   ]
  },
  {
   "cell_type": "code",
   "execution_count": 12,
   "id": "88c4ac44-95e0-4e67-b5db-81cdacb88d00",
   "metadata": {},
   "outputs": [
    {
     "data": {
      "text/html": [
       "<div>\n",
       "<style scoped>\n",
       "    .dataframe tbody tr th:only-of-type {\n",
       "        vertical-align: middle;\n",
       "    }\n",
       "\n",
       "    .dataframe tbody tr th {\n",
       "        vertical-align: top;\n",
       "    }\n",
       "\n",
       "    .dataframe thead th {\n",
       "        text-align: right;\n",
       "    }\n",
       "</style>\n",
       "<table border=\"1\" class=\"dataframe\">\n",
       "  <thead>\n",
       "    <tr style=\"text-align: right;\">\n",
       "      <th></th>\n",
       "      <th>customer_id</th>\n",
       "      <th>customer_unique_id</th>\n",
       "      <th>customer_zip_code_prefix</th>\n",
       "      <th>customer_city</th>\n",
       "      <th>customer_state</th>\n",
       "      <th>latitude</th>\n",
       "      <th>longitude</th>\n",
       "    </tr>\n",
       "  </thead>\n",
       "  <tbody>\n",
       "    <tr>\n",
       "      <th>0</th>\n",
       "      <td>06b8999e2fba1a1fbc88172c00ba8bc7</td>\n",
       "      <td>861eff4711a542e4b93843c6dd7febb0</td>\n",
       "      <td>14409</td>\n",
       "      <td>franca</td>\n",
       "      <td>SP</td>\n",
       "      <td>-23.5505</td>\n",
       "      <td>-46.6333</td>\n",
       "    </tr>\n",
       "    <tr>\n",
       "      <th>1</th>\n",
       "      <td>18955e83d337fd6b2def6b18a428ac77</td>\n",
       "      <td>290c77bc529b7ac935b93aa66c333dc3</td>\n",
       "      <td>9790</td>\n",
       "      <td>sao bernardo do campo</td>\n",
       "      <td>SP</td>\n",
       "      <td>-23.5505</td>\n",
       "      <td>-46.6333</td>\n",
       "    </tr>\n",
       "    <tr>\n",
       "      <th>2</th>\n",
       "      <td>4e7b3e00288586ebd08712fdd0374a03</td>\n",
       "      <td>060e732b5b29e8181a18229c7b0b2b5e</td>\n",
       "      <td>1151</td>\n",
       "      <td>sao paulo</td>\n",
       "      <td>SP</td>\n",
       "      <td>-23.5505</td>\n",
       "      <td>-46.6333</td>\n",
       "    </tr>\n",
       "  </tbody>\n",
       "</table>\n",
       "</div>"
      ],
      "text/plain": [
       "                        customer_id                customer_unique_id  \\\n",
       "0  06b8999e2fba1a1fbc88172c00ba8bc7  861eff4711a542e4b93843c6dd7febb0   \n",
       "1  18955e83d337fd6b2def6b18a428ac77  290c77bc529b7ac935b93aa66c333dc3   \n",
       "2  4e7b3e00288586ebd08712fdd0374a03  060e732b5b29e8181a18229c7b0b2b5e   \n",
       "\n",
       "   customer_zip_code_prefix          customer_city customer_state  latitude  \\\n",
       "0                     14409                 franca             SP  -23.5505   \n",
       "1                      9790  sao bernardo do campo             SP  -23.5505   \n",
       "2                      1151              sao paulo             SP  -23.5505   \n",
       "\n",
       "   longitude  \n",
       "0   -46.6333  \n",
       "1   -46.6333  \n",
       "2   -46.6333  "
      ]
     },
     "execution_count": 12,
     "metadata": {},
     "output_type": "execute_result"
    }
   ],
   "source": [
    "customer.head(3)"
   ]
  },
  {
   "cell_type": "markdown",
   "id": "5f14a3b5-df14-431f-8db0-029570cc2915",
   "metadata": {},
   "source": [
    "### 1-1) Customer State --> 한국어 명칭으로 바꾸기"
   ]
  },
  {
   "cell_type": "code",
   "execution_count": 13,
   "id": "a6f450e7-c7e6-4277-b1d8-bcf09d125efa",
   "metadata": {},
   "outputs": [],
   "source": [
    "mapping = {'AL':'알라고아스', 'AC': '아크레', 'AM':'아마조나스', 'AP':'아마파', 'BA':'바이아', 'CE':'세아라', 'DF':'연방 지구',\n",
    "           'ES':'에스피리투산투', 'GO':'고이아스', 'MA':'마라냥', 'MG':'미나스제라이스', 'MS':'마투그로수 두 술',\n",
    "           'MT':'마투그로수', 'PA':'파라', 'PB':'파라이바', 'PE':'페르남부쿠', 'PI':'피아우이', 'PR':'파라나',\n",
    "           'RJ':'리우데자네이루', 'RN':'히우그란지 두 노르치', 'RO':'히우그란지 두 술', 'RR':'호라이마', \n",
    "           'RS':'히우그란지 두 술', 'SC':'산타카타리나', 'SE':'세르지피', 'SP':'상파울루', 'TO':'토칸칭스'}\n",
    "customer['kor_state'] = customer['customer_state'].map(mapping)"
   ]
  },
  {
   "cell_type": "code",
   "execution_count": 14,
   "id": "96febd7e-da3f-4183-ba55-c465f9f2a484",
   "metadata": {},
   "outputs": [
    {
     "name": "stdout",
     "output_type": "stream",
     "text": [
      "<class 'pandas.core.frame.DataFrame'>\n",
      "RangeIndex: 99441 entries, 0 to 99440\n",
      "Data columns (total 8 columns):\n",
      " #   Column                    Non-Null Count  Dtype  \n",
      "---  ------                    --------------  -----  \n",
      " 0   customer_id               99441 non-null  object \n",
      " 1   customer_unique_id        99441 non-null  object \n",
      " 2   customer_zip_code_prefix  99441 non-null  int64  \n",
      " 3   customer_city             99441 non-null  object \n",
      " 4   customer_state            99441 non-null  object \n",
      " 5   latitude                  99441 non-null  float64\n",
      " 6   longitude                 99441 non-null  float64\n",
      " 7   kor_state                 99441 non-null  object \n",
      "dtypes: float64(2), int64(1), object(5)\n",
      "memory usage: 6.1+ MB\n"
     ]
    }
   ],
   "source": [
    "customer.info()"
   ]
  },
  {
   "cell_type": "code",
   "execution_count": 15,
   "id": "6d793580-69e4-4ac6-85b2-442dd09c6fa2",
   "metadata": {},
   "outputs": [],
   "source": [
    "customer.to_csv('C:/Users/elley/Desktop/Python/project_4_portfolio/ecommerce/cleaned_csv/customers.csv', encoding=\"utf-8-sig\", index = False)"
   ]
  },
  {
   "cell_type": "code",
   "execution_count": 84,
   "id": "2196a6ab-f40a-42d2-9d81-f733776bae19",
   "metadata": {},
   "outputs": [],
   "source": [
    "reviews = pd.read_csv('C:/Users/elley/Desktop/Python/project_4_portfolio/ecommerce/olist_order_reviews.csv')"
   ]
  },
  {
   "cell_type": "code",
   "execution_count": 85,
   "id": "765ac1b9-2a20-4e14-8937-4a96bed385ce",
   "metadata": {},
   "outputs": [
    {
     "name": "stdout",
     "output_type": "stream",
     "text": [
      "<class 'pandas.core.frame.DataFrame'>\n",
      "RangeIndex: 99224 entries, 0 to 99223\n",
      "Data columns (total 7 columns):\n",
      " #   Column                   Non-Null Count  Dtype \n",
      "---  ------                   --------------  ----- \n",
      " 0   review_id                99224 non-null  object\n",
      " 1   order_id                 99224 non-null  object\n",
      " 2   review_score             99224 non-null  int64 \n",
      " 3   review_comment_title     11568 non-null  object\n",
      " 4   review_comment_message   40977 non-null  object\n",
      " 5   review_creation_date     99224 non-null  object\n",
      " 6   review_answer_timestamp  99224 non-null  object\n",
      "dtypes: int64(1), object(6)\n",
      "memory usage: 5.3+ MB\n"
     ]
    }
   ],
   "source": [
    "reviews.info()"
   ]
  },
  {
   "cell_type": "code",
   "execution_count": 86,
   "id": "41280106-3072-4e44-8041-c8957bd482d1",
   "metadata": {},
   "outputs": [
    {
     "name": "stdout",
     "output_type": "stream",
     "text": [
      "(99224, 3)\n"
     ]
    }
   ],
   "source": [
    "reviews = reviews.drop(reviews.columns[3:7], axis=1)\n",
    "print(reviews.shape)"
   ]
  },
  {
   "cell_type": "code",
   "execution_count": 87,
   "id": "19562a1e-077b-488e-95b7-e62e9b621ede",
   "metadata": {},
   "outputs": [
    {
     "data": {
      "text/html": [
       "<div>\n",
       "<style scoped>\n",
       "    .dataframe tbody tr th:only-of-type {\n",
       "        vertical-align: middle;\n",
       "    }\n",
       "\n",
       "    .dataframe tbody tr th {\n",
       "        vertical-align: top;\n",
       "    }\n",
       "\n",
       "    .dataframe thead th {\n",
       "        text-align: right;\n",
       "    }\n",
       "</style>\n",
       "<table border=\"1\" class=\"dataframe\">\n",
       "  <thead>\n",
       "    <tr style=\"text-align: right;\">\n",
       "      <th></th>\n",
       "      <th>review_id</th>\n",
       "      <th>order_id</th>\n",
       "      <th>review_score</th>\n",
       "    </tr>\n",
       "  </thead>\n",
       "  <tbody>\n",
       "    <tr>\n",
       "      <th>0</th>\n",
       "      <td>7bc2406110b926393aa56f80a40eba40</td>\n",
       "      <td>73fc7af87114b39712e6da79b0a377eb</td>\n",
       "      <td>4</td>\n",
       "    </tr>\n",
       "    <tr>\n",
       "      <th>1</th>\n",
       "      <td>80e641a11e56f04c1ad469d5645fdfde</td>\n",
       "      <td>a548910a1c6147796b98fdf73dbeba33</td>\n",
       "      <td>5</td>\n",
       "    </tr>\n",
       "    <tr>\n",
       "      <th>2</th>\n",
       "      <td>228ce5500dc1d8e020d8d1322874b6f0</td>\n",
       "      <td>f9e4b658b201a9f2ecdecbb34bed034b</td>\n",
       "      <td>5</td>\n",
       "    </tr>\n",
       "  </tbody>\n",
       "</table>\n",
       "</div>"
      ],
      "text/plain": [
       "                          review_id                          order_id  \\\n",
       "0  7bc2406110b926393aa56f80a40eba40  73fc7af87114b39712e6da79b0a377eb   \n",
       "1  80e641a11e56f04c1ad469d5645fdfde  a548910a1c6147796b98fdf73dbeba33   \n",
       "2  228ce5500dc1d8e020d8d1322874b6f0  f9e4b658b201a9f2ecdecbb34bed034b   \n",
       "\n",
       "   review_score  \n",
       "0             4  \n",
       "1             5  \n",
       "2             5  "
      ]
     },
     "execution_count": 87,
     "metadata": {},
     "output_type": "execute_result"
    }
   ],
   "source": [
    "reviews.head(3)"
   ]
  },
  {
   "cell_type": "code",
   "execution_count": 88,
   "id": "824d6323-f6e5-4dcb-acf9-2f8f6025122c",
   "metadata": {},
   "outputs": [],
   "source": [
    "reviews.to_csv('C:/Users/elley/Desktop/Python/project_4_portfolio/ecommerce/cleaned_csv/reviews.csv')"
   ]
  },
  {
   "cell_type": "code",
   "execution_count": null,
   "id": "22c8acb5-8e30-494d-9ded-7cd0d6a60f66",
   "metadata": {},
   "outputs": [],
   "source": []
  },
  {
   "cell_type": "code",
   "execution_count": 3,
   "id": "2b597efc-02f2-4825-aeee-a3df66fe6d29",
   "metadata": {},
   "outputs": [],
   "source": [
    "df = pd.read_excel('C:/Users/elley/Desktop/Python/project_4_portfolio/ecommerce/excel/sales_order_item.xlsx')"
   ]
  },
  {
   "cell_type": "code",
   "execution_count": 4,
   "id": "dfab5193-c91f-4bbe-b892-28cdf7514384",
   "metadata": {},
   "outputs": [
    {
     "name": "stdout",
     "output_type": "stream",
     "text": [
      "<class 'pandas.core.frame.DataFrame'>\n",
      "RangeIndex: 97913 entries, 0 to 97912\n",
      "Data columns (total 19 columns):\n",
      " #   Column                         Non-Null Count  Dtype  \n",
      "---  ------                         --------------  -----  \n",
      " 0   order_id                       97913 non-null  object \n",
      " 1   customer_id                    97913 non-null  object \n",
      " 2   order_status                   97913 non-null  object \n",
      " 3   order_purchase_timestamp       97913 non-null  object \n",
      " 4   order_approved_at              97899 non-null  object \n",
      " 5   order_delivered_carrier_date   96276 non-null  object \n",
      " 6   order_delivered_customer_date  95103 non-null  object \n",
      " 7   order_estimated_delivery_date  97913 non-null  object \n",
      " 8   customer_unique_id             97913 non-null  object \n",
      " 9   customer_state                 97913 non-null  object \n",
      " 10  latitude                       97913 non-null  float64\n",
      " 11  longitude                      97913 non-null  float64\n",
      " 12  kor_state                      97913 non-null  object \n",
      " 13  item_count                     97284 non-null  float64\n",
      " 14  product_id                     97284 non-null  object \n",
      " 15  price                          97284 non-null  float64\n",
      " 16  profit                         97284 non-null  float64\n",
      " 17  product_category_name_english  95854 non-null  object \n",
      " 18  korean                         95854 non-null  object \n",
      "dtypes: float64(5), object(14)\n",
      "memory usage: 14.2+ MB\n"
     ]
    }
   ],
   "source": [
    "df.info()"
   ]
  },
  {
   "cell_type": "code",
   "execution_count": null,
   "id": "2f263028-6790-4bd4-8aeb-e57d4756e62a",
   "metadata": {},
   "outputs": [],
   "source": []
  },
  {
   "cell_type": "code",
   "execution_count": null,
   "id": "f22a9ad5-460e-494f-8a7b-4a1bbd3e5dae",
   "metadata": {},
   "outputs": [],
   "source": []
  },
  {
   "cell_type": "code",
   "execution_count": 89,
   "id": "e645ac9e-8c5a-4626-9cf5-cb330eedeb42",
   "metadata": {},
   "outputs": [],
   "source": [
    "# 특정 컬럼에 중복된 값이 있는지 확인\n",
    "duplicates = reviews['order_id'].duplicated()\n",
    "\n",
    "# 중복된 값만 필터링\n",
    "duplicates_only = reviews[duplicates]\n",
    "\n",
    "# 중복된 값의 개수\n",
    "# duplicates_count = duplicates.sum()\n",
    "\n",
    "# print(duplicates_only)\n",
    "# print(f\"중복된 값의 개수: {duplicates_count}\")\n"
   ]
  },
  {
   "cell_type": "code",
   "execution_count": 90,
   "id": "c4158f1d-bc8f-4fe5-ad0f-1c30febd8bb4",
   "metadata": {},
   "outputs": [
    {
     "data": {
      "text/html": [
       "<div>\n",
       "<style scoped>\n",
       "    .dataframe tbody tr th:only-of-type {\n",
       "        vertical-align: middle;\n",
       "    }\n",
       "\n",
       "    .dataframe tbody tr th {\n",
       "        vertical-align: top;\n",
       "    }\n",
       "\n",
       "    .dataframe thead th {\n",
       "        text-align: right;\n",
       "    }\n",
       "</style>\n",
       "<table border=\"1\" class=\"dataframe\">\n",
       "  <thead>\n",
       "    <tr style=\"text-align: right;\">\n",
       "      <th></th>\n",
       "      <th>review_id</th>\n",
       "      <th>order_id</th>\n",
       "      <th>review_score</th>\n",
       "    </tr>\n",
       "  </thead>\n",
       "  <tbody>\n",
       "    <tr>\n",
       "      <th>1119</th>\n",
       "      <td>46abf3ea0b2710ad41390fdb79c32d84</td>\n",
       "      <td>5040757d4e06a4be96d3827b860b4e7c</td>\n",
       "      <td>5</td>\n",
       "    </tr>\n",
       "    <tr>\n",
       "      <th>3109</th>\n",
       "      <td>aa193e76d35950c4ae988237bb36ed2b</td>\n",
       "      <td>cf73e2cb1f4a9480ed70c154da3d954a</td>\n",
       "      <td>5</td>\n",
       "    </tr>\n",
       "    <tr>\n",
       "      <th>8108</th>\n",
       "      <td>40294ea5a778dc62080d6b3f55d361ce</td>\n",
       "      <td>e1bc1083cd7acd30d0576335373b907d</td>\n",
       "      <td>5</td>\n",
       "    </tr>\n",
       "    <tr>\n",
       "      <th>9064</th>\n",
       "      <td>32e2c7e889f7a185d462265398ee3631</td>\n",
       "      <td>c7cfea0c153e6382e32e84c2a9dd7d2e</td>\n",
       "      <td>5</td>\n",
       "    </tr>\n",
       "    <tr>\n",
       "      <th>9795</th>\n",
       "      <td>95a3135743556b117d888cc8c6e12e11</td>\n",
       "      <td>f9c78e6e58306dc81efbbada1ac11f24</td>\n",
       "      <td>3</td>\n",
       "    </tr>\n",
       "    <tr>\n",
       "      <th>...</th>\n",
       "      <td>...</td>\n",
       "      <td>...</td>\n",
       "      <td>...</td>\n",
       "    </tr>\n",
       "    <tr>\n",
       "      <th>98989</th>\n",
       "      <td>dfb3db02188d809d5cd199496b6da87e</td>\n",
       "      <td>c0db7d31ace61fc360a3eaa34dd3457c</td>\n",
       "      <td>5</td>\n",
       "    </tr>\n",
       "    <tr>\n",
       "      <th>99108</th>\n",
       "      <td>2c6c08892b83ba4c1be33037c2842294</td>\n",
       "      <td>42ae1967f68c90bb325783ac55d761ce</td>\n",
       "      <td>4</td>\n",
       "    </tr>\n",
       "    <tr>\n",
       "      <th>99164</th>\n",
       "      <td>2afe63a67dfd99b3038f568fb47ee761</td>\n",
       "      <td>c5334d330e36d2a810a7a13c72e135ee</td>\n",
       "      <td>5</td>\n",
       "    </tr>\n",
       "    <tr>\n",
       "      <th>99178</th>\n",
       "      <td>44d1e9165ec54b1d89d33594856af859</td>\n",
       "      <td>a7dbcf5043158d6fa72859eead2f3d10</td>\n",
       "      <td>4</td>\n",
       "    </tr>\n",
       "    <tr>\n",
       "      <th>99199</th>\n",
       "      <td>40743b46a0ee86375cedb95e82b78d75</td>\n",
       "      <td>3e93213bb8fdda91186b4018b2fe0030</td>\n",
       "      <td>5</td>\n",
       "    </tr>\n",
       "  </tbody>\n",
       "</table>\n",
       "<p>551 rows × 3 columns</p>\n",
       "</div>"
      ],
      "text/plain": [
       "                              review_id                          order_id  \\\n",
       "1119   46abf3ea0b2710ad41390fdb79c32d84  5040757d4e06a4be96d3827b860b4e7c   \n",
       "3109   aa193e76d35950c4ae988237bb36ed2b  cf73e2cb1f4a9480ed70c154da3d954a   \n",
       "8108   40294ea5a778dc62080d6b3f55d361ce  e1bc1083cd7acd30d0576335373b907d   \n",
       "9064   32e2c7e889f7a185d462265398ee3631  c7cfea0c153e6382e32e84c2a9dd7d2e   \n",
       "9795   95a3135743556b117d888cc8c6e12e11  f9c78e6e58306dc81efbbada1ac11f24   \n",
       "...                                 ...                               ...   \n",
       "98989  dfb3db02188d809d5cd199496b6da87e  c0db7d31ace61fc360a3eaa34dd3457c   \n",
       "99108  2c6c08892b83ba4c1be33037c2842294  42ae1967f68c90bb325783ac55d761ce   \n",
       "99164  2afe63a67dfd99b3038f568fb47ee761  c5334d330e36d2a810a7a13c72e135ee   \n",
       "99178  44d1e9165ec54b1d89d33594856af859  a7dbcf5043158d6fa72859eead2f3d10   \n",
       "99199  40743b46a0ee86375cedb95e82b78d75  3e93213bb8fdda91186b4018b2fe0030   \n",
       "\n",
       "       review_score  \n",
       "1119              5  \n",
       "3109              5  \n",
       "8108              5  \n",
       "9064              5  \n",
       "9795              3  \n",
       "...             ...  \n",
       "98989             5  \n",
       "99108             4  \n",
       "99164             5  \n",
       "99178             4  \n",
       "99199             5  \n",
       "\n",
       "[551 rows x 3 columns]"
      ]
     },
     "execution_count": 90,
     "metadata": {},
     "output_type": "execute_result"
    }
   ],
   "source": [
    "duplicates_only"
   ]
  },
  {
   "cell_type": "code",
   "execution_count": 91,
   "id": "257480c5-140a-4cd9-8480-33f9503a7fd3",
   "metadata": {},
   "outputs": [],
   "source": [
    "r_duplicate = reviews['review_id'].duplicated()\n",
    "duplicated = reviews[r_duplicate]\n"
   ]
  },
  {
   "cell_type": "code",
   "execution_count": 92,
   "id": "996f450e-4bb3-43a1-9947-d8fce4e82724",
   "metadata": {},
   "outputs": [
    {
     "data": {
      "text/html": [
       "<div>\n",
       "<style scoped>\n",
       "    .dataframe tbody tr th:only-of-type {\n",
       "        vertical-align: middle;\n",
       "    }\n",
       "\n",
       "    .dataframe tbody tr th {\n",
       "        vertical-align: top;\n",
       "    }\n",
       "\n",
       "    .dataframe thead th {\n",
       "        text-align: right;\n",
       "    }\n",
       "</style>\n",
       "<table border=\"1\" class=\"dataframe\">\n",
       "  <thead>\n",
       "    <tr style=\"text-align: right;\">\n",
       "      <th></th>\n",
       "      <th>review_id</th>\n",
       "      <th>order_id</th>\n",
       "      <th>review_score</th>\n",
       "    </tr>\n",
       "  </thead>\n",
       "  <tbody>\n",
       "    <tr>\n",
       "      <th>3317</th>\n",
       "      <td>3242cc306a9218d0377831e175d62fbf</td>\n",
       "      <td>9c5bfba7de6a4abbb6ba0baab78d1622</td>\n",
       "      <td>5</td>\n",
       "    </tr>\n",
       "    <tr>\n",
       "      <th>5719</th>\n",
       "      <td>308316408775d1600dad81bd3184556d</td>\n",
       "      <td>3fe4dbcdb046a475dbf25463c1ca78bd</td>\n",
       "      <td>5</td>\n",
       "    </tr>\n",
       "    <tr>\n",
       "      <th>7213</th>\n",
       "      <td>8ee90ac383cf825bb7f4756130d4e74a</td>\n",
       "      <td>75d5d3d16567a27eefc5752aeb063072</td>\n",
       "      <td>5</td>\n",
       "    </tr>\n",
       "    <tr>\n",
       "      <th>7805</th>\n",
       "      <td>d433c252647c51309432ca0b763f969b</td>\n",
       "      <td>191abde9c3bf77d1ce67d100d8db6d15</td>\n",
       "      <td>1</td>\n",
       "    </tr>\n",
       "    <tr>\n",
       "      <th>9013</th>\n",
       "      <td>03a6a25db577d0689440933055111897</td>\n",
       "      <td>3fde8b7313af6b37b84b5c7594d7add0</td>\n",
       "      <td>5</td>\n",
       "    </tr>\n",
       "    <tr>\n",
       "      <th>...</th>\n",
       "      <td>...</td>\n",
       "      <td>...</td>\n",
       "      <td>...</td>\n",
       "    </tr>\n",
       "    <tr>\n",
       "      <th>99108</th>\n",
       "      <td>2c6c08892b83ba4c1be33037c2842294</td>\n",
       "      <td>42ae1967f68c90bb325783ac55d761ce</td>\n",
       "      <td>4</td>\n",
       "    </tr>\n",
       "    <tr>\n",
       "      <th>99124</th>\n",
       "      <td>6ec93e77f444e0b1703740a69122e35d</td>\n",
       "      <td>e1fdc6e9d1ca132377e862593a7c0bd4</td>\n",
       "      <td>5</td>\n",
       "    </tr>\n",
       "    <tr>\n",
       "      <th>99164</th>\n",
       "      <td>2afe63a67dfd99b3038f568fb47ee761</td>\n",
       "      <td>c5334d330e36d2a810a7a13c72e135ee</td>\n",
       "      <td>5</td>\n",
       "    </tr>\n",
       "    <tr>\n",
       "      <th>99167</th>\n",
       "      <td>017808d29fd1f942d97e50184dfb4c13</td>\n",
       "      <td>b1461c8882153b5fe68307c46a506e39</td>\n",
       "      <td>5</td>\n",
       "    </tr>\n",
       "    <tr>\n",
       "      <th>99178</th>\n",
       "      <td>44d1e9165ec54b1d89d33594856af859</td>\n",
       "      <td>a7dbcf5043158d6fa72859eead2f3d10</td>\n",
       "      <td>4</td>\n",
       "    </tr>\n",
       "  </tbody>\n",
       "</table>\n",
       "<p>814 rows × 3 columns</p>\n",
       "</div>"
      ],
      "text/plain": [
       "                              review_id                          order_id  \\\n",
       "3317   3242cc306a9218d0377831e175d62fbf  9c5bfba7de6a4abbb6ba0baab78d1622   \n",
       "5719   308316408775d1600dad81bd3184556d  3fe4dbcdb046a475dbf25463c1ca78bd   \n",
       "7213   8ee90ac383cf825bb7f4756130d4e74a  75d5d3d16567a27eefc5752aeb063072   \n",
       "7805   d433c252647c51309432ca0b763f969b  191abde9c3bf77d1ce67d100d8db6d15   \n",
       "9013   03a6a25db577d0689440933055111897  3fde8b7313af6b37b84b5c7594d7add0   \n",
       "...                                 ...                               ...   \n",
       "99108  2c6c08892b83ba4c1be33037c2842294  42ae1967f68c90bb325783ac55d761ce   \n",
       "99124  6ec93e77f444e0b1703740a69122e35d  e1fdc6e9d1ca132377e862593a7c0bd4   \n",
       "99164  2afe63a67dfd99b3038f568fb47ee761  c5334d330e36d2a810a7a13c72e135ee   \n",
       "99167  017808d29fd1f942d97e50184dfb4c13  b1461c8882153b5fe68307c46a506e39   \n",
       "99178  44d1e9165ec54b1d89d33594856af859  a7dbcf5043158d6fa72859eead2f3d10   \n",
       "\n",
       "       review_score  \n",
       "3317              5  \n",
       "5719              5  \n",
       "7213              5  \n",
       "7805              1  \n",
       "9013              5  \n",
       "...             ...  \n",
       "99108             4  \n",
       "99124             5  \n",
       "99164             5  \n",
       "99167             5  \n",
       "99178             4  \n",
       "\n",
       "[814 rows x 3 columns]"
      ]
     },
     "execution_count": 92,
     "metadata": {},
     "output_type": "execute_result"
    }
   ],
   "source": [
    "duplicated"
   ]
  },
  {
   "cell_type": "code",
   "execution_count": 93,
   "id": "e70e2627-0b27-4a77-953a-59e2cfbe3001",
   "metadata": {},
   "outputs": [
    {
     "data": {
      "text/html": [
       "<div>\n",
       "<style scoped>\n",
       "    .dataframe tbody tr th:only-of-type {\n",
       "        vertical-align: middle;\n",
       "    }\n",
       "\n",
       "    .dataframe tbody tr th {\n",
       "        vertical-align: top;\n",
       "    }\n",
       "\n",
       "    .dataframe thead th {\n",
       "        text-align: right;\n",
       "    }\n",
       "</style>\n",
       "<table border=\"1\" class=\"dataframe\">\n",
       "  <thead>\n",
       "    <tr style=\"text-align: right;\">\n",
       "      <th></th>\n",
       "      <th>order_id</th>\n",
       "      <th>order_item_id</th>\n",
       "      <th>product_id</th>\n",
       "      <th>seller_id</th>\n",
       "      <th>shipping_limit_date</th>\n",
       "      <th>price</th>\n",
       "      <th>freight_value</th>\n",
       "    </tr>\n",
       "  </thead>\n",
       "  <tbody>\n",
       "    <tr>\n",
       "      <th>0</th>\n",
       "      <td>00010242fe8c5a6d1ba2dd792cb16214</td>\n",
       "      <td>1</td>\n",
       "      <td>4244733e06e7ecb4970a6e2683c13e61</td>\n",
       "      <td>48436dade18ac8b2bce089ec2a041202</td>\n",
       "      <td>2017-09-19 09:45:35</td>\n",
       "      <td>58.9</td>\n",
       "      <td>13.29</td>\n",
       "    </tr>\n",
       "    <tr>\n",
       "      <th>1</th>\n",
       "      <td>00018f77f2f0320c557190d7a144bdd3</td>\n",
       "      <td>1</td>\n",
       "      <td>e5f2d52b802189ee658865ca93d83a8f</td>\n",
       "      <td>dd7ddc04e1b6c2c614352b383efe2d36</td>\n",
       "      <td>2017-05-03 11:05:13</td>\n",
       "      <td>239.9</td>\n",
       "      <td>19.93</td>\n",
       "    </tr>\n",
       "  </tbody>\n",
       "</table>\n",
       "</div>"
      ],
      "text/plain": [
       "                           order_id  order_item_id  \\\n",
       "0  00010242fe8c5a6d1ba2dd792cb16214              1   \n",
       "1  00018f77f2f0320c557190d7a144bdd3              1   \n",
       "\n",
       "                         product_id                         seller_id  \\\n",
       "0  4244733e06e7ecb4970a6e2683c13e61  48436dade18ac8b2bce089ec2a041202   \n",
       "1  e5f2d52b802189ee658865ca93d83a8f  dd7ddc04e1b6c2c614352b383efe2d36   \n",
       "\n",
       "   shipping_limit_date  price  freight_value  \n",
       "0  2017-09-19 09:45:35   58.9          13.29  \n",
       "1  2017-05-03 11:05:13  239.9          19.93  "
      ]
     },
     "execution_count": 93,
     "metadata": {},
     "output_type": "execute_result"
    }
   ],
   "source": [
    "order_items.head(2)"
   ]
  },
  {
   "cell_type": "code",
   "execution_count": 94,
   "id": "bf2c6dba-61f3-431b-ba9e-ed88b5dd66f8",
   "metadata": {},
   "outputs": [],
   "source": [
    "order_duplicate = order_items['order_id'].duplicated()\n",
    "duplicated = order_items[order_duplicate]\n"
   ]
  },
  {
   "cell_type": "code",
   "execution_count": 95,
   "id": "7f1d9ba4-cf52-4e54-8cab-978546695d8f",
   "metadata": {},
   "outputs": [
    {
     "data": {
      "text/html": [
       "<div>\n",
       "<style scoped>\n",
       "    .dataframe tbody tr th:only-of-type {\n",
       "        vertical-align: middle;\n",
       "    }\n",
       "\n",
       "    .dataframe tbody tr th {\n",
       "        vertical-align: top;\n",
       "    }\n",
       "\n",
       "    .dataframe thead th {\n",
       "        text-align: right;\n",
       "    }\n",
       "</style>\n",
       "<table border=\"1\" class=\"dataframe\">\n",
       "  <thead>\n",
       "    <tr style=\"text-align: right;\">\n",
       "      <th></th>\n",
       "      <th>order_id</th>\n",
       "      <th>order_item_id</th>\n",
       "      <th>product_id</th>\n",
       "      <th>seller_id</th>\n",
       "      <th>shipping_limit_date</th>\n",
       "      <th>price</th>\n",
       "      <th>freight_value</th>\n",
       "    </tr>\n",
       "  </thead>\n",
       "  <tbody>\n",
       "    <tr>\n",
       "      <th>14</th>\n",
       "      <td>0008288aa423d2a3f00fcb17cd7d8719</td>\n",
       "      <td>2</td>\n",
       "      <td>368c6c730842d78016ad823897a372db</td>\n",
       "      <td>1f50f920176fa81dab994f9023523100</td>\n",
       "      <td>2018-02-21 02:55:52</td>\n",
       "      <td>49.90</td>\n",
       "      <td>13.37</td>\n",
       "    </tr>\n",
       "    <tr>\n",
       "      <th>33</th>\n",
       "      <td>00143d0f86d6fbd9f9b38ab440ac16f5</td>\n",
       "      <td>2</td>\n",
       "      <td>e95ee6822b66ac6058e2e4aff656071a</td>\n",
       "      <td>a17f621c590ea0fab3d5d883e1630ec6</td>\n",
       "      <td>2017-10-20 16:07:52</td>\n",
       "      <td>21.33</td>\n",
       "      <td>15.10</td>\n",
       "    </tr>\n",
       "    <tr>\n",
       "      <th>34</th>\n",
       "      <td>00143d0f86d6fbd9f9b38ab440ac16f5</td>\n",
       "      <td>3</td>\n",
       "      <td>e95ee6822b66ac6058e2e4aff656071a</td>\n",
       "      <td>a17f621c590ea0fab3d5d883e1630ec6</td>\n",
       "      <td>2017-10-20 16:07:52</td>\n",
       "      <td>21.33</td>\n",
       "      <td>15.10</td>\n",
       "    </tr>\n",
       "    <tr>\n",
       "      <th>43</th>\n",
       "      <td>001ab0a7578dd66cd4b0a71f5b6e1e41</td>\n",
       "      <td>2</td>\n",
       "      <td>0b0172eb0fd18479d29c3bc122c058c2</td>\n",
       "      <td>5656537e588803a555b8eb41f07a944b</td>\n",
       "      <td>2018-01-04 02:33:42</td>\n",
       "      <td>24.89</td>\n",
       "      <td>17.63</td>\n",
       "    </tr>\n",
       "    <tr>\n",
       "      <th>44</th>\n",
       "      <td>001ab0a7578dd66cd4b0a71f5b6e1e41</td>\n",
       "      <td>3</td>\n",
       "      <td>0b0172eb0fd18479d29c3bc122c058c2</td>\n",
       "      <td>5656537e588803a555b8eb41f07a944b</td>\n",
       "      <td>2018-01-04 02:33:42</td>\n",
       "      <td>24.89</td>\n",
       "      <td>17.63</td>\n",
       "    </tr>\n",
       "    <tr>\n",
       "      <th>...</th>\n",
       "      <td>...</td>\n",
       "      <td>...</td>\n",
       "      <td>...</td>\n",
       "      <td>...</td>\n",
       "      <td>...</td>\n",
       "      <td>...</td>\n",
       "      <td>...</td>\n",
       "    </tr>\n",
       "    <tr>\n",
       "      <th>112617</th>\n",
       "      <td>ffecd5a79a0084f6a592288c67e3c298</td>\n",
       "      <td>3</td>\n",
       "      <td>50fd2b788dc166edd20512370dac54df</td>\n",
       "      <td>8b321bb669392f5163d04c59e235e066</td>\n",
       "      <td>2018-03-05 20:15:27</td>\n",
       "      <td>21.90</td>\n",
       "      <td>15.79</td>\n",
       "    </tr>\n",
       "    <tr>\n",
       "      <th>112635</th>\n",
       "      <td>fff8287bbae429a99bb7e8c21d151c41</td>\n",
       "      <td>2</td>\n",
       "      <td>bee2e070c39f3dd2f6883a17a5f0da45</td>\n",
       "      <td>4e922959ae960d389249c378d1c939f5</td>\n",
       "      <td>2018-03-27 12:29:22</td>\n",
       "      <td>180.00</td>\n",
       "      <td>48.14</td>\n",
       "    </tr>\n",
       "    <tr>\n",
       "      <th>112641</th>\n",
       "      <td>fffb9224b6fc7c43ebb0904318b10b5f</td>\n",
       "      <td>2</td>\n",
       "      <td>43423cdffde7fda63d0414ed38c11a73</td>\n",
       "      <td>b1fc4f64df5a0e8b6913ab38803c57a9</td>\n",
       "      <td>2017-11-03 02:55:58</td>\n",
       "      <td>55.00</td>\n",
       "      <td>34.19</td>\n",
       "    </tr>\n",
       "    <tr>\n",
       "      <th>112642</th>\n",
       "      <td>fffb9224b6fc7c43ebb0904318b10b5f</td>\n",
       "      <td>3</td>\n",
       "      <td>43423cdffde7fda63d0414ed38c11a73</td>\n",
       "      <td>b1fc4f64df5a0e8b6913ab38803c57a9</td>\n",
       "      <td>2017-11-03 02:55:58</td>\n",
       "      <td>55.00</td>\n",
       "      <td>34.19</td>\n",
       "    </tr>\n",
       "    <tr>\n",
       "      <th>112643</th>\n",
       "      <td>fffb9224b6fc7c43ebb0904318b10b5f</td>\n",
       "      <td>4</td>\n",
       "      <td>43423cdffde7fda63d0414ed38c11a73</td>\n",
       "      <td>b1fc4f64df5a0e8b6913ab38803c57a9</td>\n",
       "      <td>2017-11-03 02:55:58</td>\n",
       "      <td>55.00</td>\n",
       "      <td>34.19</td>\n",
       "    </tr>\n",
       "  </tbody>\n",
       "</table>\n",
       "<p>13984 rows × 7 columns</p>\n",
       "</div>"
      ],
      "text/plain": [
       "                                order_id  order_item_id  \\\n",
       "14      0008288aa423d2a3f00fcb17cd7d8719              2   \n",
       "33      00143d0f86d6fbd9f9b38ab440ac16f5              2   \n",
       "34      00143d0f86d6fbd9f9b38ab440ac16f5              3   \n",
       "43      001ab0a7578dd66cd4b0a71f5b6e1e41              2   \n",
       "44      001ab0a7578dd66cd4b0a71f5b6e1e41              3   \n",
       "...                                  ...            ...   \n",
       "112617  ffecd5a79a0084f6a592288c67e3c298              3   \n",
       "112635  fff8287bbae429a99bb7e8c21d151c41              2   \n",
       "112641  fffb9224b6fc7c43ebb0904318b10b5f              2   \n",
       "112642  fffb9224b6fc7c43ebb0904318b10b5f              3   \n",
       "112643  fffb9224b6fc7c43ebb0904318b10b5f              4   \n",
       "\n",
       "                              product_id                         seller_id  \\\n",
       "14      368c6c730842d78016ad823897a372db  1f50f920176fa81dab994f9023523100   \n",
       "33      e95ee6822b66ac6058e2e4aff656071a  a17f621c590ea0fab3d5d883e1630ec6   \n",
       "34      e95ee6822b66ac6058e2e4aff656071a  a17f621c590ea0fab3d5d883e1630ec6   \n",
       "43      0b0172eb0fd18479d29c3bc122c058c2  5656537e588803a555b8eb41f07a944b   \n",
       "44      0b0172eb0fd18479d29c3bc122c058c2  5656537e588803a555b8eb41f07a944b   \n",
       "...                                  ...                               ...   \n",
       "112617  50fd2b788dc166edd20512370dac54df  8b321bb669392f5163d04c59e235e066   \n",
       "112635  bee2e070c39f3dd2f6883a17a5f0da45  4e922959ae960d389249c378d1c939f5   \n",
       "112641  43423cdffde7fda63d0414ed38c11a73  b1fc4f64df5a0e8b6913ab38803c57a9   \n",
       "112642  43423cdffde7fda63d0414ed38c11a73  b1fc4f64df5a0e8b6913ab38803c57a9   \n",
       "112643  43423cdffde7fda63d0414ed38c11a73  b1fc4f64df5a0e8b6913ab38803c57a9   \n",
       "\n",
       "        shipping_limit_date   price  freight_value  \n",
       "14      2018-02-21 02:55:52   49.90          13.37  \n",
       "33      2017-10-20 16:07:52   21.33          15.10  \n",
       "34      2017-10-20 16:07:52   21.33          15.10  \n",
       "43      2018-01-04 02:33:42   24.89          17.63  \n",
       "44      2018-01-04 02:33:42   24.89          17.63  \n",
       "...                     ...     ...            ...  \n",
       "112617  2018-03-05 20:15:27   21.90          15.79  \n",
       "112635  2018-03-27 12:29:22  180.00          48.14  \n",
       "112641  2017-11-03 02:55:58   55.00          34.19  \n",
       "112642  2017-11-03 02:55:58   55.00          34.19  \n",
       "112643  2017-11-03 02:55:58   55.00          34.19  \n",
       "\n",
       "[13984 rows x 7 columns]"
      ]
     },
     "execution_count": 95,
     "metadata": {},
     "output_type": "execute_result"
    }
   ],
   "source": [
    "duplicated"
   ]
  },
  {
   "cell_type": "code",
   "execution_count": null,
   "id": "3ddfb3e5-83b5-4561-8e48-a64ad764bf8b",
   "metadata": {},
   "outputs": [],
   "source": []
  }
 ],
 "metadata": {
  "kernelspec": {
   "display_name": "Python 3 (ipykernel)",
   "language": "python",
   "name": "python3"
  },
  "language_info": {
   "codemirror_mode": {
    "name": "ipython",
    "version": 3
   },
   "file_extension": ".py",
   "mimetype": "text/x-python",
   "name": "python",
   "nbconvert_exporter": "python",
   "pygments_lexer": "ipython3",
   "version": "3.12.9"
  }
 },
 "nbformat": 4,
 "nbformat_minor": 5
}
