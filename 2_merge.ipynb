{
 "cells": [
  {
   "cell_type": "code",
   "execution_count": 1,
   "id": "cf06863c-ab0c-46ee-be56-d7d3f4440722",
   "metadata": {},
   "outputs": [],
   "source": [
    "import pandas as pd"
   ]
  },
  {
   "cell_type": "markdown",
   "id": "7001648b-551e-49ca-85f0-9dabee2b92d5",
   "metadata": {},
   "source": [
    "### 1. 상품과 아이템(상품) 데이터셋 결합. 다시 상품명 데이터셋 결합 --> item\n",
    "### 2. 고객과 주문 데이터셋 결합 --> order\n",
    "### 3. 결합된 item과 order 데이터셋 결합"
   ]
  },
  {
   "cell_type": "markdown",
   "id": "830cf6bd-16c2-44db-a815-0c4c862292c3",
   "metadata": {},
   "source": [
    "- ## 1번 item 데이터셋 만들기"
   ]
  },
  {
   "cell_type": "code",
   "execution_count": 2,
   "id": "88b0231d-5bd7-48dc-89f4-2395d9c75b11",
   "metadata": {},
   "outputs": [
    {
     "name": "stdout",
     "output_type": "stream",
     "text": [
      "(98666, 8)\n"
     ]
    },
    {
     "data": {
      "text/html": [
       "<div>\n",
       "<style scoped>\n",
       "    .dataframe tbody tr th:only-of-type {\n",
       "        vertical-align: middle;\n",
       "    }\n",
       "\n",
       "    .dataframe tbody tr th {\n",
       "        vertical-align: top;\n",
       "    }\n",
       "\n",
       "    .dataframe thead th {\n",
       "        text-align: right;\n",
       "    }\n",
       "</style>\n",
       "<table border=\"1\" class=\"dataframe\">\n",
       "  <thead>\n",
       "    <tr style=\"text-align: right;\">\n",
       "      <th></th>\n",
       "      <th>order_id</th>\n",
       "      <th>item_count</th>\n",
       "      <th>product_id</th>\n",
       "      <th>seller_id</th>\n",
       "      <th>shipping_limit_date</th>\n",
       "      <th>price</th>\n",
       "      <th>freight_value</th>\n",
       "      <th>profit</th>\n",
       "    </tr>\n",
       "  </thead>\n",
       "  <tbody>\n",
       "    <tr>\n",
       "      <th>0</th>\n",
       "      <td>00010242fe8c5a6d1ba2dd792cb16214</td>\n",
       "      <td>1</td>\n",
       "      <td>4244733e06e7ecb4970a6e2683c13e61</td>\n",
       "      <td>48436dade18ac8b2bce089ec2a041202</td>\n",
       "      <td>2017-09-19 9:45</td>\n",
       "      <td>58.9</td>\n",
       "      <td>13.29</td>\n",
       "      <td>58.9</td>\n",
       "    </tr>\n",
       "    <tr>\n",
       "      <th>1</th>\n",
       "      <td>00018f77f2f0320c557190d7a144bdd3</td>\n",
       "      <td>1</td>\n",
       "      <td>e5f2d52b802189ee658865ca93d83a8f</td>\n",
       "      <td>dd7ddc04e1b6c2c614352b383efe2d36</td>\n",
       "      <td>2017-05-03 11:05</td>\n",
       "      <td>239.9</td>\n",
       "      <td>19.93</td>\n",
       "      <td>239.9</td>\n",
       "    </tr>\n",
       "    <tr>\n",
       "      <th>2</th>\n",
       "      <td>000229ec398224ef6ca0657da4fc703e</td>\n",
       "      <td>1</td>\n",
       "      <td>c777355d18b72b67abbeef9df44fd0fd</td>\n",
       "      <td>5b51032eddd242adc84c38acab88f23d</td>\n",
       "      <td>2018-01-18 14:48</td>\n",
       "      <td>199.0</td>\n",
       "      <td>17.87</td>\n",
       "      <td>199.0</td>\n",
       "    </tr>\n",
       "  </tbody>\n",
       "</table>\n",
       "</div>"
      ],
      "text/plain": [
       "                           order_id  item_count  \\\n",
       "0  00010242fe8c5a6d1ba2dd792cb16214           1   \n",
       "1  00018f77f2f0320c557190d7a144bdd3           1   \n",
       "2  000229ec398224ef6ca0657da4fc703e           1   \n",
       "\n",
       "                         product_id                         seller_id  \\\n",
       "0  4244733e06e7ecb4970a6e2683c13e61  48436dade18ac8b2bce089ec2a041202   \n",
       "1  e5f2d52b802189ee658865ca93d83a8f  dd7ddc04e1b6c2c614352b383efe2d36   \n",
       "2  c777355d18b72b67abbeef9df44fd0fd  5b51032eddd242adc84c38acab88f23d   \n",
       "\n",
       "  shipping_limit_date  price  freight_value  profit  \n",
       "0     2017-09-19 9:45   58.9          13.29    58.9  \n",
       "1    2017-05-03 11:05  239.9          19.93   239.9  \n",
       "2    2018-01-18 14:48  199.0          17.87   199.0  "
      ]
     },
     "execution_count": 2,
     "metadata": {},
     "output_type": "execute_result"
    }
   ],
   "source": [
    "items = pd.read_csv('C:/Users/elley/Desktop/Python/project_4_portfolio/ecommerce/cleaned_csv/items.csv')\n",
    "print(items.shape)\n",
    "items.head(3)"
   ]
  },
  {
   "cell_type": "code",
   "execution_count": 3,
   "id": "b37b1b6f-5ac1-4568-988a-b12366523a5e",
   "metadata": {},
   "outputs": [
    {
     "name": "stdout",
     "output_type": "stream",
     "text": [
      "(32951, 9)\n"
     ]
    },
    {
     "data": {
      "text/html": [
       "<div>\n",
       "<style scoped>\n",
       "    .dataframe tbody tr th:only-of-type {\n",
       "        vertical-align: middle;\n",
       "    }\n",
       "\n",
       "    .dataframe tbody tr th {\n",
       "        vertical-align: top;\n",
       "    }\n",
       "\n",
       "    .dataframe thead th {\n",
       "        text-align: right;\n",
       "    }\n",
       "</style>\n",
       "<table border=\"1\" class=\"dataframe\">\n",
       "  <thead>\n",
       "    <tr style=\"text-align: right;\">\n",
       "      <th></th>\n",
       "      <th>product_id</th>\n",
       "      <th>product_category_name</th>\n",
       "      <th>product_name_lenght</th>\n",
       "      <th>product_description_lenght</th>\n",
       "      <th>product_photos_qty</th>\n",
       "      <th>product_weight_g</th>\n",
       "      <th>product_length_cm</th>\n",
       "      <th>product_height_cm</th>\n",
       "      <th>product_width_cm</th>\n",
       "    </tr>\n",
       "  </thead>\n",
       "  <tbody>\n",
       "    <tr>\n",
       "      <th>0</th>\n",
       "      <td>1e9e8ef04dbcff4541ed26657ea517e5</td>\n",
       "      <td>perfumaria</td>\n",
       "      <td>40.0</td>\n",
       "      <td>287.0</td>\n",
       "      <td>1.0</td>\n",
       "      <td>225.0</td>\n",
       "      <td>16.0</td>\n",
       "      <td>10.0</td>\n",
       "      <td>14.0</td>\n",
       "    </tr>\n",
       "    <tr>\n",
       "      <th>1</th>\n",
       "      <td>3aa071139cb16b67ca9e5dea641aaa2f</td>\n",
       "      <td>artes</td>\n",
       "      <td>44.0</td>\n",
       "      <td>276.0</td>\n",
       "      <td>1.0</td>\n",
       "      <td>1000.0</td>\n",
       "      <td>30.0</td>\n",
       "      <td>18.0</td>\n",
       "      <td>20.0</td>\n",
       "    </tr>\n",
       "    <tr>\n",
       "      <th>2</th>\n",
       "      <td>96bd76ec8810374ed1b65e291975717f</td>\n",
       "      <td>esporte_lazer</td>\n",
       "      <td>46.0</td>\n",
       "      <td>250.0</td>\n",
       "      <td>1.0</td>\n",
       "      <td>154.0</td>\n",
       "      <td>18.0</td>\n",
       "      <td>9.0</td>\n",
       "      <td>15.0</td>\n",
       "    </tr>\n",
       "  </tbody>\n",
       "</table>\n",
       "</div>"
      ],
      "text/plain": [
       "                         product_id product_category_name  \\\n",
       "0  1e9e8ef04dbcff4541ed26657ea517e5            perfumaria   \n",
       "1  3aa071139cb16b67ca9e5dea641aaa2f                 artes   \n",
       "2  96bd76ec8810374ed1b65e291975717f         esporte_lazer   \n",
       "\n",
       "   product_name_lenght  product_description_lenght  product_photos_qty  \\\n",
       "0                 40.0                       287.0                 1.0   \n",
       "1                 44.0                       276.0                 1.0   \n",
       "2                 46.0                       250.0                 1.0   \n",
       "\n",
       "   product_weight_g  product_length_cm  product_height_cm  product_width_cm  \n",
       "0             225.0               16.0               10.0              14.0  \n",
       "1            1000.0               30.0               18.0              20.0  \n",
       "2             154.0               18.0                9.0              15.0  "
      ]
     },
     "execution_count": 3,
     "metadata": {},
     "output_type": "execute_result"
    }
   ],
   "source": [
    "products = pd.read_csv('C:/Users/elley/Desktop/Python/project_4_portfolio/ecommerce/olist_products.csv')\n",
    "print(products.shape)\n",
    "products.head(3)"
   ]
  },
  {
   "cell_type": "code",
   "execution_count": 4,
   "id": "879ab5a1-f647-4192-92b2-33535e1a2d3c",
   "metadata": {},
   "outputs": [],
   "source": [
    "items = pd.merge(items, products, how='left', on='product_id')"
   ]
  },
  {
   "cell_type": "code",
   "execution_count": 5,
   "id": "af001387-b90a-4539-bf11-67c9c8861741",
   "metadata": {},
   "outputs": [],
   "source": [
    "# 불필요한 컬럼 제거\n",
    "\n",
    "items = items.drop(items.columns[9:16], axis=1)"
   ]
  },
  {
   "cell_type": "code",
   "execution_count": 6,
   "id": "8ac88f4b-e785-4eae-ae70-baf78f638554",
   "metadata": {},
   "outputs": [
    {
     "name": "stdout",
     "output_type": "stream",
     "text": [
      "<class 'pandas.core.frame.DataFrame'>\n",
      "RangeIndex: 98666 entries, 0 to 98665\n",
      "Data columns (total 9 columns):\n",
      " #   Column                 Non-Null Count  Dtype  \n",
      "---  ------                 --------------  -----  \n",
      " 0   order_id               98666 non-null  object \n",
      " 1   item_count             98666 non-null  int64  \n",
      " 2   product_id             98666 non-null  object \n",
      " 3   seller_id              98666 non-null  object \n",
      " 4   shipping_limit_date    98666 non-null  object \n",
      " 5   price                  98666 non-null  float64\n",
      " 6   freight_value          98666 non-null  float64\n",
      " 7   profit                 98666 non-null  float64\n",
      " 8   product_category_name  97248 non-null  object \n",
      "dtypes: float64(3), int64(1), object(5)\n",
      "memory usage: 6.8+ MB\n"
     ]
    }
   ],
   "source": [
    "items.info()"
   ]
  },
  {
   "cell_type": "code",
   "execution_count": 7,
   "id": "3c41eea2-ef06-4de4-b4a5-f37c6f323d05",
   "metadata": {},
   "outputs": [
    {
     "name": "stdout",
     "output_type": "stream",
     "text": [
      "<class 'pandas.core.frame.DataFrame'>\n",
      "RangeIndex: 71 entries, 0 to 70\n",
      "Data columns (total 3 columns):\n",
      " #   Column                         Non-Null Count  Dtype \n",
      "---  ------                         --------------  ----- \n",
      " 0   product_category_name          71 non-null     object\n",
      " 1   product_category_name_english  71 non-null     object\n",
      " 2   korean                         71 non-null     object\n",
      "dtypes: object(3)\n",
      "memory usage: 1.8+ KB\n"
     ]
    }
   ],
   "source": [
    "product_name = pd.read_csv('C:/Users/elley/Desktop/Python/project_4_portfolio/ecommerce/cleaned_csv/product_name.csv')\n",
    "product_name.info()"
   ]
  },
  {
   "cell_type": "code",
   "execution_count": 8,
   "id": "2c67743f-254f-49c1-8c91-3bb2a6445610",
   "metadata": {},
   "outputs": [],
   "source": [
    "# items 데이터의 카테고리명과 product_name의 카테고리명 데이터 결합\n",
    "\n",
    "items = pd.merge(items, product_name, how='left', on='product_category_name')"
   ]
  },
  {
   "cell_type": "code",
   "execution_count": 9,
   "id": "eeee632c-6d34-4ab2-8b2d-c2d3fed4cb0d",
   "metadata": {},
   "outputs": [
    {
     "name": "stdout",
     "output_type": "stream",
     "text": [
      "<class 'pandas.core.frame.DataFrame'>\n",
      "RangeIndex: 98666 entries, 0 to 98665\n",
      "Data columns (total 11 columns):\n",
      " #   Column                         Non-Null Count  Dtype  \n",
      "---  ------                         --------------  -----  \n",
      " 0   order_id                       98666 non-null  object \n",
      " 1   item_count                     98666 non-null  int64  \n",
      " 2   product_id                     98666 non-null  object \n",
      " 3   seller_id                      98666 non-null  object \n",
      " 4   shipping_limit_date            98666 non-null  object \n",
      " 5   price                          98666 non-null  float64\n",
      " 6   freight_value                  98666 non-null  float64\n",
      " 7   profit                         98666 non-null  float64\n",
      " 8   product_category_name          97248 non-null  object \n",
      " 9   product_category_name_english  97226 non-null  object \n",
      " 10  korean                         97226 non-null  object \n",
      "dtypes: float64(3), int64(1), object(7)\n",
      "memory usage: 8.3+ MB\n"
     ]
    }
   ],
   "source": [
    "items.info()"
   ]
  },
  {
   "cell_type": "code",
   "execution_count": 10,
   "id": "8db607c9-0b5e-4c5e-b6b8-8ee293cd9379",
   "metadata": {},
   "outputs": [
    {
     "name": "stdout",
     "output_type": "stream",
     "text": [
      "<class 'pandas.core.frame.DataFrame'>\n",
      "RangeIndex: 98666 entries, 0 to 98665\n",
      "Data columns (total 7 columns):\n",
      " #   Column                         Non-Null Count  Dtype  \n",
      "---  ------                         --------------  -----  \n",
      " 0   order_id                       98666 non-null  object \n",
      " 1   item_count                     98666 non-null  int64  \n",
      " 2   product_id                     98666 non-null  object \n",
      " 3   price                          98666 non-null  float64\n",
      " 4   profit                         98666 non-null  float64\n",
      " 5   product_category_name_english  97226 non-null  object \n",
      " 6   korean                         97226 non-null  object \n",
      "dtypes: float64(2), int64(1), object(4)\n",
      "memory usage: 5.3+ MB\n"
     ]
    }
   ],
   "source": [
    "items = items.drop(items.columns[[3,4,6,8]], axis=1)\n",
    "items.info()"
   ]
  },
  {
   "cell_type": "markdown",
   "id": "4316186d-4b69-4364-822a-8cbfc8e9c67d",
   "metadata": {},
   "source": [
    "- ## 2번 order 데이터셋 만들기"
   ]
  },
  {
   "cell_type": "code",
   "execution_count": 11,
   "id": "4643755d-a3dc-4cbd-9b85-06cb2dd3fdd5",
   "metadata": {},
   "outputs": [
    {
     "name": "stdout",
     "output_type": "stream",
     "text": [
      "(98059, 8)\n"
     ]
    },
    {
     "data": {
      "text/html": [
       "<div>\n",
       "<style scoped>\n",
       "    .dataframe tbody tr th:only-of-type {\n",
       "        vertical-align: middle;\n",
       "    }\n",
       "\n",
       "    .dataframe tbody tr th {\n",
       "        vertical-align: top;\n",
       "    }\n",
       "\n",
       "    .dataframe thead th {\n",
       "        text-align: right;\n",
       "    }\n",
       "</style>\n",
       "<table border=\"1\" class=\"dataframe\">\n",
       "  <thead>\n",
       "    <tr style=\"text-align: right;\">\n",
       "      <th></th>\n",
       "      <th>order_id</th>\n",
       "      <th>customer_id</th>\n",
       "      <th>order_status</th>\n",
       "      <th>order_purchase_timestamp</th>\n",
       "      <th>order_approved_at</th>\n",
       "      <th>order_delivered_carrier_date</th>\n",
       "      <th>order_delivered_customer_date</th>\n",
       "      <th>order_estimated_delivery_date</th>\n",
       "    </tr>\n",
       "  </thead>\n",
       "  <tbody>\n",
       "    <tr>\n",
       "      <th>0</th>\n",
       "      <td>e481f51cbdc54678b7cc49136f2d6af7</td>\n",
       "      <td>9ef432eb6251297304e76186b10a928d</td>\n",
       "      <td>delivered</td>\n",
       "      <td>2017-10-02 10:56</td>\n",
       "      <td>2017-10-02 11:07</td>\n",
       "      <td>2017-10-04 19:55</td>\n",
       "      <td>2017-10-10 21:25</td>\n",
       "      <td>2017-10-18</td>\n",
       "    </tr>\n",
       "    <tr>\n",
       "      <th>1</th>\n",
       "      <td>53cdb2fc8bc7dce0b6741e2150273451</td>\n",
       "      <td>b0830fb4747a6c6d20dea0b8c802d7ef</td>\n",
       "      <td>delivered</td>\n",
       "      <td>2018-07-24 20:41</td>\n",
       "      <td>2018-07-26 3:24</td>\n",
       "      <td>2018-07-26 14:31</td>\n",
       "      <td>2018-08-07 15:27</td>\n",
       "      <td>2018-08-13</td>\n",
       "    </tr>\n",
       "    <tr>\n",
       "      <th>2</th>\n",
       "      <td>47770eb9100c2d0c44946d9cf07ec65d</td>\n",
       "      <td>41ce2a54c0b03bf3443c3d931a367089</td>\n",
       "      <td>delivered</td>\n",
       "      <td>2018-08-08 8:38</td>\n",
       "      <td>2018-08-08 8:55</td>\n",
       "      <td>2018-08-08 13:50</td>\n",
       "      <td>2018-08-17 18:06</td>\n",
       "      <td>2018-09-04</td>\n",
       "    </tr>\n",
       "  </tbody>\n",
       "</table>\n",
       "</div>"
      ],
      "text/plain": [
       "                           order_id                       customer_id  \\\n",
       "0  e481f51cbdc54678b7cc49136f2d6af7  9ef432eb6251297304e76186b10a928d   \n",
       "1  53cdb2fc8bc7dce0b6741e2150273451  b0830fb4747a6c6d20dea0b8c802d7ef   \n",
       "2  47770eb9100c2d0c44946d9cf07ec65d  41ce2a54c0b03bf3443c3d931a367089   \n",
       "\n",
       "  order_status order_purchase_timestamp order_approved_at  \\\n",
       "0    delivered         2017-10-02 10:56  2017-10-02 11:07   \n",
       "1    delivered         2018-07-24 20:41   2018-07-26 3:24   \n",
       "2    delivered          2018-08-08 8:38   2018-08-08 8:55   \n",
       "\n",
       "  order_delivered_carrier_date order_delivered_customer_date  \\\n",
       "0             2017-10-04 19:55              2017-10-10 21:25   \n",
       "1             2018-07-26 14:31              2018-08-07 15:27   \n",
       "2             2018-08-08 13:50              2018-08-17 18:06   \n",
       "\n",
       "  order_estimated_delivery_date  \n",
       "0                    2017-10-18  \n",
       "1                    2018-08-13  \n",
       "2                    2018-09-04  "
      ]
     },
     "execution_count": 11,
     "metadata": {},
     "output_type": "execute_result"
    }
   ],
   "source": [
    "orders = pd.read_csv('C:/Users/elley/Desktop/Python/project_4_portfolio/ecommerce/cleaned_csv/orders.csv')\n",
    "print(orders.shape)\n",
    "orders.head(3)"
   ]
  },
  {
   "cell_type": "code",
   "execution_count": 12,
   "id": "68ee0229-277b-4fa0-a2e5-3b72d9ac67b7",
   "metadata": {},
   "outputs": [
    {
     "name": "stdout",
     "output_type": "stream",
     "text": [
      "(99441, 8)\n"
     ]
    },
    {
     "data": {
      "text/html": [
       "<div>\n",
       "<style scoped>\n",
       "    .dataframe tbody tr th:only-of-type {\n",
       "        vertical-align: middle;\n",
       "    }\n",
       "\n",
       "    .dataframe tbody tr th {\n",
       "        vertical-align: top;\n",
       "    }\n",
       "\n",
       "    .dataframe thead th {\n",
       "        text-align: right;\n",
       "    }\n",
       "</style>\n",
       "<table border=\"1\" class=\"dataframe\">\n",
       "  <thead>\n",
       "    <tr style=\"text-align: right;\">\n",
       "      <th></th>\n",
       "      <th>customer_id</th>\n",
       "      <th>customer_unique_id</th>\n",
       "      <th>customer_zip_code_prefix</th>\n",
       "      <th>customer_city</th>\n",
       "      <th>customer_state</th>\n",
       "      <th>latitude</th>\n",
       "      <th>longitude</th>\n",
       "      <th>kor_state</th>\n",
       "    </tr>\n",
       "  </thead>\n",
       "  <tbody>\n",
       "    <tr>\n",
       "      <th>0</th>\n",
       "      <td>06b8999e2fba1a1fbc88172c00ba8bc7</td>\n",
       "      <td>861eff4711a542e4b93843c6dd7febb0</td>\n",
       "      <td>14409</td>\n",
       "      <td>franca</td>\n",
       "      <td>SP</td>\n",
       "      <td>-23.5505</td>\n",
       "      <td>-46.6333</td>\n",
       "      <td>상파울루</td>\n",
       "    </tr>\n",
       "    <tr>\n",
       "      <th>1</th>\n",
       "      <td>18955e83d337fd6b2def6b18a428ac77</td>\n",
       "      <td>290c77bc529b7ac935b93aa66c333dc3</td>\n",
       "      <td>9790</td>\n",
       "      <td>sao bernardo do campo</td>\n",
       "      <td>SP</td>\n",
       "      <td>-23.5505</td>\n",
       "      <td>-46.6333</td>\n",
       "      <td>상파울루</td>\n",
       "    </tr>\n",
       "    <tr>\n",
       "      <th>2</th>\n",
       "      <td>4e7b3e00288586ebd08712fdd0374a03</td>\n",
       "      <td>060e732b5b29e8181a18229c7b0b2b5e</td>\n",
       "      <td>1151</td>\n",
       "      <td>sao paulo</td>\n",
       "      <td>SP</td>\n",
       "      <td>-23.5505</td>\n",
       "      <td>-46.6333</td>\n",
       "      <td>상파울루</td>\n",
       "    </tr>\n",
       "  </tbody>\n",
       "</table>\n",
       "</div>"
      ],
      "text/plain": [
       "                        customer_id                customer_unique_id  \\\n",
       "0  06b8999e2fba1a1fbc88172c00ba8bc7  861eff4711a542e4b93843c6dd7febb0   \n",
       "1  18955e83d337fd6b2def6b18a428ac77  290c77bc529b7ac935b93aa66c333dc3   \n",
       "2  4e7b3e00288586ebd08712fdd0374a03  060e732b5b29e8181a18229c7b0b2b5e   \n",
       "\n",
       "   customer_zip_code_prefix          customer_city customer_state  latitude  \\\n",
       "0                     14409                 franca             SP  -23.5505   \n",
       "1                      9790  sao bernardo do campo             SP  -23.5505   \n",
       "2                      1151              sao paulo             SP  -23.5505   \n",
       "\n",
       "   longitude kor_state  \n",
       "0   -46.6333      상파울루  \n",
       "1   -46.6333      상파울루  \n",
       "2   -46.6333      상파울루  "
      ]
     },
     "execution_count": 12,
     "metadata": {},
     "output_type": "execute_result"
    }
   ],
   "source": [
    "customers = pd.read_csv('C:/Users/elley/Desktop/Python/project_4_portfolio/ecommerce/cleaned_csv/customers.csv')\n",
    "print(customers.shape)\n",
    "customers.head(3)"
   ]
  },
  {
   "cell_type": "code",
   "execution_count": 13,
   "id": "e86fe254-63b7-459c-ae56-9e1035918bb7",
   "metadata": {},
   "outputs": [],
   "source": [
    "# orders 데이터와 고객 데이터 결합\n",
    "\n",
    "orders = pd.merge(orders, customers, how='left', on='customer_id')"
   ]
  },
  {
   "cell_type": "code",
   "execution_count": 14,
   "id": "e18ecf5a-e6bd-48c6-8db4-06af8fe31061",
   "metadata": {},
   "outputs": [
    {
     "name": "stdout",
     "output_type": "stream",
     "text": [
      "<class 'pandas.core.frame.DataFrame'>\n",
      "RangeIndex: 98059 entries, 0 to 98058\n",
      "Data columns (total 13 columns):\n",
      " #   Column                         Non-Null Count  Dtype  \n",
      "---  ------                         --------------  -----  \n",
      " 0   order_id                       98059 non-null  object \n",
      " 1   customer_id                    98059 non-null  object \n",
      " 2   order_status                   98059 non-null  object \n",
      " 3   order_purchase_timestamp       98059 non-null  object \n",
      " 4   order_approved_at              97899 non-null  object \n",
      " 5   order_delivered_carrier_date   96276 non-null  object \n",
      " 6   order_delivered_customer_date  95103 non-null  object \n",
      " 7   order_estimated_delivery_date  98059 non-null  object \n",
      " 8   customer_unique_id             98059 non-null  object \n",
      " 9   customer_state                 98059 non-null  object \n",
      " 10  latitude                       98059 non-null  float64\n",
      " 11  longitude                      98059 non-null  float64\n",
      " 12  kor_state                      98059 non-null  object \n",
      "dtypes: float64(2), object(11)\n",
      "memory usage: 9.7+ MB\n"
     ]
    }
   ],
   "source": [
    "orders = orders.drop(orders.columns[[9,10]], axis=1)\n",
    "orders.info()"
   ]
  },
  {
   "cell_type": "markdown",
   "id": "5297f33a-314d-4575-a90f-2051946f9706",
   "metadata": {},
   "source": [
    "- ## 3번 item과 order 데이터셋 합친 order_item 데이터셋 만들기"
   ]
  },
  {
   "cell_type": "code",
   "execution_count": 15,
   "id": "92ac6578-b3a4-43fd-a373-f892dfdaec53",
   "metadata": {},
   "outputs": [],
   "source": [
    "order_item = pd.merge(orders, items, how='left', on='order_id')"
   ]
  },
  {
   "cell_type": "code",
   "execution_count": 16,
   "id": "637100a7-e444-4c26-baa0-49ee51df76ea",
   "metadata": {},
   "outputs": [
    {
     "name": "stdout",
     "output_type": "stream",
     "text": [
      "<class 'pandas.core.frame.DataFrame'>\n",
      "RangeIndex: 98059 entries, 0 to 98058\n",
      "Data columns (total 19 columns):\n",
      " #   Column                         Non-Null Count  Dtype  \n",
      "---  ------                         --------------  -----  \n",
      " 0   order_id                       98059 non-null  object \n",
      " 1   customer_id                    98059 non-null  object \n",
      " 2   order_status                   98059 non-null  object \n",
      " 3   order_purchase_timestamp       98059 non-null  object \n",
      " 4   order_approved_at              97899 non-null  object \n",
      " 5   order_delivered_carrier_date   96276 non-null  object \n",
      " 6   order_delivered_customer_date  95103 non-null  object \n",
      " 7   order_estimated_delivery_date  98059 non-null  object \n",
      " 8   customer_unique_id             98059 non-null  object \n",
      " 9   customer_state                 98059 non-null  object \n",
      " 10  latitude                       98059 non-null  float64\n",
      " 11  longitude                      98059 non-null  float64\n",
      " 12  kor_state                      98059 non-null  object \n",
      " 13  item_count                     97284 non-null  float64\n",
      " 14  product_id                     97284 non-null  object \n",
      " 15  price                          97284 non-null  float64\n",
      " 16  profit                         97284 non-null  float64\n",
      " 17  product_category_name_english  95854 non-null  object \n",
      " 18  korean                         95854 non-null  object \n",
      "dtypes: float64(5), object(14)\n",
      "memory usage: 14.2+ MB\n"
     ]
    }
   ],
   "source": [
    "order_item.info()"
   ]
  },
  {
   "cell_type": "markdown",
   "id": "bd3dec6c-5485-4092-b12f-460ba81621d0",
   "metadata": {},
   "source": [
    "- ### **'order_approved_at'** 컬럼에 null값 있는지 확인"
   ]
  },
  {
   "cell_type": "code",
   "execution_count": 17,
   "id": "dae46909-65ee-4b84-aed7-95d4dd48a67e",
   "metadata": {},
   "outputs": [],
   "source": [
    "null = order_item['order_approved_at'].isnull()"
   ]
  },
  {
   "cell_type": "code",
   "execution_count": 18,
   "id": "436d212b-a3f1-4d27-be31-61e3ca923ad1",
   "metadata": {},
   "outputs": [
    {
     "data": {
      "text/plain": [
       "array(['canceled', 'delivered', 'created'], dtype=object)"
      ]
     },
     "execution_count": 18,
     "metadata": {},
     "output_type": "execute_result"
    }
   ],
   "source": [
    "order_item[null]['order_status'].unique()"
   ]
  },
  {
   "cell_type": "code",
   "execution_count": 19,
   "id": "ddc74020-cda3-424d-8f6c-637da231024b",
   "metadata": {},
   "outputs": [
    {
     "data": {
      "text/plain": [
       "order_status\n",
       "canceled     141\n",
       "created        5\n",
       "delivered     14\n",
       "dtype: int64"
      ]
     },
     "execution_count": 19,
     "metadata": {},
     "output_type": "execute_result"
    }
   ],
   "source": [
    "order_item[null].groupby('order_status').size()"
   ]
  },
  {
   "cell_type": "markdown",
   "id": "b5b2376a-d114-4b5c-9144-6e6f9875aabe",
   "metadata": {},
   "source": [
    "- ### order_status가 canceled & created는 고객이 주문을 하고 상품을 완전히 구매했다고 볼 수는 없어서 delivered만 제외하고 두 항목은 삭제"
   ]
  },
  {
   "cell_type": "code",
   "execution_count": 20,
   "id": "dfc8b8ba-aebc-4490-b835-996ea1288073",
   "metadata": {},
   "outputs": [
    {
     "data": {
      "text/plain": [
       "(160, 19)"
      ]
     },
     "execution_count": 20,
     "metadata": {},
     "output_type": "execute_result"
    }
   ],
   "source": [
    "exclude = order_item[null]\n",
    "exclude.shape"
   ]
  },
  {
   "cell_type": "code",
   "execution_count": 21,
   "id": "2153f869-9eb6-4387-a301-b4b3d5e248c0",
   "metadata": {},
   "outputs": [],
   "source": [
    "values_to_exclude = ['delivered']\n",
    "filtered_exclude = exclude[~exclude['order_status'].isin(values_to_exclude)]"
   ]
  },
  {
   "cell_type": "code",
   "execution_count": 22,
   "id": "1c3d74d7-0e15-4a79-8f35-a8c23b0ca245",
   "metadata": {},
   "outputs": [
    {
     "data": {
      "text/plain": [
       "(146, 19)"
      ]
     },
     "execution_count": 22,
     "metadata": {},
     "output_type": "execute_result"
    }
   ],
   "source": [
    "filtered_exclude.shape"
   ]
  },
  {
   "cell_type": "code",
   "execution_count": 23,
   "id": "3bd7b3ec-d97e-4455-9ef4-1ce0ff54ffaf",
   "metadata": {},
   "outputs": [],
   "source": [
    "result = pd.merge(order_item, filtered_exclude, on='order_id', how='left', indicator=True)\n",
    "result = result[result['_merge'] == 'left_only'].drop(columns=['_merge'])"
   ]
  },
  {
   "cell_type": "code",
   "execution_count": 24,
   "id": "06ca08c4-e0c1-42c4-9046-308566015ee4",
   "metadata": {},
   "outputs": [
    {
     "data": {
      "text/plain": [
       "(97913, 37)"
      ]
     },
     "execution_count": 24,
     "metadata": {},
     "output_type": "execute_result"
    }
   ],
   "source": [
    "result.shape"
   ]
  },
  {
   "cell_type": "code",
   "execution_count": 25,
   "id": "8af0e951-be0d-474e-99bb-2127be759a7f",
   "metadata": {},
   "outputs": [],
   "source": [
    "order_item = result"
   ]
  },
  {
   "cell_type": "code",
   "execution_count": 26,
   "id": "0c0d3f1d-c9e5-4da8-abd1-d01bdac092a8",
   "metadata": {},
   "outputs": [],
   "source": [
    "order_item = order_item.drop(order_item.columns[19:37], axis=1)"
   ]
  },
  {
   "cell_type": "markdown",
   "id": "45a50eb3-b01d-4ed0-be93-ecb33cdcfd96",
   "metadata": {},
   "source": [
    "#### sales_order_item 으로 저장"
   ]
  },
  {
   "cell_type": "markdown",
   "id": "bb3b20db-65b8-40e4-a99e-9e2fb0131493",
   "metadata": {},
   "source": [
    "- ### 카테고리명이 없는 2059(=97913-95854)개의 행 제거"
   ]
  },
  {
   "cell_type": "code",
   "execution_count": 28,
   "id": "5a224952-ab43-4d59-8a85-d8a30546f6e0",
   "metadata": {},
   "outputs": [],
   "source": [
    "category_order_item = order_item.dropna(subset=['korean_x'])"
   ]
  },
  {
   "cell_type": "code",
   "execution_count": 29,
   "id": "37fd4e7e-9b5c-4f0b-837c-6731750dc307",
   "metadata": {},
   "outputs": [
    {
     "name": "stdout",
     "output_type": "stream",
     "text": [
      "<class 'pandas.core.frame.DataFrame'>\n",
      "Index: 95854 entries, 0 to 98058\n",
      "Data columns (total 19 columns):\n",
      " #   Column                           Non-Null Count  Dtype  \n",
      "---  ------                           --------------  -----  \n",
      " 0   order_id                         95854 non-null  object \n",
      " 1   customer_id_x                    95854 non-null  object \n",
      " 2   order_status_x                   95854 non-null  object \n",
      " 3   order_purchase_timestamp_x       95854 non-null  object \n",
      " 4   order_approved_at_x              95841 non-null  object \n",
      " 5   order_delivered_carrier_date_x   94880 non-null  object \n",
      " 6   order_delivered_customer_date_x  93733 non-null  object \n",
      " 7   order_estimated_delivery_date_x  95854 non-null  object \n",
      " 8   customer_unique_id_x             95854 non-null  object \n",
      " 9   customer_state_x                 95854 non-null  object \n",
      " 10  latitude_x                       95854 non-null  float64\n",
      " 11  longitude_x                      95854 non-null  float64\n",
      " 12  kor_state_x                      95854 non-null  object \n",
      " 13  item_count_x                     95854 non-null  float64\n",
      " 14  product_id_x                     95854 non-null  object \n",
      " 15  price_x                          95854 non-null  float64\n",
      " 16  profit_x                         95854 non-null  float64\n",
      " 17  product_category_name_english_x  95854 non-null  object \n",
      " 18  korean_x                         95854 non-null  object \n",
      "dtypes: float64(5), object(14)\n",
      "memory usage: 14.6+ MB\n"
     ]
    }
   ],
   "source": [
    "category_order_item.info()"
   ]
  },
  {
   "cell_type": "markdown",
   "id": "a67a064f-fda1-4b63-b4f0-4429d2ed13d9",
   "metadata": {},
   "source": [
    "#### category_order_item 저장"
   ]
  },
  {
   "cell_type": "code",
   "execution_count": null,
   "id": "fa5edc17-f242-4dab-9303-53c9768bca8c",
   "metadata": {},
   "outputs": [],
   "source": []
  },
  {
   "cell_type": "code",
   "execution_count": null,
   "id": "992c4c40-8c7b-48e1-98fe-151a5303f0aa",
   "metadata": {},
   "outputs": [],
   "source": []
  },
  {
   "cell_type": "markdown",
   "id": "0ca167c3-f9e2-4724-a885-d3a10246a1e9",
   "metadata": {},
   "source": []
  },
  {
   "cell_type": "markdown",
   "id": "97e81194-3d45-41c6-bc2d-ac35cd8af870",
   "metadata": {},
   "source": [
    "1. order_item 엑셀파일 2018년 9월로 주문 승인 날짜 행 제거 --> 기존 엑셀파일명으로 저장"
   ]
  },
  {
   "cell_type": "markdown",
   "id": "12d7c9c8-cf90-460a-a64f-ef2fa9861066",
   "metadata": {},
   "source": [
    "2. order_item 엑셀파일 다시 불러서 order_status가 'delivered' 상태이지만 'order_approved_at'가 null인 행 제거 --> 새로운 엑셀파일 만들어서 저장"
   ]
  },
  {
   "cell_type": "code",
   "execution_count": 30,
   "id": "f267ec27-61a3-401c-9f9f-73a324852262",
   "metadata": {},
   "outputs": [],
   "source": [
    "df = pd.read_excel(\"C:/Users/elley/Desktop/Python/project_4_portfolio/ecommerce/excel/sales_order_item.xlsx\")"
   ]
  },
  {
   "cell_type": "code",
   "execution_count": 31,
   "id": "82da5464-3e2b-4d92-9b8b-240918a85d71",
   "metadata": {},
   "outputs": [
    {
     "name": "stdout",
     "output_type": "stream",
     "text": [
      "<class 'pandas.core.frame.DataFrame'>\n",
      "RangeIndex: 97913 entries, 0 to 97912\n",
      "Data columns (total 19 columns):\n",
      " #   Column                         Non-Null Count  Dtype  \n",
      "---  ------                         --------------  -----  \n",
      " 0   order_id                       97913 non-null  object \n",
      " 1   customer_id                    97913 non-null  object \n",
      " 2   order_status                   97913 non-null  object \n",
      " 3   order_purchase_timestamp       97913 non-null  object \n",
      " 4   order_approved_at              97899 non-null  object \n",
      " 5   order_delivered_carrier_date   96276 non-null  object \n",
      " 6   order_delivered_customer_date  95103 non-null  object \n",
      " 7   order_estimated_delivery_date  97913 non-null  object \n",
      " 8   customer_unique_id             97913 non-null  object \n",
      " 9   customer_state                 97913 non-null  object \n",
      " 10  latitude                       97913 non-null  float64\n",
      " 11  longitude                      97913 non-null  float64\n",
      " 12  kor_state                      97913 non-null  object \n",
      " 13  item_count                     97284 non-null  float64\n",
      " 14  product_id                     97284 non-null  object \n",
      " 15  price                          97284 non-null  float64\n",
      " 16  profit                         97284 non-null  float64\n",
      " 17  product_category_name_english  95854 non-null  object \n",
      " 18  korean                         95854 non-null  object \n",
      "dtypes: float64(5), object(14)\n",
      "memory usage: 14.2+ MB\n"
     ]
    }
   ],
   "source": [
    "df.info()"
   ]
  },
  {
   "cell_type": "code",
   "execution_count": 32,
   "id": "1fe1c76e-753a-467e-bdf6-ab34538f364c",
   "metadata": {},
   "outputs": [],
   "source": [
    "df['order_approved_at'] = pd.to_datetime(df['order_approved_at'], errors='coerce')"
   ]
  },
  {
   "cell_type": "code",
   "execution_count": 33,
   "id": "0e82368a-47e9-4fb7-9b50-018e237df307",
   "metadata": {},
   "outputs": [
    {
     "data": {
      "text/html": [
       "<div>\n",
       "<style scoped>\n",
       "    .dataframe tbody tr th:only-of-type {\n",
       "        vertical-align: middle;\n",
       "    }\n",
       "\n",
       "    .dataframe tbody tr th {\n",
       "        vertical-align: top;\n",
       "    }\n",
       "\n",
       "    .dataframe thead th {\n",
       "        text-align: right;\n",
       "    }\n",
       "</style>\n",
       "<table border=\"1\" class=\"dataframe\">\n",
       "  <thead>\n",
       "    <tr style=\"text-align: right;\">\n",
       "      <th></th>\n",
       "      <th>order_id</th>\n",
       "      <th>customer_id</th>\n",
       "      <th>order_status</th>\n",
       "      <th>order_purchase_timestamp</th>\n",
       "      <th>order_approved_at</th>\n",
       "      <th>order_delivered_carrier_date</th>\n",
       "      <th>order_delivered_customer_date</th>\n",
       "      <th>order_estimated_delivery_date</th>\n",
       "      <th>customer_unique_id</th>\n",
       "      <th>customer_state</th>\n",
       "      <th>latitude</th>\n",
       "      <th>longitude</th>\n",
       "      <th>kor_state</th>\n",
       "      <th>item_count</th>\n",
       "      <th>product_id</th>\n",
       "      <th>price</th>\n",
       "      <th>profit</th>\n",
       "      <th>product_category_name_english</th>\n",
       "      <th>korean</th>\n",
       "    </tr>\n",
       "  </thead>\n",
       "  <tbody>\n",
       "    <tr>\n",
       "      <th>61391</th>\n",
       "      <td>54282e97f61c23b78330c15b154c867d</td>\n",
       "      <td>4b7decb9b58e2569548b8b4c8e20e8d7</td>\n",
       "      <td>shipped</td>\n",
       "      <td>2018-09-03 9:06</td>\n",
       "      <td>2018-09-03 17:40:00</td>\n",
       "      <td>2018-09-04 15:25</td>\n",
       "      <td>NaN</td>\n",
       "      <td>2018-09-06</td>\n",
       "      <td>ff22e30958c13ffe219db7d711e8f564</td>\n",
       "      <td>SP</td>\n",
       "      <td>-23.5505</td>\n",
       "      <td>-46.6333</td>\n",
       "      <td>상파울루</td>\n",
       "      <td>1.0</td>\n",
       "      <td>b98992ea80b467987a7fbb88e7f2076a</td>\n",
       "      <td>145.0</td>\n",
       "      <td>145.0</td>\n",
       "      <td>kitchen_dining_laundry_garden_furniture</td>\n",
       "      <td>주방/식당/세탁/정원 가구</td>\n",
       "    </tr>\n",
       "  </tbody>\n",
       "</table>\n",
       "</div>"
      ],
      "text/plain": [
       "                               order_id                       customer_id  \\\n",
       "61391  54282e97f61c23b78330c15b154c867d  4b7decb9b58e2569548b8b4c8e20e8d7   \n",
       "\n",
       "      order_status order_purchase_timestamp   order_approved_at  \\\n",
       "61391      shipped          2018-09-03 9:06 2018-09-03 17:40:00   \n",
       "\n",
       "      order_delivered_carrier_date order_delivered_customer_date  \\\n",
       "61391             2018-09-04 15:25                           NaN   \n",
       "\n",
       "      order_estimated_delivery_date                customer_unique_id  \\\n",
       "61391                    2018-09-06  ff22e30958c13ffe219db7d711e8f564   \n",
       "\n",
       "      customer_state  latitude  longitude kor_state  item_count  \\\n",
       "61391             SP  -23.5505   -46.6333      상파울루         1.0   \n",
       "\n",
       "                             product_id  price  profit  \\\n",
       "61391  b98992ea80b467987a7fbb88e7f2076a  145.0   145.0   \n",
       "\n",
       "                 product_category_name_english          korean  \n",
       "61391  kitchen_dining_laundry_garden_furniture  주방/식당/세탁/정원 가구  "
      ]
     },
     "execution_count": 33,
     "metadata": {},
     "output_type": "execute_result"
    }
   ],
   "source": [
    "df_2018_09 = df[(df['order_approved_at'].dt.year == 2018) & (df['order_approved_at'].dt.month == 9)]\n",
    "df_2018_09 = pd.DataFrame(df_2018_09)\n",
    "df_2018_09"
   ]
  },
  {
   "cell_type": "markdown",
   "id": "4624de42-a87d-4f20-97c6-ea3be6c4c02a",
   "metadata": {},
   "source": [
    "#### 2018_09 날짜인 데이터 제거"
   ]
  },
  {
   "cell_type": "code",
   "execution_count": 34,
   "id": "4af92865-bc27-474d-a7bf-bc6657876623",
   "metadata": {},
   "outputs": [
    {
     "data": {
      "text/plain": [
       "(97912, 19)"
      ]
     },
     "execution_count": 34,
     "metadata": {},
     "output_type": "execute_result"
    }
   ],
   "source": [
    "df = df[~df['order_id'].isin(df_2018_09['order_id'])]\n",
    "df.shape"
   ]
  },
  {
   "cell_type": "code",
   "execution_count": 35,
   "id": "8f98aeef-d37e-4617-bd17-68b7026ade5e",
   "metadata": {},
   "outputs": [],
   "source": [
    "df.to_excel('sales.xlsx', index=False)"
   ]
  },
  {
   "cell_type": "markdown",
   "id": "4d622633-170a-4a6a-9674-5b676297c032",
   "metadata": {},
   "source": [
    "#### order_approved_at에 null값이 있는 행 제거"
   ]
  },
  {
   "cell_type": "code",
   "execution_count": 39,
   "id": "7d091747-1b7e-409e-92e3-e61520bb2928",
   "metadata": {},
   "outputs": [],
   "source": [
    "null = df['order_approved_at'].isnull()"
   ]
  },
  {
   "cell_type": "code",
   "execution_count": 41,
   "id": "a820e26b-8569-4ed2-a194-5a12cdb22bf9",
   "metadata": {},
   "outputs": [],
   "source": [
    "null = pd.DataFrame(null)"
   ]
  },
  {
   "cell_type": "code",
   "execution_count": 42,
   "id": "51907392-bdfc-4b10-95c4-b12f51e6d3d6",
   "metadata": {},
   "outputs": [
    {
     "name": "stdout",
     "output_type": "stream",
     "text": [
      "(97898, 19)\n"
     ]
    }
   ],
   "source": [
    "indice = null[null['order_approved_at'] == False].index\n",
    "df = df[df.index.isin(indice)]\n",
    "print(df.shape)"
   ]
  },
  {
   "cell_type": "code",
   "execution_count": 43,
   "id": "bd7be7bf-5c8e-4eb9-b271-3ce935afd7db",
   "metadata": {},
   "outputs": [],
   "source": [
    "df.to_excel('sales_order_approved.xlsx')"
   ]
  },
  {
   "cell_type": "code",
   "execution_count": null,
   "id": "a96b8939-3780-4a8e-8bb4-04c2271690cc",
   "metadata": {},
   "outputs": [],
   "source": []
  }
 ],
 "metadata": {
  "kernelspec": {
   "display_name": "Python 3 (ipykernel)",
   "language": "python",
   "name": "python3"
  },
  "language_info": {
   "codemirror_mode": {
    "name": "ipython",
    "version": 3
   },
   "file_extension": ".py",
   "mimetype": "text/x-python",
   "name": "python",
   "nbconvert_exporter": "python",
   "pygments_lexer": "ipython3",
   "version": "3.12.9"
  }
 },
 "nbformat": 4,
 "nbformat_minor": 5
}
