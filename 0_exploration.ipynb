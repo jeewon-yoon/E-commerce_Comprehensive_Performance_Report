{
 "cells": [
  {
   "cell_type": "markdown",
   "id": "5fd9df16-c82d-4075-b915-696ac1495be5",
   "metadata": {},
   "source": [
    "### 데이터 불러오기 & 각 컬럼 데이터 확인, 결측치나 비논리적 정보 제외"
   ]
  },
  {
   "cell_type": "code",
   "execution_count": 1,
   "id": "4cdb86d8-fa15-4630-ab83-929c4d5c4236",
   "metadata": {},
   "outputs": [],
   "source": [
    "import pandas as pd"
   ]
  },
  {
   "cell_type": "markdown",
   "id": "4cd884c0-a547-4a7b-9114-3479a39294f0",
   "metadata": {},
   "source": [
    "### 1) 고객 정보"
   ]
  },
  {
   "cell_type": "code",
   "execution_count": 2,
   "id": "05cce8da-54cb-43a5-801e-22c3e6355fbb",
   "metadata": {},
   "outputs": [],
   "source": [
    "customer = pd.read_csv('C:/Users/elley/Desktop/Python/project_4_portfolio/ecommerce/olist_customers_dataset.csv')"
   ]
  },
  {
   "cell_type": "code",
   "execution_count": 3,
   "id": "b5678f61-70c6-4b73-80b2-0068840c99b3",
   "metadata": {},
   "outputs": [
    {
     "data": {
      "text/plain": [
       "(2997, 1)"
      ]
     },
     "execution_count": 3,
     "metadata": {},
     "output_type": "execute_result"
    }
   ],
   "source": [
    "duplicate_values = customer['customer_unique_id'].value_counts()[customer['customer_unique_id'].value_counts() > 1]\n",
    "customer_repeat = pd.DataFrame(duplicate_values)\n",
    "customer_repeat.shape"
   ]
  },
  {
   "cell_type": "markdown",
   "id": "1a8f1a37-2868-4a72-8e63-9bbc0f0ecc6b",
   "metadata": {},
   "source": [
    "- #### 2997명의 고객이 2번 이상의 횟수로 구매"
   ]
  },
  {
   "cell_type": "code",
   "execution_count": 4,
   "id": "6d8e6437-84b0-4789-aaec-45b0188f3831",
   "metadata": {},
   "outputs": [
    {
     "name": "stdout",
     "output_type": "stream",
     "text": [
      "<class 'pandas.core.frame.DataFrame'>\n",
      "RangeIndex: 99441 entries, 0 to 99440\n",
      "Data columns (total 5 columns):\n",
      " #   Column                    Non-Null Count  Dtype \n",
      "---  ------                    --------------  ----- \n",
      " 0   customer_id               99441 non-null  object\n",
      " 1   customer_unique_id        99441 non-null  object\n",
      " 2   customer_zip_code_prefix  99441 non-null  int64 \n",
      " 3   customer_city             99441 non-null  object\n",
      " 4   customer_state            99441 non-null  object\n",
      "dtypes: int64(1), object(4)\n",
      "memory usage: 3.8+ MB\n"
     ]
    }
   ],
   "source": [
    "customer.info()"
   ]
  },
  {
   "cell_type": "markdown",
   "id": "f2a85872-a83e-4f76-8c66-cfe40ceb4340",
   "metadata": {},
   "source": [
    "- #### 고객 정보 결측치 없음"
   ]
  },
  {
   "cell_type": "markdown",
   "id": "b154aa32-c1c3-46bd-bd50-1f9eb42a378d",
   "metadata": {},
   "source": [
    "### 2) 구매처 정보"
   ]
  },
  {
   "cell_type": "code",
   "execution_count": 5,
   "id": "88e1a97b-9a7d-4b1e-a1ec-038b92600415",
   "metadata": {},
   "outputs": [],
   "source": [
    "seller = pd.read_csv('C:/Users/elley/Desktop/Python/project_4_portfolio/ecommerce/olist_sellers.csv')"
   ]
  },
  {
   "cell_type": "code",
   "execution_count": 6,
   "id": "44d8ad7a-bd76-4249-9f2d-c71ca353e550",
   "metadata": {},
   "outputs": [
    {
     "name": "stdout",
     "output_type": "stream",
     "text": [
      "<class 'pandas.core.frame.DataFrame'>\n",
      "RangeIndex: 3095 entries, 0 to 3094\n",
      "Data columns (total 4 columns):\n",
      " #   Column                  Non-Null Count  Dtype \n",
      "---  ------                  --------------  ----- \n",
      " 0   seller_id               3095 non-null   object\n",
      " 1   seller_zip_code_prefix  3095 non-null   int64 \n",
      " 2   seller_city             3095 non-null   object\n",
      " 3   seller_state            3095 non-null   object\n",
      "dtypes: int64(1), object(3)\n",
      "memory usage: 96.8+ KB\n"
     ]
    }
   ],
   "source": [
    "seller.info()"
   ]
  },
  {
   "cell_type": "code",
   "execution_count": 7,
   "id": "0d99878e-7e96-4d05-8015-23d749bdabb7",
   "metadata": {},
   "outputs": [
    {
     "data": {
      "text/html": [
       "<div>\n",
       "<style scoped>\n",
       "    .dataframe tbody tr th:only-of-type {\n",
       "        vertical-align: middle;\n",
       "    }\n",
       "\n",
       "    .dataframe tbody tr th {\n",
       "        vertical-align: top;\n",
       "    }\n",
       "\n",
       "    .dataframe thead th {\n",
       "        text-align: right;\n",
       "    }\n",
       "</style>\n",
       "<table border=\"1\" class=\"dataframe\">\n",
       "  <thead>\n",
       "    <tr style=\"text-align: right;\">\n",
       "      <th></th>\n",
       "      <th>seller_id</th>\n",
       "      <th>seller_zip_code_prefix</th>\n",
       "      <th>seller_city</th>\n",
       "      <th>seller_state</th>\n",
       "    </tr>\n",
       "  </thead>\n",
       "  <tbody>\n",
       "    <tr>\n",
       "      <th>0</th>\n",
       "      <td>3442f8959a84dea7ee197c632cb2df15</td>\n",
       "      <td>13023</td>\n",
       "      <td>campinas</td>\n",
       "      <td>SP</td>\n",
       "    </tr>\n",
       "    <tr>\n",
       "      <th>1</th>\n",
       "      <td>d1b65fc7debc3361ea86b5f14c68d2e2</td>\n",
       "      <td>13844</td>\n",
       "      <td>mogi guacu</td>\n",
       "      <td>SP</td>\n",
       "    </tr>\n",
       "    <tr>\n",
       "      <th>2</th>\n",
       "      <td>ce3ad9de960102d0677a81f5d0bb7b2d</td>\n",
       "      <td>20031</td>\n",
       "      <td>rio de janeiro</td>\n",
       "      <td>RJ</td>\n",
       "    </tr>\n",
       "  </tbody>\n",
       "</table>\n",
       "</div>"
      ],
      "text/plain": [
       "                          seller_id  seller_zip_code_prefix     seller_city  \\\n",
       "0  3442f8959a84dea7ee197c632cb2df15                   13023        campinas   \n",
       "1  d1b65fc7debc3361ea86b5f14c68d2e2                   13844      mogi guacu   \n",
       "2  ce3ad9de960102d0677a81f5d0bb7b2d                   20031  rio de janeiro   \n",
       "\n",
       "  seller_state  \n",
       "0           SP  \n",
       "1           SP  \n",
       "2           RJ  "
      ]
     },
     "execution_count": 7,
     "metadata": {},
     "output_type": "execute_result"
    }
   ],
   "source": [
    "seller.head(3)"
   ]
  },
  {
   "cell_type": "code",
   "execution_count": 8,
   "id": "ebd748a8-b6a3-443c-95a5-53e057be71e1",
   "metadata": {},
   "outputs": [
    {
     "data": {
      "text/plain": [
       "(0, 1)"
      ]
     },
     "execution_count": 8,
     "metadata": {},
     "output_type": "execute_result"
    }
   ],
   "source": [
    "duplicate_values = seller['seller_id'].value_counts()[seller['seller_id'].value_counts() > 1]\n",
    "seller_repeat = pd.DataFrame(duplicate_values)\n",
    "seller_repeat.shape"
   ]
  },
  {
   "cell_type": "markdown",
   "id": "9af76812-a1d7-4a5d-ae89-0566e13697d2",
   "metadata": {},
   "source": [
    "### 3) 지리 정보"
   ]
  },
  {
   "cell_type": "code",
   "execution_count": 9,
   "id": "09a3d0d2-371a-4d8f-bae5-7b9891f294df",
   "metadata": {},
   "outputs": [],
   "source": [
    "geo = pd.read_csv('C:/Users/elley/Desktop/Python/project_4_portfolio/ecommerce/olist_geolocation.csv')"
   ]
  },
  {
   "cell_type": "code",
   "execution_count": 10,
   "id": "77fcb0c2-801e-4caa-bcab-1f9b555dc11b",
   "metadata": {},
   "outputs": [
    {
     "name": "stdout",
     "output_type": "stream",
     "text": [
      "<class 'pandas.core.frame.DataFrame'>\n",
      "RangeIndex: 1000163 entries, 0 to 1000162\n",
      "Data columns (total 5 columns):\n",
      " #   Column                       Non-Null Count    Dtype  \n",
      "---  ------                       --------------    -----  \n",
      " 0   geolocation_zip_code_prefix  1000163 non-null  int64  \n",
      " 1   geolocation_lat              1000163 non-null  float64\n",
      " 2   geolocation_lng              1000163 non-null  float64\n",
      " 3   geolocation_city             1000163 non-null  object \n",
      " 4   geolocation_state            1000163 non-null  object \n",
      "dtypes: float64(2), int64(1), object(2)\n",
      "memory usage: 38.2+ MB\n"
     ]
    }
   ],
   "source": [
    "geo.info()"
   ]
  },
  {
   "cell_type": "code",
   "execution_count": 11,
   "id": "7ffa5413-1e56-45ec-a02d-a41e56f29529",
   "metadata": {},
   "outputs": [
    {
     "data": {
      "text/plain": [
       "(17972, 1)"
      ]
     },
     "execution_count": 11,
     "metadata": {},
     "output_type": "execute_result"
    }
   ],
   "source": [
    "duplicate_values = geo['geolocation_zip_code_prefix'].value_counts()[geo['geolocation_zip_code_prefix'].value_counts() > 1]\n",
    "zip_code_prefix = pd.DataFrame(duplicate_values)\n",
    "zip_code_prefix.shape"
   ]
  },
  {
   "cell_type": "code",
   "execution_count": 12,
   "id": "ffd0e0c1-d427-4e33-8d93-f7b9b9058962",
   "metadata": {},
   "outputs": [
    {
     "data": {
      "text/plain": [
       "19015"
      ]
     },
     "execution_count": 12,
     "metadata": {},
     "output_type": "execute_result"
    }
   ],
   "source": [
    "geo['geolocation_zip_code_prefix'].nunique()"
   ]
  },
  {
   "cell_type": "markdown",
   "id": "cc97858b-563b-4abd-826f-f6f0cce4706f",
   "metadata": {},
   "source": [
    "- #### geo 데이터셋에서 zip_code_prefix 중복되는 데이터 17972개임\n",
    "- #### geo 데이터셋에서 zip_code_prefix에서 unique 데이터는 19015개임"
   ]
  },
  {
   "cell_type": "markdown",
   "id": "a6f79bc2-2a0d-4a7e-b827-fb129f2cfd6c",
   "metadata": {},
   "source": [
    "#### 중복된 행 제거, unique 값만 남기기"
   ]
  },
  {
   "cell_type": "code",
   "execution_count": 13,
   "id": "e7053c35-6cdb-416f-ba71-b1348c44adff",
   "metadata": {},
   "outputs": [],
   "source": [
    "geo = geo.drop_duplicates(subset='geolocation_zip_code_prefix', keep='first')"
   ]
  },
  {
   "cell_type": "code",
   "execution_count": 14,
   "id": "5a730ff6-6a1c-4c77-bd3c-47f04be2c493",
   "metadata": {},
   "outputs": [
    {
     "data": {
      "text/plain": [
       "(19015, 5)"
      ]
     },
     "execution_count": 14,
     "metadata": {},
     "output_type": "execute_result"
    }
   ],
   "source": [
    "geo.shape"
   ]
  },
  {
   "cell_type": "markdown",
   "id": "86303896-cca9-40c0-b51e-7bb15f6e020c",
   "metadata": {},
   "source": [
    "## <고객 정보 & 지리정보 결합 / 판매처 정보 & 지리정보 결합>"
   ]
  },
  {
   "cell_type": "code",
   "execution_count": 15,
   "id": "87f100a7-c52f-4b4c-ac64-3d1b37d27348",
   "metadata": {},
   "outputs": [],
   "source": [
    "customer_geo = pd.merge(customer, geo, how='left', left_on ='customer_zip_code_prefix', right_on ='geolocation_zip_code_prefix')"
   ]
  },
  {
   "cell_type": "code",
   "execution_count": 16,
   "id": "c646e49f-2b2d-40bd-8a4d-72e676f0b40e",
   "metadata": {},
   "outputs": [
    {
     "data": {
      "text/html": [
       "<div>\n",
       "<style scoped>\n",
       "    .dataframe tbody tr th:only-of-type {\n",
       "        vertical-align: middle;\n",
       "    }\n",
       "\n",
       "    .dataframe tbody tr th {\n",
       "        vertical-align: top;\n",
       "    }\n",
       "\n",
       "    .dataframe thead th {\n",
       "        text-align: right;\n",
       "    }\n",
       "</style>\n",
       "<table border=\"1\" class=\"dataframe\">\n",
       "  <thead>\n",
       "    <tr style=\"text-align: right;\">\n",
       "      <th></th>\n",
       "      <th>customer_id</th>\n",
       "      <th>customer_unique_id</th>\n",
       "      <th>customer_zip_code_prefix</th>\n",
       "      <th>customer_city</th>\n",
       "      <th>customer_state</th>\n",
       "      <th>geolocation_zip_code_prefix</th>\n",
       "      <th>geolocation_lat</th>\n",
       "      <th>geolocation_lng</th>\n",
       "      <th>geolocation_city</th>\n",
       "      <th>geolocation_state</th>\n",
       "    </tr>\n",
       "  </thead>\n",
       "  <tbody>\n",
       "    <tr>\n",
       "      <th>52263</th>\n",
       "      <td>c7432c6d237ffd6aa36a007b4237ec38</td>\n",
       "      <td>9a897ea48bf988012c00b802f1104a92</td>\n",
       "      <td>2971</td>\n",
       "      <td>sao paulo</td>\n",
       "      <td>SP</td>\n",
       "      <td>2971.0</td>\n",
       "      <td>-23.484810</td>\n",
       "      <td>-46.710731</td>\n",
       "      <td>são paulo</td>\n",
       "      <td>SP</td>\n",
       "    </tr>\n",
       "    <tr>\n",
       "      <th>46645</th>\n",
       "      <td>7f399d641e2e2064470145178c9e8778</td>\n",
       "      <td>90436a67885a57f147fb79e6d0e4bc1c</td>\n",
       "      <td>38610</td>\n",
       "      <td>unai</td>\n",
       "      <td>MG</td>\n",
       "      <td>38610.0</td>\n",
       "      <td>-16.362606</td>\n",
       "      <td>-46.892796</td>\n",
       "      <td>unai</td>\n",
       "      <td>MG</td>\n",
       "    </tr>\n",
       "    <tr>\n",
       "      <th>37546</th>\n",
       "      <td>ba5642b730704dc0f74b7cf715b41ed5</td>\n",
       "      <td>4d8056f71519ae1069e6747c63c676f7</td>\n",
       "      <td>88820</td>\n",
       "      <td>icara</td>\n",
       "      <td>SC</td>\n",
       "      <td>88820.0</td>\n",
       "      <td>-28.762992</td>\n",
       "      <td>-49.274992</td>\n",
       "      <td>içara</td>\n",
       "      <td>SC</td>\n",
       "    </tr>\n",
       "    <tr>\n",
       "      <th>94756</th>\n",
       "      <td>0f346a2cc84ebb2d52f0759d0acfd030</td>\n",
       "      <td>6117c9ef3251089693a6abb90c195eba</td>\n",
       "      <td>25250</td>\n",
       "      <td>duque de caxias</td>\n",
       "      <td>RJ</td>\n",
       "      <td>25250.0</td>\n",
       "      <td>-22.577232</td>\n",
       "      <td>-43.305238</td>\n",
       "      <td>duque de caxias</td>\n",
       "      <td>RJ</td>\n",
       "    </tr>\n",
       "    <tr>\n",
       "      <th>14771</th>\n",
       "      <td>d393b9491df482cf448e60aa9955b7f2</td>\n",
       "      <td>5caf3a2a5d1ef808e3dd182e79baa392</td>\n",
       "      <td>36955</td>\n",
       "      <td>mutum</td>\n",
       "      <td>MG</td>\n",
       "      <td>36955.0</td>\n",
       "      <td>-19.818188</td>\n",
       "      <td>-41.443460</td>\n",
       "      <td>mutum</td>\n",
       "      <td>MG</td>\n",
       "    </tr>\n",
       "    <tr>\n",
       "      <th>36263</th>\n",
       "      <td>d9b4a26e122e830decf445a401ff0506</td>\n",
       "      <td>99062accc4c9bbd3a766f5af8beea25a</td>\n",
       "      <td>79005</td>\n",
       "      <td>campo grande</td>\n",
       "      <td>MS</td>\n",
       "      <td>79005.0</td>\n",
       "      <td>-20.480731</td>\n",
       "      <td>-54.617642</td>\n",
       "      <td>campo grande</td>\n",
       "      <td>MS</td>\n",
       "    </tr>\n",
       "    <tr>\n",
       "      <th>98556</th>\n",
       "      <td>3d7ded9f88ad6b06bc3f16ef0987fc54</td>\n",
       "      <td>c7d1c1a9792b4c5b53f6e88807ec88f6</td>\n",
       "      <td>13202</td>\n",
       "      <td>jundiai</td>\n",
       "      <td>SP</td>\n",
       "      <td>13202.0</td>\n",
       "      <td>-23.207180</td>\n",
       "      <td>-46.876930</td>\n",
       "      <td>jundiai</td>\n",
       "      <td>SP</td>\n",
       "    </tr>\n",
       "    <tr>\n",
       "      <th>23747</th>\n",
       "      <td>beabad0a90f659fbd73b571183bab1ec</td>\n",
       "      <td>c9e70f489d81d99aa85136bae90b4427</td>\n",
       "      <td>9971</td>\n",
       "      <td>diadema</td>\n",
       "      <td>SP</td>\n",
       "      <td>9971.0</td>\n",
       "      <td>-23.723068</td>\n",
       "      <td>-46.632000</td>\n",
       "      <td>diadema</td>\n",
       "      <td>SP</td>\n",
       "    </tr>\n",
       "    <tr>\n",
       "      <th>50315</th>\n",
       "      <td>c0a599a259226219c1ea0d3b8821ca54</td>\n",
       "      <td>2e1b1231ac9b6f371971b8ec7b9d0fcd</td>\n",
       "      <td>4215</td>\n",
       "      <td>sao paulo</td>\n",
       "      <td>SP</td>\n",
       "      <td>4215.0</td>\n",
       "      <td>-23.595734</td>\n",
       "      <td>-46.598395</td>\n",
       "      <td>são paulo</td>\n",
       "      <td>SP</td>\n",
       "    </tr>\n",
       "    <tr>\n",
       "      <th>6501</th>\n",
       "      <td>6a8f01843537891ff93700664ca11c7b</td>\n",
       "      <td>39d26db6530f0ad21b671a973cb6e03f</td>\n",
       "      <td>68741</td>\n",
       "      <td>castanhal</td>\n",
       "      <td>PA</td>\n",
       "      <td>68741.0</td>\n",
       "      <td>-1.299945</td>\n",
       "      <td>-47.942052</td>\n",
       "      <td>castanhal</td>\n",
       "      <td>PA</td>\n",
       "    </tr>\n",
       "  </tbody>\n",
       "</table>\n",
       "</div>"
      ],
      "text/plain": [
       "                            customer_id                customer_unique_id  \\\n",
       "52263  c7432c6d237ffd6aa36a007b4237ec38  9a897ea48bf988012c00b802f1104a92   \n",
       "46645  7f399d641e2e2064470145178c9e8778  90436a67885a57f147fb79e6d0e4bc1c   \n",
       "37546  ba5642b730704dc0f74b7cf715b41ed5  4d8056f71519ae1069e6747c63c676f7   \n",
       "94756  0f346a2cc84ebb2d52f0759d0acfd030  6117c9ef3251089693a6abb90c195eba   \n",
       "14771  d393b9491df482cf448e60aa9955b7f2  5caf3a2a5d1ef808e3dd182e79baa392   \n",
       "36263  d9b4a26e122e830decf445a401ff0506  99062accc4c9bbd3a766f5af8beea25a   \n",
       "98556  3d7ded9f88ad6b06bc3f16ef0987fc54  c7d1c1a9792b4c5b53f6e88807ec88f6   \n",
       "23747  beabad0a90f659fbd73b571183bab1ec  c9e70f489d81d99aa85136bae90b4427   \n",
       "50315  c0a599a259226219c1ea0d3b8821ca54  2e1b1231ac9b6f371971b8ec7b9d0fcd   \n",
       "6501   6a8f01843537891ff93700664ca11c7b  39d26db6530f0ad21b671a973cb6e03f   \n",
       "\n",
       "       customer_zip_code_prefix    customer_city customer_state  \\\n",
       "52263                      2971        sao paulo             SP   \n",
       "46645                     38610             unai             MG   \n",
       "37546                     88820            icara             SC   \n",
       "94756                     25250  duque de caxias             RJ   \n",
       "14771                     36955            mutum             MG   \n",
       "36263                     79005     campo grande             MS   \n",
       "98556                     13202          jundiai             SP   \n",
       "23747                      9971          diadema             SP   \n",
       "50315                      4215        sao paulo             SP   \n",
       "6501                      68741        castanhal             PA   \n",
       "\n",
       "       geolocation_zip_code_prefix  geolocation_lat  geolocation_lng  \\\n",
       "52263                       2971.0       -23.484810       -46.710731   \n",
       "46645                      38610.0       -16.362606       -46.892796   \n",
       "37546                      88820.0       -28.762992       -49.274992   \n",
       "94756                      25250.0       -22.577232       -43.305238   \n",
       "14771                      36955.0       -19.818188       -41.443460   \n",
       "36263                      79005.0       -20.480731       -54.617642   \n",
       "98556                      13202.0       -23.207180       -46.876930   \n",
       "23747                       9971.0       -23.723068       -46.632000   \n",
       "50315                       4215.0       -23.595734       -46.598395   \n",
       "6501                       68741.0        -1.299945       -47.942052   \n",
       "\n",
       "      geolocation_city geolocation_state  \n",
       "52263        são paulo                SP  \n",
       "46645             unai                MG  \n",
       "37546            içara                SC  \n",
       "94756  duque de caxias                RJ  \n",
       "14771            mutum                MG  \n",
       "36263     campo grande                MS  \n",
       "98556          jundiai                SP  \n",
       "23747          diadema                SP  \n",
       "50315        são paulo                SP  \n",
       "6501         castanhal                PA  "
      ]
     },
     "execution_count": 16,
     "metadata": {},
     "output_type": "execute_result"
    }
   ],
   "source": [
    "customer_geo.sample(n=10, random_state=42)"
   ]
  },
  {
   "cell_type": "code",
   "execution_count": 17,
   "id": "34f55de0-bf06-460d-af22-64addcb99857",
   "metadata": {},
   "outputs": [
    {
     "name": "stdout",
     "output_type": "stream",
     "text": [
      "<class 'pandas.core.frame.DataFrame'>\n",
      "RangeIndex: 99441 entries, 0 to 99440\n",
      "Data columns (total 10 columns):\n",
      " #   Column                       Non-Null Count  Dtype  \n",
      "---  ------                       --------------  -----  \n",
      " 0   customer_id                  99441 non-null  object \n",
      " 1   customer_unique_id           99441 non-null  object \n",
      " 2   customer_zip_code_prefix     99441 non-null  int64  \n",
      " 3   customer_city                99441 non-null  object \n",
      " 4   customer_state               99441 non-null  object \n",
      " 5   geolocation_zip_code_prefix  99163 non-null  float64\n",
      " 6   geolocation_lat              99163 non-null  float64\n",
      " 7   geolocation_lng              99163 non-null  float64\n",
      " 8   geolocation_city             99163 non-null  object \n",
      " 9   geolocation_state            99163 non-null  object \n",
      "dtypes: float64(3), int64(1), object(6)\n",
      "memory usage: 7.6+ MB\n"
     ]
    }
   ],
   "source": [
    "customer_geo.info()"
   ]
  },
  {
   "cell_type": "markdown",
   "id": "bd07c590-75fb-4627-9e7d-5a3a75291454",
   "metadata": {},
   "source": [
    "- #### unique값만 있는 지리정보를 추출해서 customer zip code를 기준으로 merge 하였지만 geo zip code에 결측치 있음.\n",
    "- #### 즉, customer 데이터셋의 지리정보가 더 많고 geo 데이터셋에 없는 지리정보가 있음"
   ]
  },
  {
   "cell_type": "code",
   "execution_count": 18,
   "id": "41ba3abb-ce4a-4879-8500-4fac966447d7",
   "metadata": {},
   "outputs": [],
   "source": [
    "# Null 값이 있는 행 출력\n",
    "null_rows = customer_geo[customer_geo['geolocation_zip_code_prefix'].isnull()]"
   ]
  },
  {
   "cell_type": "code",
   "execution_count": 19,
   "id": "ef03fa72-a11b-42a2-a179-3a5b8572c495",
   "metadata": {},
   "outputs": [
    {
     "data": {
      "text/html": [
       "<div>\n",
       "<style scoped>\n",
       "    .dataframe tbody tr th:only-of-type {\n",
       "        vertical-align: middle;\n",
       "    }\n",
       "\n",
       "    .dataframe tbody tr th {\n",
       "        vertical-align: top;\n",
       "    }\n",
       "\n",
       "    .dataframe thead th {\n",
       "        text-align: right;\n",
       "    }\n",
       "</style>\n",
       "<table border=\"1\" class=\"dataframe\">\n",
       "  <thead>\n",
       "    <tr style=\"text-align: right;\">\n",
       "      <th></th>\n",
       "      <th>customer_id</th>\n",
       "      <th>customer_unique_id</th>\n",
       "      <th>customer_zip_code_prefix</th>\n",
       "      <th>customer_city</th>\n",
       "      <th>customer_state</th>\n",
       "      <th>geolocation_zip_code_prefix</th>\n",
       "      <th>geolocation_lat</th>\n",
       "      <th>geolocation_lng</th>\n",
       "      <th>geolocation_city</th>\n",
       "      <th>geolocation_state</th>\n",
       "    </tr>\n",
       "  </thead>\n",
       "  <tbody>\n",
       "    <tr>\n",
       "      <th>354</th>\n",
       "      <td>ecb1725b26e8b8c458181455dfa434ea</td>\n",
       "      <td>b55a113bb84fc10eaf58c6d09ec69794</td>\n",
       "      <td>72300</td>\n",
       "      <td>brasilia</td>\n",
       "      <td>DF</td>\n",
       "      <td>NaN</td>\n",
       "      <td>NaN</td>\n",
       "      <td>NaN</td>\n",
       "      <td>NaN</td>\n",
       "      <td>NaN</td>\n",
       "    </tr>\n",
       "    <tr>\n",
       "      <th>382</th>\n",
       "      <td>bcf86029aeed4ed8bac0e16eb14c22f5</td>\n",
       "      <td>7cd7974c9f79f75b77f323878ef87f43</td>\n",
       "      <td>11547</td>\n",
       "      <td>cubatao</td>\n",
       "      <td>SP</td>\n",
       "      <td>NaN</td>\n",
       "      <td>NaN</td>\n",
       "      <td>NaN</td>\n",
       "      <td>NaN</td>\n",
       "      <td>NaN</td>\n",
       "    </tr>\n",
       "    <tr>\n",
       "      <th>877</th>\n",
       "      <td>f4302056f0c58570522590f8181de2c7</td>\n",
       "      <td>67b05b597a66b5c449025000b9430abb</td>\n",
       "      <td>64605</td>\n",
       "      <td>picos</td>\n",
       "      <td>PI</td>\n",
       "      <td>NaN</td>\n",
       "      <td>NaN</td>\n",
       "      <td>NaN</td>\n",
       "      <td>NaN</td>\n",
       "      <td>NaN</td>\n",
       "    </tr>\n",
       "    <tr>\n",
       "      <th>1218</th>\n",
       "      <td>03bbe0ce5c28e05f22917607db798818</td>\n",
       "      <td>8f3dca4306d5a89e4ae2c65c110603a2</td>\n",
       "      <td>72465</td>\n",
       "      <td>brasilia</td>\n",
       "      <td>DF</td>\n",
       "      <td>NaN</td>\n",
       "      <td>NaN</td>\n",
       "      <td>NaN</td>\n",
       "      <td>NaN</td>\n",
       "      <td>NaN</td>\n",
       "    </tr>\n",
       "    <tr>\n",
       "      <th>1272</th>\n",
       "      <td>ad4950aded55c2ea376be59506456d68</td>\n",
       "      <td>aa2b96dd03307ea6dc4b763c0b5f0b39</td>\n",
       "      <td>7729</td>\n",
       "      <td>caieiras</td>\n",
       "      <td>SP</td>\n",
       "      <td>NaN</td>\n",
       "      <td>NaN</td>\n",
       "      <td>NaN</td>\n",
       "      <td>NaN</td>\n",
       "      <td>NaN</td>\n",
       "    </tr>\n",
       "  </tbody>\n",
       "</table>\n",
       "</div>"
      ],
      "text/plain": [
       "                           customer_id                customer_unique_id  \\\n",
       "354   ecb1725b26e8b8c458181455dfa434ea  b55a113bb84fc10eaf58c6d09ec69794   \n",
       "382   bcf86029aeed4ed8bac0e16eb14c22f5  7cd7974c9f79f75b77f323878ef87f43   \n",
       "877   f4302056f0c58570522590f8181de2c7  67b05b597a66b5c449025000b9430abb   \n",
       "1218  03bbe0ce5c28e05f22917607db798818  8f3dca4306d5a89e4ae2c65c110603a2   \n",
       "1272  ad4950aded55c2ea376be59506456d68  aa2b96dd03307ea6dc4b763c0b5f0b39   \n",
       "\n",
       "      customer_zip_code_prefix customer_city customer_state  \\\n",
       "354                      72300      brasilia             DF   \n",
       "382                      11547       cubatao             SP   \n",
       "877                      64605         picos             PI   \n",
       "1218                     72465      brasilia             DF   \n",
       "1272                      7729      caieiras             SP   \n",
       "\n",
       "      geolocation_zip_code_prefix  geolocation_lat  geolocation_lng  \\\n",
       "354                           NaN              NaN              NaN   \n",
       "382                           NaN              NaN              NaN   \n",
       "877                           NaN              NaN              NaN   \n",
       "1218                          NaN              NaN              NaN   \n",
       "1272                          NaN              NaN              NaN   \n",
       "\n",
       "     geolocation_city geolocation_state  \n",
       "354               NaN               NaN  \n",
       "382               NaN               NaN  \n",
       "877               NaN               NaN  \n",
       "1218              NaN               NaN  \n",
       "1272              NaN               NaN  "
      ]
     },
     "execution_count": 19,
     "metadata": {},
     "output_type": "execute_result"
    }
   ],
   "source": [
    "null_rows.head(5)"
   ]
  },
  {
   "cell_type": "code",
   "execution_count": 20,
   "id": "ae3edf35-c1b0-4cf8-9930-2255538b37e6",
   "metadata": {},
   "outputs": [
    {
     "data": {
      "text/html": [
       "<div>\n",
       "<style scoped>\n",
       "    .dataframe tbody tr th:only-of-type {\n",
       "        vertical-align: middle;\n",
       "    }\n",
       "\n",
       "    .dataframe tbody tr th {\n",
       "        vertical-align: top;\n",
       "    }\n",
       "\n",
       "    .dataframe thead th {\n",
       "        text-align: right;\n",
       "    }\n",
       "</style>\n",
       "<table border=\"1\" class=\"dataframe\">\n",
       "  <thead>\n",
       "    <tr style=\"text-align: right;\">\n",
       "      <th></th>\n",
       "      <th>customer_id</th>\n",
       "      <th>customer_unique_id</th>\n",
       "      <th>customer_zip_code_prefix</th>\n",
       "      <th>customer_city</th>\n",
       "      <th>customer_state</th>\n",
       "      <th>geolocation_zip_code_prefix</th>\n",
       "      <th>geolocation_lat</th>\n",
       "      <th>geolocation_lng</th>\n",
       "      <th>geolocation_city</th>\n",
       "      <th>geolocation_state</th>\n",
       "    </tr>\n",
       "  </thead>\n",
       "  <tbody>\n",
       "  </tbody>\n",
       "</table>\n",
       "</div>"
      ],
      "text/plain": [
       "Empty DataFrame\n",
       "Columns: [customer_id, customer_unique_id, customer_zip_code_prefix, customer_city, customer_state, geolocation_zip_code_prefix, geolocation_lat, geolocation_lng, geolocation_city, geolocation_state]\n",
       "Index: []"
      ]
     },
     "execution_count": 20,
     "metadata": {},
     "output_type": "execute_result"
    }
   ],
   "source": [
    "customer_geo[customer_geo['geolocation_zip_code_prefix'] == 72300.0]"
   ]
  },
  {
   "cell_type": "code",
   "execution_count": 21,
   "id": "bcd80a6b-cfd7-4cef-9380-5353669eed29",
   "metadata": {},
   "outputs": [],
   "source": [
    "seller_geo = pd.merge(seller, geo, how='left', left_on='seller_zip_code_prefix', right_on='geolocation_zip_code_prefix')"
   ]
  },
  {
   "cell_type": "code",
   "execution_count": 22,
   "id": "35aaceb7-436e-4713-8253-7048a9c02e15",
   "metadata": {},
   "outputs": [
    {
     "data": {
      "text/html": [
       "<div>\n",
       "<style scoped>\n",
       "    .dataframe tbody tr th:only-of-type {\n",
       "        vertical-align: middle;\n",
       "    }\n",
       "\n",
       "    .dataframe tbody tr th {\n",
       "        vertical-align: top;\n",
       "    }\n",
       "\n",
       "    .dataframe thead th {\n",
       "        text-align: right;\n",
       "    }\n",
       "</style>\n",
       "<table border=\"1\" class=\"dataframe\">\n",
       "  <thead>\n",
       "    <tr style=\"text-align: right;\">\n",
       "      <th></th>\n",
       "      <th>seller_id</th>\n",
       "      <th>seller_zip_code_prefix</th>\n",
       "      <th>seller_city</th>\n",
       "      <th>seller_state</th>\n",
       "      <th>geolocation_zip_code_prefix</th>\n",
       "      <th>geolocation_lat</th>\n",
       "      <th>geolocation_lng</th>\n",
       "      <th>geolocation_city</th>\n",
       "      <th>geolocation_state</th>\n",
       "    </tr>\n",
       "  </thead>\n",
       "  <tbody>\n",
       "    <tr>\n",
       "      <th>260</th>\n",
       "      <td>ac1ed5fc15901fbc92920361eb4ab350</td>\n",
       "      <td>3334</td>\n",
       "      <td>sao paulo</td>\n",
       "      <td>SP</td>\n",
       "      <td>3334.0</td>\n",
       "      <td>-23.554597</td>\n",
       "      <td>-46.573704</td>\n",
       "      <td>sao paulo</td>\n",
       "      <td>SP</td>\n",
       "    </tr>\n",
       "    <tr>\n",
       "      <th>355</th>\n",
       "      <td>5bffbafbb22daf6d3bfc216a46db8708</td>\n",
       "      <td>26525</td>\n",
       "      <td>nilopolis</td>\n",
       "      <td>RJ</td>\n",
       "      <td>26525.0</td>\n",
       "      <td>-22.800936</td>\n",
       "      <td>-43.424861</td>\n",
       "      <td>nilopolis</td>\n",
       "      <td>RJ</td>\n",
       "    </tr>\n",
       "    <tr>\n",
       "      <th>2524</th>\n",
       "      <td>dace965ca58120f92f8d742a9fa1864b</td>\n",
       "      <td>14015</td>\n",
       "      <td>sao paulo</td>\n",
       "      <td>SP</td>\n",
       "      <td>14015.0</td>\n",
       "      <td>-21.180024</td>\n",
       "      <td>-47.813864</td>\n",
       "      <td>ribeirao preto</td>\n",
       "      <td>SP</td>\n",
       "    </tr>\n",
       "    <tr>\n",
       "      <th>731</th>\n",
       "      <td>9674754b5a0cb32b638cec001178f799</td>\n",
       "      <td>4438</td>\n",
       "      <td>sao paulo</td>\n",
       "      <td>SP</td>\n",
       "      <td>4438.0</td>\n",
       "      <td>-23.677741</td>\n",
       "      <td>-46.668647</td>\n",
       "      <td>sao paulo</td>\n",
       "      <td>SP</td>\n",
       "    </tr>\n",
       "    <tr>\n",
       "      <th>2862</th>\n",
       "      <td>bf961104a38e01b9062ee026bb657dee</td>\n",
       "      <td>14055</td>\n",
       "      <td>ribeirao preto</td>\n",
       "      <td>SP</td>\n",
       "      <td>14055.0</td>\n",
       "      <td>-21.157578</td>\n",
       "      <td>-47.817436</td>\n",
       "      <td>ribeirao preto</td>\n",
       "      <td>SP</td>\n",
       "    </tr>\n",
       "    <tr>\n",
       "      <th>1984</th>\n",
       "      <td>5d3bb11474a06bdc23fb9e89f1164ee0</td>\n",
       "      <td>19804</td>\n",
       "      <td>assis</td>\n",
       "      <td>SP</td>\n",
       "      <td>19804.0</td>\n",
       "      <td>-22.662722</td>\n",
       "      <td>-50.437765</td>\n",
       "      <td>assis</td>\n",
       "      <td>SP</td>\n",
       "    </tr>\n",
       "    <tr>\n",
       "      <th>304</th>\n",
       "      <td>92c8bc6e8f925792247656fed09aad65</td>\n",
       "      <td>3384</td>\n",
       "      <td>sao paulo</td>\n",
       "      <td>SP</td>\n",
       "      <td>3384.0</td>\n",
       "      <td>-23.578843</td>\n",
       "      <td>-46.522802</td>\n",
       "      <td>sao paulo</td>\n",
       "      <td>SP</td>\n",
       "    </tr>\n",
       "    <tr>\n",
       "      <th>1883</th>\n",
       "      <td>4d8809767a5bafe22909c77951fb6b41</td>\n",
       "      <td>6803</td>\n",
       "      <td>embu das artes</td>\n",
       "      <td>SP</td>\n",
       "      <td>6803.0</td>\n",
       "      <td>-23.646983</td>\n",
       "      <td>-46.845705</td>\n",
       "      <td>embu das artes</td>\n",
       "      <td>SP</td>\n",
       "    </tr>\n",
       "    <tr>\n",
       "      <th>283</th>\n",
       "      <td>7142540dd4c91e2237acb7e911c4eba2</td>\n",
       "      <td>16301</td>\n",
       "      <td>penapolis</td>\n",
       "      <td>SP</td>\n",
       "      <td>16301.0</td>\n",
       "      <td>-21.426570</td>\n",
       "      <td>-50.067918</td>\n",
       "      <td>penapolis</td>\n",
       "      <td>SP</td>\n",
       "    </tr>\n",
       "    <tr>\n",
       "      <th>2483</th>\n",
       "      <td>6e2d3e2dc84fb30f6078f39dd3bddd6f</td>\n",
       "      <td>83408</td>\n",
       "      <td>colombo</td>\n",
       "      <td>PR</td>\n",
       "      <td>83408.0</td>\n",
       "      <td>-25.371299</td>\n",
       "      <td>-49.188234</td>\n",
       "      <td>colombo</td>\n",
       "      <td>PR</td>\n",
       "    </tr>\n",
       "  </tbody>\n",
       "</table>\n",
       "</div>"
      ],
      "text/plain": [
       "                             seller_id  seller_zip_code_prefix  \\\n",
       "260   ac1ed5fc15901fbc92920361eb4ab350                    3334   \n",
       "355   5bffbafbb22daf6d3bfc216a46db8708                   26525   \n",
       "2524  dace965ca58120f92f8d742a9fa1864b                   14015   \n",
       "731   9674754b5a0cb32b638cec001178f799                    4438   \n",
       "2862  bf961104a38e01b9062ee026bb657dee                   14055   \n",
       "1984  5d3bb11474a06bdc23fb9e89f1164ee0                   19804   \n",
       "304   92c8bc6e8f925792247656fed09aad65                    3384   \n",
       "1883  4d8809767a5bafe22909c77951fb6b41                    6803   \n",
       "283   7142540dd4c91e2237acb7e911c4eba2                   16301   \n",
       "2483  6e2d3e2dc84fb30f6078f39dd3bddd6f                   83408   \n",
       "\n",
       "         seller_city seller_state  geolocation_zip_code_prefix  \\\n",
       "260        sao paulo           SP                       3334.0   \n",
       "355        nilopolis           RJ                      26525.0   \n",
       "2524       sao paulo           SP                      14015.0   \n",
       "731        sao paulo           SP                       4438.0   \n",
       "2862  ribeirao preto           SP                      14055.0   \n",
       "1984           assis           SP                      19804.0   \n",
       "304        sao paulo           SP                       3384.0   \n",
       "1883  embu das artes           SP                       6803.0   \n",
       "283        penapolis           SP                      16301.0   \n",
       "2483         colombo           PR                      83408.0   \n",
       "\n",
       "      geolocation_lat  geolocation_lng geolocation_city geolocation_state  \n",
       "260        -23.554597       -46.573704        sao paulo                SP  \n",
       "355        -22.800936       -43.424861        nilopolis                RJ  \n",
       "2524       -21.180024       -47.813864   ribeirao preto                SP  \n",
       "731        -23.677741       -46.668647        sao paulo                SP  \n",
       "2862       -21.157578       -47.817436   ribeirao preto                SP  \n",
       "1984       -22.662722       -50.437765            assis                SP  \n",
       "304        -23.578843       -46.522802        sao paulo                SP  \n",
       "1883       -23.646983       -46.845705   embu das artes                SP  \n",
       "283        -21.426570       -50.067918        penapolis                SP  \n",
       "2483       -25.371299       -49.188234          colombo                PR  "
      ]
     },
     "execution_count": 22,
     "metadata": {},
     "output_type": "execute_result"
    }
   ],
   "source": [
    "seller_geo.sample(n=10, random_state=40)"
   ]
  },
  {
   "cell_type": "code",
   "execution_count": 23,
   "id": "630e6a67-82ea-455c-86d5-37c391362c77",
   "metadata": {},
   "outputs": [
    {
     "name": "stdout",
     "output_type": "stream",
     "text": [
      "<class 'pandas.core.frame.DataFrame'>\n",
      "RangeIndex: 3095 entries, 0 to 3094\n",
      "Data columns (total 9 columns):\n",
      " #   Column                       Non-Null Count  Dtype  \n",
      "---  ------                       --------------  -----  \n",
      " 0   seller_id                    3095 non-null   object \n",
      " 1   seller_zip_code_prefix       3095 non-null   int64  \n",
      " 2   seller_city                  3095 non-null   object \n",
      " 3   seller_state                 3095 non-null   object \n",
      " 4   geolocation_zip_code_prefix  3088 non-null   float64\n",
      " 5   geolocation_lat              3088 non-null   float64\n",
      " 6   geolocation_lng              3088 non-null   float64\n",
      " 7   geolocation_city             3088 non-null   object \n",
      " 8   geolocation_state            3088 non-null   object \n",
      "dtypes: float64(3), int64(1), object(5)\n",
      "memory usage: 217.7+ KB\n"
     ]
    }
   ],
   "source": [
    "seller_geo.info()"
   ]
  },
  {
   "cell_type": "markdown",
   "id": "8654b7f5-0468-4b93-86f1-90b62879880f",
   "metadata": {},
   "source": [
    "### 4) 주문 아이템 (order_item) 데이터셋 확인"
   ]
  },
  {
   "cell_type": "code",
   "execution_count": 24,
   "id": "bc2b5f18-39cb-4408-863c-10b38ce39826",
   "metadata": {},
   "outputs": [],
   "source": [
    "oi = pd.read_csv('C:/Users/elley/Desktop/Python/project_4_portfolio/ecommerce/olist_order_items.csv')"
   ]
  },
  {
   "cell_type": "code",
   "execution_count": 25,
   "id": "87a49169-c74d-4a36-a982-44a43014f51c",
   "metadata": {},
   "outputs": [
    {
     "data": {
      "text/plain": [
       "(112650, 7)"
      ]
     },
     "execution_count": 25,
     "metadata": {},
     "output_type": "execute_result"
    }
   ],
   "source": [
    "oi.shape"
   ]
  },
  {
   "cell_type": "code",
   "execution_count": 26,
   "id": "f099d48d-3ed7-46f2-909f-5bfcc98196ed",
   "metadata": {},
   "outputs": [
    {
     "name": "stdout",
     "output_type": "stream",
     "text": [
      "<class 'pandas.core.frame.DataFrame'>\n",
      "RangeIndex: 112650 entries, 0 to 112649\n",
      "Data columns (total 7 columns):\n",
      " #   Column               Non-Null Count   Dtype  \n",
      "---  ------               --------------   -----  \n",
      " 0   order_id             112650 non-null  object \n",
      " 1   order_item_id        112650 non-null  int64  \n",
      " 2   product_id           112650 non-null  object \n",
      " 3   seller_id            112650 non-null  object \n",
      " 4   shipping_limit_date  112650 non-null  object \n",
      " 5   price                112650 non-null  float64\n",
      " 6   freight_value        112650 non-null  float64\n",
      "dtypes: float64(2), int64(1), object(4)\n",
      "memory usage: 6.0+ MB\n"
     ]
    }
   ],
   "source": [
    "oi.info()"
   ]
  },
  {
   "cell_type": "code",
   "execution_count": 27,
   "id": "0a96c57a-0279-4232-a0f5-61d351f470cd",
   "metadata": {},
   "outputs": [
    {
     "data": {
      "text/plain": [
       "98666"
      ]
     },
     "execution_count": 27,
     "metadata": {},
     "output_type": "execute_result"
    }
   ],
   "source": [
    "# order item 데이터셋에서 고유한 order_id가 몇개 있는지 알아본다.\n",
    "\n",
    "unique_id_count = oi['order_id'].nunique()\n",
    "unique_id_count"
   ]
  },
  {
   "cell_type": "markdown",
   "id": "2c4b2944-d6e9-4c40-8c6f-909efdb5e281",
   "metadata": {},
   "source": [
    "- #### 반복되는 order_id 예시 '00143d0f86d6fbd9f9b38ab440ac16f5' "
   ]
  },
  {
   "cell_type": "code",
   "execution_count": 28,
   "id": "350d755f-0c84-4c84-a139-7a826e4d9b43",
   "metadata": {},
   "outputs": [
    {
     "data": {
      "text/html": [
       "<div>\n",
       "<style scoped>\n",
       "    .dataframe tbody tr th:only-of-type {\n",
       "        vertical-align: middle;\n",
       "    }\n",
       "\n",
       "    .dataframe tbody tr th {\n",
       "        vertical-align: top;\n",
       "    }\n",
       "\n",
       "    .dataframe thead th {\n",
       "        text-align: right;\n",
       "    }\n",
       "</style>\n",
       "<table border=\"1\" class=\"dataframe\">\n",
       "  <thead>\n",
       "    <tr style=\"text-align: right;\">\n",
       "      <th></th>\n",
       "      <th>order_id</th>\n",
       "      <th>order_item_id</th>\n",
       "      <th>product_id</th>\n",
       "      <th>seller_id</th>\n",
       "      <th>shipping_limit_date</th>\n",
       "      <th>price</th>\n",
       "      <th>freight_value</th>\n",
       "    </tr>\n",
       "  </thead>\n",
       "  <tbody>\n",
       "    <tr>\n",
       "      <th>32</th>\n",
       "      <td>00143d0f86d6fbd9f9b38ab440ac16f5</td>\n",
       "      <td>1</td>\n",
       "      <td>e95ee6822b66ac6058e2e4aff656071a</td>\n",
       "      <td>a17f621c590ea0fab3d5d883e1630ec6</td>\n",
       "      <td>2017-10-20 16:07:52</td>\n",
       "      <td>21.33</td>\n",
       "      <td>15.1</td>\n",
       "    </tr>\n",
       "    <tr>\n",
       "      <th>33</th>\n",
       "      <td>00143d0f86d6fbd9f9b38ab440ac16f5</td>\n",
       "      <td>2</td>\n",
       "      <td>e95ee6822b66ac6058e2e4aff656071a</td>\n",
       "      <td>a17f621c590ea0fab3d5d883e1630ec6</td>\n",
       "      <td>2017-10-20 16:07:52</td>\n",
       "      <td>21.33</td>\n",
       "      <td>15.1</td>\n",
       "    </tr>\n",
       "    <tr>\n",
       "      <th>34</th>\n",
       "      <td>00143d0f86d6fbd9f9b38ab440ac16f5</td>\n",
       "      <td>3</td>\n",
       "      <td>e95ee6822b66ac6058e2e4aff656071a</td>\n",
       "      <td>a17f621c590ea0fab3d5d883e1630ec6</td>\n",
       "      <td>2017-10-20 16:07:52</td>\n",
       "      <td>21.33</td>\n",
       "      <td>15.1</td>\n",
       "    </tr>\n",
       "  </tbody>\n",
       "</table>\n",
       "</div>"
      ],
      "text/plain": [
       "                            order_id  order_item_id  \\\n",
       "32  00143d0f86d6fbd9f9b38ab440ac16f5              1   \n",
       "33  00143d0f86d6fbd9f9b38ab440ac16f5              2   \n",
       "34  00143d0f86d6fbd9f9b38ab440ac16f5              3   \n",
       "\n",
       "                          product_id                         seller_id  \\\n",
       "32  e95ee6822b66ac6058e2e4aff656071a  a17f621c590ea0fab3d5d883e1630ec6   \n",
       "33  e95ee6822b66ac6058e2e4aff656071a  a17f621c590ea0fab3d5d883e1630ec6   \n",
       "34  e95ee6822b66ac6058e2e4aff656071a  a17f621c590ea0fab3d5d883e1630ec6   \n",
       "\n",
       "    shipping_limit_date  price  freight_value  \n",
       "32  2017-10-20 16:07:52  21.33           15.1  \n",
       "33  2017-10-20 16:07:52  21.33           15.1  \n",
       "34  2017-10-20 16:07:52  21.33           15.1  "
      ]
     },
     "execution_count": 28,
     "metadata": {},
     "output_type": "execute_result"
    }
   ],
   "source": [
    "oi[oi['order_id'] == '00143d0f86d6fbd9f9b38ab440ac16f5']"
   ]
  },
  {
   "cell_type": "markdown",
   "id": "48219fa9-70d5-48a1-9b7a-a62780faee00",
   "metadata": {},
   "source": [
    "- #### 중복된 order_id만 리스트로 추출"
   ]
  },
  {
   "cell_type": "code",
   "execution_count": 29,
   "id": "a1bf8d10-4390-42d4-828a-56d666211c17",
   "metadata": {},
   "outputs": [
    {
     "data": {
      "text/plain": [
       "9803"
      ]
     },
     "execution_count": 29,
     "metadata": {},
     "output_type": "execute_result"
    }
   ],
   "source": [
    "duplicate_id_list = oi['order_id'][oi['order_id'].duplicated()].unique()\n",
    "len(duplicate_id_list)"
   ]
  },
  {
   "cell_type": "markdown",
   "id": "d69e2d6b-d641-485d-80ab-faf0c1c24f25",
   "metadata": {},
   "source": [
    "- #### 아이템을 여러개 구입한 주문 id에서 seller가 다 동일한지 확인 --> 모두 동일"
   ]
  },
  {
   "cell_type": "code",
   "execution_count": 30,
   "id": "7ac066f8-efb2-4e28-9461-42ca496fc712",
   "metadata": {},
   "outputs": [
    {
     "data": {
      "text/plain": [
       "array(['0008288aa423d2a3f00fcb17cd7d8719',\n",
       "       '00143d0f86d6fbd9f9b38ab440ac16f5',\n",
       "       '001ab0a7578dd66cd4b0a71f5b6e1e41'], dtype=object)"
      ]
     },
     "execution_count": 30,
     "metadata": {},
     "output_type": "execute_result"
    }
   ],
   "source": [
    "duplicate_id_list[:3]"
   ]
  },
  {
   "cell_type": "code",
   "execution_count": 31,
   "id": "cfb85ae9-b57c-4b22-84f3-864fb8b87f72",
   "metadata": {},
   "outputs": [
    {
     "data": {
      "text/html": [
       "<div>\n",
       "<style scoped>\n",
       "    .dataframe tbody tr th:only-of-type {\n",
       "        vertical-align: middle;\n",
       "    }\n",
       "\n",
       "    .dataframe tbody tr th {\n",
       "        vertical-align: top;\n",
       "    }\n",
       "\n",
       "    .dataframe thead th {\n",
       "        text-align: right;\n",
       "    }\n",
       "</style>\n",
       "<table border=\"1\" class=\"dataframe\">\n",
       "  <thead>\n",
       "    <tr style=\"text-align: right;\">\n",
       "      <th></th>\n",
       "      <th>order_id</th>\n",
       "      <th>order_item_id</th>\n",
       "      <th>product_id</th>\n",
       "      <th>seller_id</th>\n",
       "      <th>shipping_limit_date</th>\n",
       "      <th>price</th>\n",
       "      <th>freight_value</th>\n",
       "    </tr>\n",
       "  </thead>\n",
       "  <tbody>\n",
       "    <tr>\n",
       "      <th>13</th>\n",
       "      <td>0008288aa423d2a3f00fcb17cd7d8719</td>\n",
       "      <td>1</td>\n",
       "      <td>368c6c730842d78016ad823897a372db</td>\n",
       "      <td>1f50f920176fa81dab994f9023523100</td>\n",
       "      <td>2018-02-21 02:55:52</td>\n",
       "      <td>49.9</td>\n",
       "      <td>13.37</td>\n",
       "    </tr>\n",
       "    <tr>\n",
       "      <th>14</th>\n",
       "      <td>0008288aa423d2a3f00fcb17cd7d8719</td>\n",
       "      <td>2</td>\n",
       "      <td>368c6c730842d78016ad823897a372db</td>\n",
       "      <td>1f50f920176fa81dab994f9023523100</td>\n",
       "      <td>2018-02-21 02:55:52</td>\n",
       "      <td>49.9</td>\n",
       "      <td>13.37</td>\n",
       "    </tr>\n",
       "  </tbody>\n",
       "</table>\n",
       "</div>"
      ],
      "text/plain": [
       "                            order_id  order_item_id  \\\n",
       "13  0008288aa423d2a3f00fcb17cd7d8719              1   \n",
       "14  0008288aa423d2a3f00fcb17cd7d8719              2   \n",
       "\n",
       "                          product_id                         seller_id  \\\n",
       "13  368c6c730842d78016ad823897a372db  1f50f920176fa81dab994f9023523100   \n",
       "14  368c6c730842d78016ad823897a372db  1f50f920176fa81dab994f9023523100   \n",
       "\n",
       "    shipping_limit_date  price  freight_value  \n",
       "13  2018-02-21 02:55:52   49.9          13.37  \n",
       "14  2018-02-21 02:55:52   49.9          13.37  "
      ]
     },
     "execution_count": 31,
     "metadata": {},
     "output_type": "execute_result"
    }
   ],
   "source": [
    "oi[oi['order_id'] == '0008288aa423d2a3f00fcb17cd7d8719']"
   ]
  },
  {
   "cell_type": "markdown",
   "id": "d1f6c96b-471a-4029-8dba-d92ae732c43f",
   "metadata": {},
   "source": [
    "- #### 아이템을 중복구매한 경우 몇개까지 중복 구매하였는지 개수 분포를 살펴봄"
   ]
  },
  {
   "cell_type": "code",
   "execution_count": 32,
   "id": "53d63891-5b1c-4949-9dcf-6a23ea9277e9",
   "metadata": {},
   "outputs": [],
   "source": [
    "import matplotlib.pyplot as plt"
   ]
  },
  {
   "cell_type": "code",
   "execution_count": 33,
   "id": "18be5dc6-2882-4389-83cc-1f6a95f126ab",
   "metadata": {},
   "outputs": [
    {
     "data": {
      "text/html": [
       "<div>\n",
       "<style scoped>\n",
       "    .dataframe tbody tr th:only-of-type {\n",
       "        vertical-align: middle;\n",
       "    }\n",
       "\n",
       "    .dataframe tbody tr th {\n",
       "        vertical-align: top;\n",
       "    }\n",
       "\n",
       "    .dataframe thead th {\n",
       "        text-align: right;\n",
       "    }\n",
       "</style>\n",
       "<table border=\"1\" class=\"dataframe\">\n",
       "  <thead>\n",
       "    <tr style=\"text-align: right;\">\n",
       "      <th></th>\n",
       "      <th>order_id</th>\n",
       "      <th>order_item_id</th>\n",
       "      <th>product_id</th>\n",
       "      <th>seller_id</th>\n",
       "      <th>shipping_limit_date</th>\n",
       "      <th>price</th>\n",
       "      <th>freight_value</th>\n",
       "    </tr>\n",
       "  </thead>\n",
       "  <tbody>\n",
       "    <tr>\n",
       "      <th>13</th>\n",
       "      <td>0008288aa423d2a3f00fcb17cd7d8719</td>\n",
       "      <td>1</td>\n",
       "      <td>368c6c730842d78016ad823897a372db</td>\n",
       "      <td>1f50f920176fa81dab994f9023523100</td>\n",
       "      <td>2018-02-21 02:55:52</td>\n",
       "      <td>49.90</td>\n",
       "      <td>13.37</td>\n",
       "    </tr>\n",
       "    <tr>\n",
       "      <th>14</th>\n",
       "      <td>0008288aa423d2a3f00fcb17cd7d8719</td>\n",
       "      <td>2</td>\n",
       "      <td>368c6c730842d78016ad823897a372db</td>\n",
       "      <td>1f50f920176fa81dab994f9023523100</td>\n",
       "      <td>2018-02-21 02:55:52</td>\n",
       "      <td>49.90</td>\n",
       "      <td>13.37</td>\n",
       "    </tr>\n",
       "    <tr>\n",
       "      <th>32</th>\n",
       "      <td>00143d0f86d6fbd9f9b38ab440ac16f5</td>\n",
       "      <td>1</td>\n",
       "      <td>e95ee6822b66ac6058e2e4aff656071a</td>\n",
       "      <td>a17f621c590ea0fab3d5d883e1630ec6</td>\n",
       "      <td>2017-10-20 16:07:52</td>\n",
       "      <td>21.33</td>\n",
       "      <td>15.10</td>\n",
       "    </tr>\n",
       "  </tbody>\n",
       "</table>\n",
       "</div>"
      ],
      "text/plain": [
       "                            order_id  order_item_id  \\\n",
       "13  0008288aa423d2a3f00fcb17cd7d8719              1   \n",
       "14  0008288aa423d2a3f00fcb17cd7d8719              2   \n",
       "32  00143d0f86d6fbd9f9b38ab440ac16f5              1   \n",
       "\n",
       "                          product_id                         seller_id  \\\n",
       "13  368c6c730842d78016ad823897a372db  1f50f920176fa81dab994f9023523100   \n",
       "14  368c6c730842d78016ad823897a372db  1f50f920176fa81dab994f9023523100   \n",
       "32  e95ee6822b66ac6058e2e4aff656071a  a17f621c590ea0fab3d5d883e1630ec6   \n",
       "\n",
       "    shipping_limit_date  price  freight_value  \n",
       "13  2018-02-21 02:55:52  49.90          13.37  \n",
       "14  2018-02-21 02:55:52  49.90          13.37  \n",
       "32  2017-10-20 16:07:52  21.33          15.10  "
      ]
     },
     "execution_count": 33,
     "metadata": {},
     "output_type": "execute_result"
    }
   ],
   "source": [
    "filter = oi[oi['order_id'].isin(duplicate_id_list)]\n",
    "filter.head(3)"
   ]
  },
  {
   "cell_type": "code",
   "execution_count": 34,
   "id": "dc87efdc-3923-4553-8f88-92bfc5d16d67",
   "metadata": {},
   "outputs": [],
   "source": [
    "filtered = filter.groupby('order_id')['order_item_id'].max()\n",
    "new_filter = filtered.reset_index()"
   ]
  },
  {
   "cell_type": "code",
   "execution_count": 35,
   "id": "cf7ff459-5f93-4b7e-9127-5a95ce61837f",
   "metadata": {},
   "outputs": [
    {
     "data": {
      "text/html": [
       "<div>\n",
       "<style scoped>\n",
       "    .dataframe tbody tr th:only-of-type {\n",
       "        vertical-align: middle;\n",
       "    }\n",
       "\n",
       "    .dataframe tbody tr th {\n",
       "        vertical-align: top;\n",
       "    }\n",
       "\n",
       "    .dataframe thead th {\n",
       "        text-align: right;\n",
       "    }\n",
       "</style>\n",
       "<table border=\"1\" class=\"dataframe\">\n",
       "  <thead>\n",
       "    <tr style=\"text-align: right;\">\n",
       "      <th></th>\n",
       "      <th>order_id</th>\n",
       "      <th>order_item_id</th>\n",
       "    </tr>\n",
       "  </thead>\n",
       "  <tbody>\n",
       "    <tr>\n",
       "      <th>0</th>\n",
       "      <td>0008288aa423d2a3f00fcb17cd7d8719</td>\n",
       "      <td>2</td>\n",
       "    </tr>\n",
       "    <tr>\n",
       "      <th>1</th>\n",
       "      <td>00143d0f86d6fbd9f9b38ab440ac16f5</td>\n",
       "      <td>3</td>\n",
       "    </tr>\n",
       "    <tr>\n",
       "      <th>2</th>\n",
       "      <td>001ab0a7578dd66cd4b0a71f5b6e1e41</td>\n",
       "      <td>3</td>\n",
       "    </tr>\n",
       "  </tbody>\n",
       "</table>\n",
       "</div>"
      ],
      "text/plain": [
       "                           order_id  order_item_id\n",
       "0  0008288aa423d2a3f00fcb17cd7d8719              2\n",
       "1  00143d0f86d6fbd9f9b38ab440ac16f5              3\n",
       "2  001ab0a7578dd66cd4b0a71f5b6e1e41              3"
      ]
     },
     "execution_count": 35,
     "metadata": {},
     "output_type": "execute_result"
    }
   ],
   "source": [
    "new_filter.head(3)"
   ]
  },
  {
   "cell_type": "code",
   "execution_count": 36,
   "id": "cde2143f-74cf-4c96-8196-35692c677b03",
   "metadata": {},
   "outputs": [
    {
     "data": {
      "text/plain": [
       "(array([7.516e+03, 0.000e+00, 1.322e+03, 0.000e+00, 0.000e+00, 5.050e+02,\n",
       "        0.000e+00, 2.040e+02, 0.000e+00, 0.000e+00, 1.980e+02, 0.000e+00,\n",
       "        0.000e+00, 2.200e+01, 0.000e+00, 8.000e+00, 0.000e+00, 0.000e+00,\n",
       "        3.000e+00, 0.000e+00, 0.000e+00, 8.000e+00, 0.000e+00, 4.000e+00,\n",
       "        0.000e+00, 0.000e+00, 5.000e+00, 0.000e+00, 1.000e+00, 0.000e+00,\n",
       "        0.000e+00, 2.000e+00, 0.000e+00, 0.000e+00, 2.000e+00, 0.000e+00,\n",
       "        0.000e+00, 0.000e+00, 0.000e+00, 0.000e+00, 0.000e+00, 0.000e+00,\n",
       "        0.000e+00, 0.000e+00, 0.000e+00, 0.000e+00, 0.000e+00, 2.000e+00,\n",
       "        0.000e+00, 1.000e+00]),\n",
       " array([ 2.  ,  2.38,  2.76,  3.14,  3.52,  3.9 ,  4.28,  4.66,  5.04,\n",
       "         5.42,  5.8 ,  6.18,  6.56,  6.94,  7.32,  7.7 ,  8.08,  8.46,\n",
       "         8.84,  9.22,  9.6 ,  9.98, 10.36, 10.74, 11.12, 11.5 , 11.88,\n",
       "        12.26, 12.64, 13.02, 13.4 , 13.78, 14.16, 14.54, 14.92, 15.3 ,\n",
       "        15.68, 16.06, 16.44, 16.82, 17.2 , 17.58, 17.96, 18.34, 18.72,\n",
       "        19.1 , 19.48, 19.86, 20.24, 20.62, 21.  ]),\n",
       " <BarContainer object of 50 artists>)"
      ]
     },
     "execution_count": 36,
     "metadata": {},
     "output_type": "execute_result"
    },
    {
     "data": {
      "image/png": "[encoded data removed]",
      "text/plain": [
       "<Figure size 600x500 with 1 Axes>"
      ]
     },
     "metadata": {},
     "output_type": "display_data"
    }
   ],
   "source": [
    "plt.figure(figsize=(6, 5))\n",
    "plt.hist(new_filter['order_item_id'], bins=50, edgecolor='black')"
   ]
  },
  {
   "cell_type": "code",
   "execution_count": 37,
   "id": "6d418e15-d6ae-4be9-936f-92578982112f",
   "metadata": {},
   "outputs": [
    {
     "name": "stdout",
     "output_type": "stream",
     "text": [
      "21\n",
      "2\n"
     ]
    }
   ],
   "source": [
    "print(max(new_filter['order_item_id']))\n",
    "print(min(new_filter['order_item_id']))"
   ]
  },
  {
   "cell_type": "markdown",
   "id": "911dac4e-03f4-47ab-baab-c35edd3cf96f",
   "metadata": {},
   "source": [
    "- #### 중복구매 최대 개수는 21개, 최소개수는 2개"
   ]
  },
  {
   "cell_type": "markdown",
   "id": "b501b224-4507-4ad4-a8e5-5c2618dd61fc",
   "metadata": {},
   "source": [
    "### 중복된 'order_id' 그룹에서 'order_item_id(아이템 개수)'가 가장 높은 행만 남기기\n"
   ]
  },
  {
   "cell_type": "code",
   "execution_count": 38,
   "id": "1bcfebe4-7e45-4817-8558-f2f6c22eb38f",
   "metadata": {},
   "outputs": [
    {
     "data": {
      "text/plain": [
       "(98666, 7)"
      ]
     },
     "execution_count": 38,
     "metadata": {},
     "output_type": "execute_result"
    }
   ],
   "source": [
    "result = oi.loc[oi.groupby('order_id')['order_item_id'].idxmax()]\n",
    "oi_max = result\n",
    "oi_max.shape"
   ]
  },
  {
   "cell_type": "markdown",
   "id": "1be2a749-7679-4a88-9f4a-f7421c484b45",
   "metadata": {},
   "source": [
    "- #### order_item 결측치 없음\n",
    "  - unique한 order_id 개수는 98666개\n",
    "  - 반복되는 order_id 개수는 9803개. unique한 order_id 중 9803개가 반복됨. 이 **order_id**는 특정상품을 두번이상 구매\n",
    "  - **order_item_id**는 order_id에 따른 구매한 아이템 개수를 나타냄 (1개~21개)"
   ]
  },
  {
   "cell_type": "markdown",
   "id": "5e7fe1c3-5b92-4052-ad39-7e03fae5641f",
   "metadata": {},
   "source": [
    "- ### order_item_id를 상품 개수를 뜻하는 컬럼명을 바꾸기"
   ]
  },
  {
   "cell_type": "code",
   "execution_count": 41,
   "id": "e58cd282-0bff-4591-9448-84aa6961cee3",
   "metadata": {},
   "outputs": [],
   "source": [
    "oi_max = oi_max.rename(columns={'order_item_id': 'item_count'}, inplace=False)"
   ]
  },
  {
   "cell_type": "markdown",
   "id": "f1b2b47a-b1cb-46d6-b9e4-47fceff70596",
   "metadata": {},
   "source": [
    "- ### 전체 상품 구매액을 나타내는 새로운 컬럼(지표), 'total_cost' 만들기"
   ]
  },
  {
   "cell_type": "code",
   "execution_count": 42,
   "id": "742edc49-f75b-426f-8fe7-96e430a1afee",
   "metadata": {},
   "outputs": [],
   "source": [
    "oi_max['total_cost'] = oi_max['item_count']*oi_max['price']"
   ]
  },
  {
   "cell_type": "code",
   "execution_count": 52,
   "id": "ddbaf5eb-1479-4ae2-a0d2-b6244efb53b8",
   "metadata": {},
   "outputs": [],
   "source": [
    "oi_max.to_csv(\"order_item_max.csv\")"
   ]
  },
  {
   "cell_type": "markdown",
   "id": "b03a328e-06af-4c4e-8a2e-2e8dedca3da3",
   "metadata": {},
   "source": [
    "### 5) 결제수단 (payment) 방식 데이터셋 확인"
   ]
  },
  {
   "cell_type": "code",
   "execution_count": 43,
   "id": "c92c1d8f-923a-401e-893d-f1811373c637",
   "metadata": {},
   "outputs": [],
   "source": [
    "payment = pd.read_csv('C:/Users/elley/Desktop/Python/project_4_portfolio/ecommerce/olist_order_payments.csv')"
   ]
  },
  {
   "cell_type": "code",
   "execution_count": 44,
   "id": "976b213a-1620-4065-97a2-ae744ebba35e",
   "metadata": {},
   "outputs": [
    {
     "name": "stdout",
     "output_type": "stream",
     "text": [
      "<class 'pandas.core.frame.DataFrame'>\n",
      "RangeIndex: 103886 entries, 0 to 103885\n",
      "Data columns (total 5 columns):\n",
      " #   Column                Non-Null Count   Dtype  \n",
      "---  ------                --------------   -----  \n",
      " 0   order_id              103886 non-null  object \n",
      " 1   payment_sequential    103886 non-null  int64  \n",
      " 2   payment_type          103886 non-null  object \n",
      " 3   payment_installments  103886 non-null  int64  \n",
      " 4   payment_value         103886 non-null  float64\n",
      "dtypes: float64(1), int64(2), object(2)\n",
      "memory usage: 4.0+ MB\n"
     ]
    }
   ],
   "source": [
    "payment.info()"
   ]
  },
  {
   "cell_type": "code",
   "execution_count": 45,
   "id": "5275dbd1-91b1-4bc4-b57d-80156b2c80d2",
   "metadata": {},
   "outputs": [
    {
     "data": {
      "text/html": [
       "<div>\n",
       "<style scoped>\n",
       "    .dataframe tbody tr th:only-of-type {\n",
       "        vertical-align: middle;\n",
       "    }\n",
       "\n",
       "    .dataframe tbody tr th {\n",
       "        vertical-align: top;\n",
       "    }\n",
       "\n",
       "    .dataframe thead th {\n",
       "        text-align: right;\n",
       "    }\n",
       "</style>\n",
       "<table border=\"1\" class=\"dataframe\">\n",
       "  <thead>\n",
       "    <tr style=\"text-align: right;\">\n",
       "      <th></th>\n",
       "      <th>order_id</th>\n",
       "      <th>payment_sequential</th>\n",
       "      <th>payment_type</th>\n",
       "      <th>payment_installments</th>\n",
       "      <th>payment_value</th>\n",
       "    </tr>\n",
       "  </thead>\n",
       "  <tbody>\n",
       "    <tr>\n",
       "      <th>0</th>\n",
       "      <td>b81ef226f3fe1789b1e8b2acac839d17</td>\n",
       "      <td>1</td>\n",
       "      <td>credit_card</td>\n",
       "      <td>8</td>\n",
       "      <td>99.33</td>\n",
       "    </tr>\n",
       "    <tr>\n",
       "      <th>1</th>\n",
       "      <td>a9810da82917af2d9aefd1278f1dcfa0</td>\n",
       "      <td>1</td>\n",
       "      <td>credit_card</td>\n",
       "      <td>1</td>\n",
       "      <td>24.39</td>\n",
       "    </tr>\n",
       "    <tr>\n",
       "      <th>2</th>\n",
       "      <td>25e8ea4e93396b6fa0d3dd708e76c1bd</td>\n",
       "      <td>1</td>\n",
       "      <td>credit_card</td>\n",
       "      <td>1</td>\n",
       "      <td>65.71</td>\n",
       "    </tr>\n",
       "  </tbody>\n",
       "</table>\n",
       "</div>"
      ],
      "text/plain": [
       "                           order_id  payment_sequential payment_type  \\\n",
       "0  b81ef226f3fe1789b1e8b2acac839d17                   1  credit_card   \n",
       "1  a9810da82917af2d9aefd1278f1dcfa0                   1  credit_card   \n",
       "2  25e8ea4e93396b6fa0d3dd708e76c1bd                   1  credit_card   \n",
       "\n",
       "   payment_installments  payment_value  \n",
       "0                     8          99.33  \n",
       "1                     1          24.39  \n",
       "2                     1          65.71  "
      ]
     },
     "execution_count": 45,
     "metadata": {},
     "output_type": "execute_result"
    }
   ],
   "source": [
    "payment.head(3)"
   ]
  },
  {
   "cell_type": "code",
   "execution_count": 46,
   "id": "7267682c-a468-45df-a79d-478b05706f9a",
   "metadata": {},
   "outputs": [
    {
     "data": {
      "text/plain": [
       "array(['credit_card', 'boleto', 'voucher', 'debit_card', 'not_defined'],\n",
       "      dtype=object)"
      ]
     },
     "execution_count": 46,
     "metadata": {},
     "output_type": "execute_result"
    }
   ],
   "source": [
    "payment['payment_type'].unique()"
   ]
  },
  {
   "cell_type": "markdown",
   "id": "cf8af5a5-09b7-4d98-a59a-c65cb86eb4bd",
   "metadata": {},
   "source": [
    "### 6) 상품 (products) 데이터셋 확인"
   ]
  },
  {
   "cell_type": "code",
   "execution_count": 47,
   "id": "89a8e0ee-b789-4c59-9750-a7165f2c370a",
   "metadata": {},
   "outputs": [],
   "source": [
    "products = pd.read_csv('C:/Users/elley/Desktop/Python/project_4_portfolio/ecommerce/olist_products.csv')"
   ]
  },
  {
   "cell_type": "code",
   "execution_count": 48,
   "id": "e7bf59a0-3e8b-4521-9f69-532f1a9797f8",
   "metadata": {},
   "outputs": [
    {
     "name": "stdout",
     "output_type": "stream",
     "text": [
      "<class 'pandas.core.frame.DataFrame'>\n",
      "RangeIndex: 32951 entries, 0 to 32950\n",
      "Data columns (total 9 columns):\n",
      " #   Column                      Non-Null Count  Dtype  \n",
      "---  ------                      --------------  -----  \n",
      " 0   product_id                  32951 non-null  object \n",
      " 1   product_category_name       32341 non-null  object \n",
      " 2   product_name_lenght         32341 non-null  float64\n",
      " 3   product_description_lenght  32341 non-null  float64\n",
      " 4   product_photos_qty          32341 non-null  float64\n",
      " 5   product_weight_g            32949 non-null  float64\n",
      " 6   product_length_cm           32949 non-null  float64\n",
      " 7   product_height_cm           32949 non-null  float64\n",
      " 8   product_width_cm            32949 non-null  float64\n",
      "dtypes: float64(7), object(2)\n",
      "memory usage: 2.3+ MB\n"
     ]
    }
   ],
   "source": [
    "products.info()"
   ]
  },
  {
   "cell_type": "code",
   "execution_count": 49,
   "id": "896bf608-4fb0-46de-8d34-b5657acc25ca",
   "metadata": {},
   "outputs": [
    {
     "data": {
      "text/html": [
       "<div>\n",
       "<style scoped>\n",
       "    .dataframe tbody tr th:only-of-type {\n",
       "        vertical-align: middle;\n",
       "    }\n",
       "\n",
       "    .dataframe tbody tr th {\n",
       "        vertical-align: top;\n",
       "    }\n",
       "\n",
       "    .dataframe thead th {\n",
       "        text-align: right;\n",
       "    }\n",
       "</style>\n",
       "<table border=\"1\" class=\"dataframe\">\n",
       "  <thead>\n",
       "    <tr style=\"text-align: right;\">\n",
       "      <th></th>\n",
       "      <th>product_id</th>\n",
       "      <th>product_category_name</th>\n",
       "      <th>product_name_lenght</th>\n",
       "      <th>product_description_lenght</th>\n",
       "      <th>product_photos_qty</th>\n",
       "      <th>product_weight_g</th>\n",
       "      <th>product_length_cm</th>\n",
       "      <th>product_height_cm</th>\n",
       "      <th>product_width_cm</th>\n",
       "    </tr>\n",
       "  </thead>\n",
       "  <tbody>\n",
       "    <tr>\n",
       "      <th>6168</th>\n",
       "      <td>e3217b2b6ec69befdfa1e98962b2565d</td>\n",
       "      <td>brinquedos</td>\n",
       "      <td>57.0</td>\n",
       "      <td>882.0</td>\n",
       "      <td>4.0</td>\n",
       "      <td>350.0</td>\n",
       "      <td>20.0</td>\n",
       "      <td>25.0</td>\n",
       "      <td>20.0</td>\n",
       "    </tr>\n",
       "    <tr>\n",
       "      <th>13934</th>\n",
       "      <td>e087cb77e9a24e317f4ba08077fa6226</td>\n",
       "      <td>moveis_decoracao</td>\n",
       "      <td>60.0</td>\n",
       "      <td>2010.0</td>\n",
       "      <td>2.0</td>\n",
       "      <td>1450.0</td>\n",
       "      <td>69.0</td>\n",
       "      <td>11.0</td>\n",
       "      <td>11.0</td>\n",
       "    </tr>\n",
       "    <tr>\n",
       "      <th>11917</th>\n",
       "      <td>23bb156d1ade824158d1b0c799f9a641</td>\n",
       "      <td>cool_stuff</td>\n",
       "      <td>46.0</td>\n",
       "      <td>978.0</td>\n",
       "      <td>5.0</td>\n",
       "      <td>1000.0</td>\n",
       "      <td>50.0</td>\n",
       "      <td>20.0</td>\n",
       "      <td>20.0</td>\n",
       "    </tr>\n",
       "    <tr>\n",
       "      <th>350</th>\n",
       "      <td>a2bd2eae20998a24c22b110334928b02</td>\n",
       "      <td>malas_acessorios</td>\n",
       "      <td>39.0</td>\n",
       "      <td>278.0</td>\n",
       "      <td>1.0</td>\n",
       "      <td>700.0</td>\n",
       "      <td>19.0</td>\n",
       "      <td>48.0</td>\n",
       "      <td>35.0</td>\n",
       "    </tr>\n",
       "    <tr>\n",
       "      <th>21149</th>\n",
       "      <td>2373f6870eb01db83a3609a731580320</td>\n",
       "      <td>informatica_acessorios</td>\n",
       "      <td>56.0</td>\n",
       "      <td>1026.0</td>\n",
       "      <td>1.0</td>\n",
       "      <td>300.0</td>\n",
       "      <td>16.0</td>\n",
       "      <td>10.0</td>\n",
       "      <td>12.0</td>\n",
       "    </tr>\n",
       "    <tr>\n",
       "      <th>30515</th>\n",
       "      <td>2b7bb91ceee2bfa598986638fb136ba4</td>\n",
       "      <td>alimentos_bebidas</td>\n",
       "      <td>59.0</td>\n",
       "      <td>399.0</td>\n",
       "      <td>2.0</td>\n",
       "      <td>262.0</td>\n",
       "      <td>28.0</td>\n",
       "      <td>15.0</td>\n",
       "      <td>20.0</td>\n",
       "    </tr>\n",
       "    <tr>\n",
       "      <th>32527</th>\n",
       "      <td>7a644354b3b217b7d89e529bb01f334e</td>\n",
       "      <td>perfumaria</td>\n",
       "      <td>55.0</td>\n",
       "      <td>215.0</td>\n",
       "      <td>1.0</td>\n",
       "      <td>100.0</td>\n",
       "      <td>17.0</td>\n",
       "      <td>9.0</td>\n",
       "      <td>20.0</td>\n",
       "    </tr>\n",
       "    <tr>\n",
       "      <th>31342</th>\n",
       "      <td>3d9bbe6e6d8c6dd8ba6e728f2586e510</td>\n",
       "      <td>beleza_saude</td>\n",
       "      <td>60.0</td>\n",
       "      <td>499.0</td>\n",
       "      <td>1.0</td>\n",
       "      <td>273.0</td>\n",
       "      <td>16.0</td>\n",
       "      <td>13.0</td>\n",
       "      <td>14.0</td>\n",
       "    </tr>\n",
       "    <tr>\n",
       "      <th>2756</th>\n",
       "      <td>09b2a4f1ce3561a6562ffdccc0ca7c18</td>\n",
       "      <td>ferramentas_jardim</td>\n",
       "      <td>47.0</td>\n",
       "      <td>508.0</td>\n",
       "      <td>3.0</td>\n",
       "      <td>1150.0</td>\n",
       "      <td>25.0</td>\n",
       "      <td>20.0</td>\n",
       "      <td>25.0</td>\n",
       "    </tr>\n",
       "    <tr>\n",
       "      <th>8792</th>\n",
       "      <td>f88585b513695493f26dbffb34c01e75</td>\n",
       "      <td>moveis_decoracao</td>\n",
       "      <td>60.0</td>\n",
       "      <td>149.0</td>\n",
       "      <td>1.0</td>\n",
       "      <td>500.0</td>\n",
       "      <td>30.0</td>\n",
       "      <td>16.0</td>\n",
       "      <td>26.0</td>\n",
       "    </tr>\n",
       "  </tbody>\n",
       "</table>\n",
       "</div>"
      ],
      "text/plain": [
       "                             product_id   product_category_name  \\\n",
       "6168   e3217b2b6ec69befdfa1e98962b2565d              brinquedos   \n",
       "13934  e087cb77e9a24e317f4ba08077fa6226        moveis_decoracao   \n",
       "11917  23bb156d1ade824158d1b0c799f9a641              cool_stuff   \n",
       "350    a2bd2eae20998a24c22b110334928b02        malas_acessorios   \n",
       "21149  2373f6870eb01db83a3609a731580320  informatica_acessorios   \n",
       "30515  2b7bb91ceee2bfa598986638fb136ba4       alimentos_bebidas   \n",
       "32527  7a644354b3b217b7d89e529bb01f334e              perfumaria   \n",
       "31342  3d9bbe6e6d8c6dd8ba6e728f2586e510            beleza_saude   \n",
       "2756   09b2a4f1ce3561a6562ffdccc0ca7c18      ferramentas_jardim   \n",
       "8792   f88585b513695493f26dbffb34c01e75        moveis_decoracao   \n",
       "\n",
       "       product_name_lenght  product_description_lenght  product_photos_qty  \\\n",
       "6168                  57.0                       882.0                 4.0   \n",
       "13934                 60.0                      2010.0                 2.0   \n",
       "11917                 46.0                       978.0                 5.0   \n",
       "350                   39.0                       278.0                 1.0   \n",
       "21149                 56.0                      1026.0                 1.0   \n",
       "30515                 59.0                       399.0                 2.0   \n",
       "32527                 55.0                       215.0                 1.0   \n",
       "31342                 60.0                       499.0                 1.0   \n",
       "2756                  47.0                       508.0                 3.0   \n",
       "8792                  60.0                       149.0                 1.0   \n",
       "\n",
       "       product_weight_g  product_length_cm  product_height_cm  \\\n",
       "6168              350.0               20.0               25.0   \n",
       "13934            1450.0               69.0               11.0   \n",
       "11917            1000.0               50.0               20.0   \n",
       "350               700.0               19.0               48.0   \n",
       "21149             300.0               16.0               10.0   \n",
       "30515             262.0               28.0               15.0   \n",
       "32527             100.0               17.0                9.0   \n",
       "31342             273.0               16.0               13.0   \n",
       "2756             1150.0               25.0               20.0   \n",
       "8792              500.0               30.0               16.0   \n",
       "\n",
       "       product_width_cm  \n",
       "6168               20.0  \n",
       "13934              11.0  \n",
       "11917              20.0  \n",
       "350                35.0  \n",
       "21149              12.0  \n",
       "30515              20.0  \n",
       "32527              20.0  \n",
       "31342              14.0  \n",
       "2756               25.0  \n",
       "8792               26.0  "
      ]
     },
     "execution_count": 49,
     "metadata": {},
     "output_type": "execute_result"
    }
   ],
   "source": [
    "products.sample(n=10, random_state=22)"
   ]
  },
  {
   "cell_type": "code",
   "execution_count": 50,
   "id": "cd75d33b-f42c-435a-9f0b-52166f0d2fbf",
   "metadata": {},
   "outputs": [
    {
     "data": {
      "text/plain": [
       "32951"
      ]
     },
     "execution_count": 50,
     "metadata": {},
     "output_type": "execute_result"
    }
   ],
   "source": [
    "unique_product_id_count = products['product_id'].nunique()\n",
    "unique_product_id_count"
   ]
  },
  {
   "cell_type": "markdown",
   "id": "1ff43195-924a-4347-a3bd-35176b7283ff",
   "metadata": {},
   "source": [
    "### order_items_max와 products 데이터셋 결함 --> order_item_product"
   ]
  },
  {
   "cell_type": "code",
   "execution_count": 62,
   "id": "1454ae78-bd97-4fed-9080-2515a3c79c70",
   "metadata": {},
   "outputs": [],
   "source": [
    "order_item_product = pd.merge(oi_max, products, how='left', on='product_id')"
   ]
  },
  {
   "cell_type": "code",
   "execution_count": 64,
   "id": "d8f30014-fa3d-4382-a7fd-0ffef4234f37",
   "metadata": {},
   "outputs": [
    {
     "data": {
      "text/plain": [
       "(98666, 15)"
      ]
     },
     "execution_count": 64,
     "metadata": {},
     "output_type": "execute_result"
    }
   ],
   "source": [
    "order_item_product.shape"
   ]
  },
  {
   "cell_type": "code",
   "execution_count": 22,
   "id": "5d767b47-0726-4682-bb66-bd027cdca790",
   "metadata": {},
   "outputs": [],
   "source": [
    "orders = pd.read_csv('C:/Users/elley/Desktop/Python/project_4_portfolio/ecommerce/olist_orders.csv')"
   ]
  },
  {
   "cell_type": "code",
   "execution_count": 23,
   "id": "26ff9744-4311-443b-a859-78334f6e0ef2",
   "metadata": {
    "scrolled": true
   },
   "outputs": [
    {
     "name": "stdout",
     "output_type": "stream",
     "text": [
      "<class 'pandas.core.frame.DataFrame'>\n",
      "RangeIndex: 99441 entries, 0 to 99440\n",
      "Data columns (total 8 columns):\n",
      " #   Column                         Non-Null Count  Dtype \n",
      "---  ------                         --------------  ----- \n",
      " 0   order_id                       99441 non-null  object\n",
      " 1   customer_id                    99441 non-null  object\n",
      " 2   order_status                   99441 non-null  object\n",
      " 3   order_purchase_timestamp       99441 non-null  object\n",
      " 4   order_approved_at              99281 non-null  object\n",
      " 5   order_delivered_carrier_date   97658 non-null  object\n",
      " 6   order_delivered_customer_date  96476 non-null  object\n",
      " 7   order_estimated_delivery_date  99441 non-null  object\n",
      "dtypes: object(8)\n",
      "memory usage: 6.1+ MB\n"
     ]
    }
   ],
   "source": [
    "orders.info()"
   ]
  },
  {
   "cell_type": "code",
   "execution_count": 24,
   "id": "8fc8d362-a148-486d-ab64-a80cb81261c9",
   "metadata": {},
   "outputs": [
    {
     "data": {
      "text/html": [
       "<div>\n",
       "<style scoped>\n",
       "    .dataframe tbody tr th:only-of-type {\n",
       "        vertical-align: middle;\n",
       "    }\n",
       "\n",
       "    .dataframe tbody tr th {\n",
       "        vertical-align: top;\n",
       "    }\n",
       "\n",
       "    .dataframe thead th {\n",
       "        text-align: right;\n",
       "    }\n",
       "</style>\n",
       "<table border=\"1\" class=\"dataframe\">\n",
       "  <thead>\n",
       "    <tr style=\"text-align: right;\">\n",
       "      <th></th>\n",
       "      <th>order_id</th>\n",
       "      <th>customer_id</th>\n",
       "      <th>order_status</th>\n",
       "      <th>order_purchase_timestamp</th>\n",
       "      <th>order_approved_at</th>\n",
       "      <th>order_delivered_carrier_date</th>\n",
       "      <th>order_delivered_customer_date</th>\n",
       "      <th>order_estimated_delivery_date</th>\n",
       "    </tr>\n",
       "  </thead>\n",
       "  <tbody>\n",
       "    <tr>\n",
       "      <th>7434</th>\n",
       "      <td>b5359909123fa03c50bdb0cfed07f098</td>\n",
       "      <td>438449d4af8980d107bf04571413a8e7</td>\n",
       "      <td>created</td>\n",
       "      <td>2017-12-05 01:07:52</td>\n",
       "      <td>NaN</td>\n",
       "      <td>NaN</td>\n",
       "      <td>NaN</td>\n",
       "      <td>2018-01-11 00:00:00</td>\n",
       "    </tr>\n",
       "    <tr>\n",
       "      <th>9238</th>\n",
       "      <td>dba5062fbda3af4fb6c33b1e040ca38f</td>\n",
       "      <td>964a6df3d9bdf60fe3e7b8bb69ed893a</td>\n",
       "      <td>created</td>\n",
       "      <td>2018-02-09 17:21:04</td>\n",
       "      <td>NaN</td>\n",
       "      <td>NaN</td>\n",
       "      <td>NaN</td>\n",
       "      <td>2018-03-07 00:00:00</td>\n",
       "    </tr>\n",
       "    <tr>\n",
       "      <th>21441</th>\n",
       "      <td>7a4df5d8cff4090e541401a20a22bb80</td>\n",
       "      <td>725e9c75605414b21fd8c8d5a1c2f1d6</td>\n",
       "      <td>created</td>\n",
       "      <td>2017-11-25 11:10:33</td>\n",
       "      <td>NaN</td>\n",
       "      <td>NaN</td>\n",
       "      <td>NaN</td>\n",
       "      <td>2017-12-12 00:00:00</td>\n",
       "    </tr>\n",
       "    <tr>\n",
       "      <th>55086</th>\n",
       "      <td>35de4050331c6c644cddc86f4f2d0d64</td>\n",
       "      <td>4ee64f4bfc542546f422da0aeb462853</td>\n",
       "      <td>created</td>\n",
       "      <td>2017-12-05 01:07:58</td>\n",
       "      <td>NaN</td>\n",
       "      <td>NaN</td>\n",
       "      <td>NaN</td>\n",
       "      <td>2018-01-08 00:00:00</td>\n",
       "    </tr>\n",
       "    <tr>\n",
       "      <th>58958</th>\n",
       "      <td>90ab3e7d52544ec7bc3363c82689965f</td>\n",
       "      <td>7d61b9f4f216052ba664f22e9c504ef1</td>\n",
       "      <td>created</td>\n",
       "      <td>2017-11-06 13:12:34</td>\n",
       "      <td>NaN</td>\n",
       "      <td>NaN</td>\n",
       "      <td>NaN</td>\n",
       "      <td>2017-12-01 00:00:00</td>\n",
       "    </tr>\n",
       "  </tbody>\n",
       "</table>\n",
       "</div>"
      ],
      "text/plain": [
       "                               order_id                       customer_id  \\\n",
       "7434   b5359909123fa03c50bdb0cfed07f098  438449d4af8980d107bf04571413a8e7   \n",
       "9238   dba5062fbda3af4fb6c33b1e040ca38f  964a6df3d9bdf60fe3e7b8bb69ed893a   \n",
       "21441  7a4df5d8cff4090e541401a20a22bb80  725e9c75605414b21fd8c8d5a1c2f1d6   \n",
       "55086  35de4050331c6c644cddc86f4f2d0d64  4ee64f4bfc542546f422da0aeb462853   \n",
       "58958  90ab3e7d52544ec7bc3363c82689965f  7d61b9f4f216052ba664f22e9c504ef1   \n",
       "\n",
       "      order_status order_purchase_timestamp order_approved_at  \\\n",
       "7434       created      2017-12-05 01:07:52               NaN   \n",
       "9238       created      2018-02-09 17:21:04               NaN   \n",
       "21441      created      2017-11-25 11:10:33               NaN   \n",
       "55086      created      2017-12-05 01:07:58               NaN   \n",
       "58958      created      2017-11-06 13:12:34               NaN   \n",
       "\n",
       "      order_delivered_carrier_date order_delivered_customer_date  \\\n",
       "7434                           NaN                           NaN   \n",
       "9238                           NaN                           NaN   \n",
       "21441                          NaN                           NaN   \n",
       "55086                          NaN                           NaN   \n",
       "58958                          NaN                           NaN   \n",
       "\n",
       "      order_estimated_delivery_date  \n",
       "7434            2018-01-11 00:00:00  \n",
       "9238            2018-03-07 00:00:00  \n",
       "21441           2017-12-12 00:00:00  \n",
       "55086           2018-01-08 00:00:00  \n",
       "58958           2017-12-01 00:00:00  "
      ]
     },
     "execution_count": 24,
     "metadata": {},
     "output_type": "execute_result"
    }
   ],
   "source": [
    "orders[orders['order_status'] == 'created']"
   ]
  },
  {
   "cell_type": "code",
   "execution_count": 25,
   "id": "753dea49-731a-4012-bde5-793e8a294ed3",
   "metadata": {},
   "outputs": [
    {
     "data": {
      "text/html": [
       "<div>\n",
       "<style scoped>\n",
       "    .dataframe tbody tr th:only-of-type {\n",
       "        vertical-align: middle;\n",
       "    }\n",
       "\n",
       "    .dataframe tbody tr th {\n",
       "        vertical-align: top;\n",
       "    }\n",
       "\n",
       "    .dataframe thead th {\n",
       "        text-align: right;\n",
       "    }\n",
       "</style>\n",
       "<table border=\"1\" class=\"dataframe\">\n",
       "  <thead>\n",
       "    <tr style=\"text-align: right;\">\n",
       "      <th></th>\n",
       "      <th>order_id</th>\n",
       "      <th>customer_id</th>\n",
       "      <th>order_status</th>\n",
       "      <th>order_purchase_timestamp</th>\n",
       "      <th>order_approved_at</th>\n",
       "      <th>order_delivered_carrier_date</th>\n",
       "      <th>order_delivered_customer_date</th>\n",
       "      <th>order_estimated_delivery_date</th>\n",
       "    </tr>\n",
       "  </thead>\n",
       "  <tbody>\n",
       "    <tr>\n",
       "      <th>266</th>\n",
       "      <td>8e24261a7e58791d10cb1bf9da94df5c</td>\n",
       "      <td>64a254d30eed42cd0e6c36dddb88adf0</td>\n",
       "      <td>unavailable</td>\n",
       "      <td>2017-11-16 15:09:28</td>\n",
       "      <td>2017-11-16 15:26:57</td>\n",
       "      <td>NaN</td>\n",
       "      <td>NaN</td>\n",
       "      <td>2017-12-05 00:00:00</td>\n",
       "    </tr>\n",
       "    <tr>\n",
       "      <th>586</th>\n",
       "      <td>c272bcd21c287498b4883c7512019702</td>\n",
       "      <td>9582c5bbecc65eb568e2c1d839b5cba1</td>\n",
       "      <td>unavailable</td>\n",
       "      <td>2018-01-31 11:31:37</td>\n",
       "      <td>2018-01-31 14:23:50</td>\n",
       "      <td>NaN</td>\n",
       "      <td>NaN</td>\n",
       "      <td>2018-02-16 00:00:00</td>\n",
       "    </tr>\n",
       "    <tr>\n",
       "      <th>687</th>\n",
       "      <td>37553832a3a89c9b2db59701c357ca67</td>\n",
       "      <td>7607cd563696c27ede287e515812d528</td>\n",
       "      <td>unavailable</td>\n",
       "      <td>2017-08-14 17:38:02</td>\n",
       "      <td>2017-08-17 00:15:18</td>\n",
       "      <td>NaN</td>\n",
       "      <td>NaN</td>\n",
       "      <td>2017-09-05 00:00:00</td>\n",
       "    </tr>\n",
       "    <tr>\n",
       "      <th>737</th>\n",
       "      <td>d57e15fb07fd180f06ab3926b39edcd2</td>\n",
       "      <td>470b93b3f1cde85550fc74cd3a476c78</td>\n",
       "      <td>unavailable</td>\n",
       "      <td>2018-01-08 19:39:03</td>\n",
       "      <td>2018-01-09 07:26:08</td>\n",
       "      <td>NaN</td>\n",
       "      <td>NaN</td>\n",
       "      <td>2018-02-06 00:00:00</td>\n",
       "    </tr>\n",
       "    <tr>\n",
       "      <th>1160</th>\n",
       "      <td>2f634e2cebf8c0283e7ef0989f77d217</td>\n",
       "      <td>7353b0fb8e8d9675e3a704c60ca44ebe</td>\n",
       "      <td>unavailable</td>\n",
       "      <td>2017-09-27 20:55:33</td>\n",
       "      <td>2017-09-28 01:32:50</td>\n",
       "      <td>NaN</td>\n",
       "      <td>NaN</td>\n",
       "      <td>2017-10-27 00:00:00</td>\n",
       "    </tr>\n",
       "    <tr>\n",
       "      <th>...</th>\n",
       "      <td>...</td>\n",
       "      <td>...</td>\n",
       "      <td>...</td>\n",
       "      <td>...</td>\n",
       "      <td>...</td>\n",
       "      <td>...</td>\n",
       "      <td>...</td>\n",
       "      <td>...</td>\n",
       "    </tr>\n",
       "    <tr>\n",
       "      <th>99147</th>\n",
       "      <td>6cf5c427fb11bc5fe8abefa86aa7ba0b</td>\n",
       "      <td>91ac14a1e50bc022eeecf0c2ba37006a</td>\n",
       "      <td>unavailable</td>\n",
       "      <td>2017-10-17 10:53:48</td>\n",
       "      <td>2017-10-19 03:12:43</td>\n",
       "      <td>NaN</td>\n",
       "      <td>NaN</td>\n",
       "      <td>2017-10-27 00:00:00</td>\n",
       "    </tr>\n",
       "    <tr>\n",
       "      <th>99233</th>\n",
       "      <td>1c7c8ab324927f5b6e52338bd110bef4</td>\n",
       "      <td>95b1767df51d6fa09402267d8de314df</td>\n",
       "      <td>unavailable</td>\n",
       "      <td>2017-12-23 18:48:09</td>\n",
       "      <td>2017-12-23 18:54:22</td>\n",
       "      <td>NaN</td>\n",
       "      <td>NaN</td>\n",
       "      <td>2018-01-19 00:00:00</td>\n",
       "    </tr>\n",
       "    <tr>\n",
       "      <th>99252</th>\n",
       "      <td>aaab15da689073f8f9aa978a390a69d1</td>\n",
       "      <td>df20748206e4b865b2f14a5eabbfcf34</td>\n",
       "      <td>unavailable</td>\n",
       "      <td>2018-01-16 14:27:59</td>\n",
       "      <td>2018-01-17 03:37:34</td>\n",
       "      <td>NaN</td>\n",
       "      <td>NaN</td>\n",
       "      <td>2018-02-06 00:00:00</td>\n",
       "    </tr>\n",
       "    <tr>\n",
       "      <th>99348</th>\n",
       "      <td>a69ba794cc7deb415c3e15a0a3877e69</td>\n",
       "      <td>726f0894b5becdf952ea537d5266e543</td>\n",
       "      <td>unavailable</td>\n",
       "      <td>2017-08-23 16:28:04</td>\n",
       "      <td>2017-08-28 15:44:47</td>\n",
       "      <td>NaN</td>\n",
       "      <td>NaN</td>\n",
       "      <td>2017-09-15 00:00:00</td>\n",
       "    </tr>\n",
       "    <tr>\n",
       "      <th>99415</th>\n",
       "      <td>5fabc81b6322c8443648e1b21a6fef21</td>\n",
       "      <td>32c9df889d41b0ee8309a5efb6855dcb</td>\n",
       "      <td>unavailable</td>\n",
       "      <td>2017-10-10 10:50:03</td>\n",
       "      <td>2017-10-14 18:35:57</td>\n",
       "      <td>NaN</td>\n",
       "      <td>NaN</td>\n",
       "      <td>2017-10-23 00:00:00</td>\n",
       "    </tr>\n",
       "  </tbody>\n",
       "</table>\n",
       "<p>609 rows × 8 columns</p>\n",
       "</div>"
      ],
      "text/plain": [
       "                               order_id                       customer_id  \\\n",
       "266    8e24261a7e58791d10cb1bf9da94df5c  64a254d30eed42cd0e6c36dddb88adf0   \n",
       "586    c272bcd21c287498b4883c7512019702  9582c5bbecc65eb568e2c1d839b5cba1   \n",
       "687    37553832a3a89c9b2db59701c357ca67  7607cd563696c27ede287e515812d528   \n",
       "737    d57e15fb07fd180f06ab3926b39edcd2  470b93b3f1cde85550fc74cd3a476c78   \n",
       "1160   2f634e2cebf8c0283e7ef0989f77d217  7353b0fb8e8d9675e3a704c60ca44ebe   \n",
       "...                                 ...                               ...   \n",
       "99147  6cf5c427fb11bc5fe8abefa86aa7ba0b  91ac14a1e50bc022eeecf0c2ba37006a   \n",
       "99233  1c7c8ab324927f5b6e52338bd110bef4  95b1767df51d6fa09402267d8de314df   \n",
       "99252  aaab15da689073f8f9aa978a390a69d1  df20748206e4b865b2f14a5eabbfcf34   \n",
       "99348  a69ba794cc7deb415c3e15a0a3877e69  726f0894b5becdf952ea537d5266e543   \n",
       "99415  5fabc81b6322c8443648e1b21a6fef21  32c9df889d41b0ee8309a5efb6855dcb   \n",
       "\n",
       "      order_status order_purchase_timestamp    order_approved_at  \\\n",
       "266    unavailable      2017-11-16 15:09:28  2017-11-16 15:26:57   \n",
       "586    unavailable      2018-01-31 11:31:37  2018-01-31 14:23:50   \n",
       "687    unavailable      2017-08-14 17:38:02  2017-08-17 00:15:18   \n",
       "737    unavailable      2018-01-08 19:39:03  2018-01-09 07:26:08   \n",
       "1160   unavailable      2017-09-27 20:55:33  2017-09-28 01:32:50   \n",
       "...            ...                      ...                  ...   \n",
       "99147  unavailable      2017-10-17 10:53:48  2017-10-19 03:12:43   \n",
       "99233  unavailable      2017-12-23 18:48:09  2017-12-23 18:54:22   \n",
       "99252  unavailable      2018-01-16 14:27:59  2018-01-17 03:37:34   \n",
       "99348  unavailable      2017-08-23 16:28:04  2017-08-28 15:44:47   \n",
       "99415  unavailable      2017-10-10 10:50:03  2017-10-14 18:35:57   \n",
       "\n",
       "      order_delivered_carrier_date order_delivered_customer_date  \\\n",
       "266                            NaN                           NaN   \n",
       "586                            NaN                           NaN   \n",
       "687                            NaN                           NaN   \n",
       "737                            NaN                           NaN   \n",
       "1160                           NaN                           NaN   \n",
       "...                            ...                           ...   \n",
       "99147                          NaN                           NaN   \n",
       "99233                          NaN                           NaN   \n",
       "99252                          NaN                           NaN   \n",
       "99348                          NaN                           NaN   \n",
       "99415                          NaN                           NaN   \n",
       "\n",
       "      order_estimated_delivery_date  \n",
       "266             2017-12-05 00:00:00  \n",
       "586             2018-02-16 00:00:00  \n",
       "687             2017-09-05 00:00:00  \n",
       "737             2018-02-06 00:00:00  \n",
       "1160            2017-10-27 00:00:00  \n",
       "...                             ...  \n",
       "99147           2017-10-27 00:00:00  \n",
       "99233           2018-01-19 00:00:00  \n",
       "99252           2018-02-06 00:00:00  \n",
       "99348           2017-09-15 00:00:00  \n",
       "99415           2017-10-23 00:00:00  \n",
       "\n",
       "[609 rows x 8 columns]"
      ]
     },
     "execution_count": 25,
     "metadata": {},
     "output_type": "execute_result"
    }
   ],
   "source": [
    "orders[orders['order_status'] == 'unavailable']"
   ]
  },
  {
   "cell_type": "code",
   "execution_count": 44,
   "id": "0d7c643e-7873-4e03-8395-7e81da939450",
   "metadata": {},
   "outputs": [
    {
     "data": {
      "text/plain": [
       "99441"
      ]
     },
     "execution_count": 44,
     "metadata": {},
     "output_type": "execute_result"
    }
   ],
   "source": [
    "unique_order_id_count = orders['order_id'].nunique()\n",
    "unique_order_id_count"
   ]
  },
  {
   "cell_type": "code",
   "execution_count": 70,
   "id": "47203dec-1fa3-4eb5-ac0c-429128d80655",
   "metadata": {},
   "outputs": [
    {
     "name": "stdout",
     "output_type": "stream",
     "text": [
      "<class 'pandas.core.frame.DataFrame'>\n",
      "RangeIndex: 98666 entries, 0 to 98665\n",
      "Data columns (total 15 columns):\n",
      " #   Column                      Non-Null Count  Dtype  \n",
      "---  ------                      --------------  -----  \n",
      " 0   order_id                    98666 non-null  object \n",
      " 1   order_item_id               98666 non-null  int64  \n",
      " 2   product_id                  98666 non-null  object \n",
      " 3   seller_id                   98666 non-null  object \n",
      " 4   shipping_limit_date         98666 non-null  object \n",
      " 5   price                       98666 non-null  float64\n",
      " 6   freight_value               98666 non-null  float64\n",
      " 7   product_category_name       97248 non-null  object \n",
      " 8   product_name_lenght         97248 non-null  float64\n",
      " 9   product_description_lenght  97248 non-null  float64\n",
      " 10  product_photos_qty          97248 non-null  float64\n",
      " 11  product_weight_g            98650 non-null  float64\n",
      " 12  product_length_cm           98650 non-null  float64\n",
      " 13  product_height_cm           98650 non-null  float64\n",
      " 14  product_width_cm            98650 non-null  float64\n",
      "dtypes: float64(9), int64(1), object(5)\n",
      "memory usage: 11.3+ MB\n"
     ]
    }
   ],
   "source": [
    "order_item_product.info()"
   ]
  },
  {
   "cell_type": "markdown",
   "id": "19f6ccf1-7d57-4fd6-9098-4ee6aa36f6b3",
   "metadata": {},
   "source": [
    "- #### customer_geo\n",
    "- #### seller_geo\n",
    "\n",
    "#### product 정보 - order_items를 기준으로 product join = order_item_product\n",
    "#### orders의 unique order_id가 order_items의 unique order_id 보다 많음. \n",
    "- ### 따라서 order_item_product의 주문정보(id)가 더 적음. 따라서 **적은** order_item_product 기준으로 orders를 join.\n",
    "\n",
    "(orders 데이터셋 정보: 주문상태 / 리뷰, 결제방식\n",
    "그 다음, customer_geo 데이터에 orders 데이터를 합친다. "
   ]
  },
  {
   "cell_type": "code",
   "execution_count": 113,
   "id": "4c35bee8-3011-4a86-af2d-d0ef72ec78d4",
   "metadata": {},
   "outputs": [],
   "source": [
    "item_status_product = pd.merge(order_item_product, orders, how='left', on='order_id')"
   ]
  },
  {
   "cell_type": "code",
   "execution_count": 114,
   "id": "87799a3c-7da3-411b-ab53-63b56533b515",
   "metadata": {},
   "outputs": [
    {
     "name": "stdout",
     "output_type": "stream",
     "text": [
      "<class 'pandas.core.frame.DataFrame'>\n",
      "RangeIndex: 98666 entries, 0 to 98665\n",
      "Data columns (total 22 columns):\n",
      " #   Column                         Non-Null Count  Dtype  \n",
      "---  ------                         --------------  -----  \n",
      " 0   order_id                       98666 non-null  object \n",
      " 1   order_item_id                  98666 non-null  int64  \n",
      " 2   product_id                     98666 non-null  object \n",
      " 3   seller_id                      98666 non-null  object \n",
      " 4   shipping_limit_date            98666 non-null  object \n",
      " 5   price                          98666 non-null  float64\n",
      " 6   freight_value                  98666 non-null  float64\n",
      " 7   product_category_name          97248 non-null  object \n",
      " 8   product_name_lenght            97248 non-null  float64\n",
      " 9   product_description_lenght     97248 non-null  float64\n",
      " 10  product_photos_qty             97248 non-null  float64\n",
      " 11  product_weight_g               98650 non-null  float64\n",
      " 12  product_length_cm              98650 non-null  float64\n",
      " 13  product_height_cm              98650 non-null  float64\n",
      " 14  product_width_cm               98650 non-null  float64\n",
      " 15  customer_id                    98666 non-null  object \n",
      " 16  order_status                   98666 non-null  object \n",
      " 17  order_purchase_timestamp       98666 non-null  object \n",
      " 18  order_approved_at              98652 non-null  object \n",
      " 19  order_delivered_carrier_date   97657 non-null  object \n",
      " 20  order_delivered_customer_date  96476 non-null  object \n",
      " 21  order_estimated_delivery_date  98666 non-null  object \n",
      "dtypes: float64(9), int64(1), object(12)\n",
      "memory usage: 16.6+ MB\n"
     ]
    }
   ],
   "source": [
    "item_status_product.info()"
   ]
  },
  {
   "cell_type": "code",
   "execution_count": 115,
   "id": "191c6d72-10b0-4404-8423-728e5dee91dc",
   "metadata": {},
   "outputs": [
    {
     "data": {
      "text/html": [
       "<div>\n",
       "<style scoped>\n",
       "    .dataframe tbody tr th:only-of-type {\n",
       "        vertical-align: middle;\n",
       "    }\n",
       "\n",
       "    .dataframe tbody tr th {\n",
       "        vertical-align: top;\n",
       "    }\n",
       "\n",
       "    .dataframe thead th {\n",
       "        text-align: right;\n",
       "    }\n",
       "</style>\n",
       "<table border=\"1\" class=\"dataframe\">\n",
       "  <thead>\n",
       "    <tr style=\"text-align: right;\">\n",
       "      <th></th>\n",
       "      <th>order_id</th>\n",
       "      <th>order_item_id</th>\n",
       "      <th>product_id</th>\n",
       "      <th>seller_id</th>\n",
       "      <th>shipping_limit_date</th>\n",
       "      <th>price</th>\n",
       "      <th>freight_value</th>\n",
       "      <th>product_category_name</th>\n",
       "      <th>product_name_lenght</th>\n",
       "      <th>product_description_lenght</th>\n",
       "      <th>...</th>\n",
       "      <th>product_length_cm</th>\n",
       "      <th>product_height_cm</th>\n",
       "      <th>product_width_cm</th>\n",
       "      <th>customer_id</th>\n",
       "      <th>order_status</th>\n",
       "      <th>order_purchase_timestamp</th>\n",
       "      <th>order_approved_at</th>\n",
       "      <th>order_delivered_carrier_date</th>\n",
       "      <th>order_delivered_customer_date</th>\n",
       "      <th>order_estimated_delivery_date</th>\n",
       "    </tr>\n",
       "  </thead>\n",
       "  <tbody>\n",
       "    <tr>\n",
       "      <th>45721</th>\n",
       "      <td>76d02bba227a9b675d413ce36b7231c6</td>\n",
       "      <td>1</td>\n",
       "      <td>4deaa173012071863baaf9702b34168c</td>\n",
       "      <td>e9779976487b77c6d4ac45f75ec7afe9</td>\n",
       "      <td>2017-09-21 16:35:16</td>\n",
       "      <td>87.00</td>\n",
       "      <td>15.36</td>\n",
       "      <td>bebidas</td>\n",
       "      <td>60.0</td>\n",
       "      <td>1740.0</td>\n",
       "      <td>...</td>\n",
       "      <td>20.0</td>\n",
       "      <td>15.0</td>\n",
       "      <td>15.0</td>\n",
       "      <td>753c62e8a94b6f213074e9a8999e6922</td>\n",
       "      <td>delivered</td>\n",
       "      <td>2017-09-16 16:24:07</td>\n",
       "      <td>2017-09-16 16:35:16</td>\n",
       "      <td>2017-09-19 19:58:11</td>\n",
       "      <td>2017-09-27 16:14:30</td>\n",
       "      <td>2017-10-04 00:00:00</td>\n",
       "    </tr>\n",
       "    <tr>\n",
       "      <th>53851</th>\n",
       "      <td>8c4f09ed660488431555a3738650d897</td>\n",
       "      <td>1</td>\n",
       "      <td>7ce94ab189134e2d3c05f496d635419c</td>\n",
       "      <td>8b321bb669392f5163d04c59e235e066</td>\n",
       "      <td>2018-05-17 10:17:43</td>\n",
       "      <td>13.65</td>\n",
       "      <td>15.23</td>\n",
       "      <td>eletronicos</td>\n",
       "      <td>39.0</td>\n",
       "      <td>400.0</td>\n",
       "      <td>...</td>\n",
       "      <td>25.0</td>\n",
       "      <td>7.0</td>\n",
       "      <td>16.0</td>\n",
       "      <td>6f63c8fb2fec92e5e4f3addb737d10b1</td>\n",
       "      <td>delivered</td>\n",
       "      <td>2018-05-11 10:04:25</td>\n",
       "      <td>2018-05-11 10:17:43</td>\n",
       "      <td>2018-05-11 13:56:00</td>\n",
       "      <td>2018-05-28 20:21:03</td>\n",
       "      <td>2018-06-14 00:00:00</td>\n",
       "    </tr>\n",
       "    <tr>\n",
       "      <th>14840</th>\n",
       "      <td>26ba0c1bad97bbfdcc4419e3ca40d9a8</td>\n",
       "      <td>1</td>\n",
       "      <td>a760ef0bb70c954d79e62ec6023d380c</td>\n",
       "      <td>01cf7e3d21494c41fb86034f2e714fa1</td>\n",
       "      <td>2017-02-04 20:17:34</td>\n",
       "      <td>76.05</td>\n",
       "      <td>15.79</td>\n",
       "      <td>cool_stuff</td>\n",
       "      <td>32.0</td>\n",
       "      <td>1115.0</td>\n",
       "      <td>...</td>\n",
       "      <td>24.0</td>\n",
       "      <td>23.0</td>\n",
       "      <td>25.0</td>\n",
       "      <td>0b0021fc48717a02bcbd22404ed2f1f3</td>\n",
       "      <td>delivered</td>\n",
       "      <td>2017-01-31 20:17:34</td>\n",
       "      <td>2017-01-31 20:35:55</td>\n",
       "      <td>2017-02-02 10:18:59</td>\n",
       "      <td>2017-02-07 08:33:38</td>\n",
       "      <td>2017-02-27 00:00:00</td>\n",
       "    </tr>\n",
       "    <tr>\n",
       "      <th>7589</th>\n",
       "      <td>13b194db506615d16a862e66b0a2f6e6</td>\n",
       "      <td>1</td>\n",
       "      <td>3e5201fe0d1ba474d9b90152c83c706c</td>\n",
       "      <td>8160255418d5aaa7dbdc9f4c64ebda44</td>\n",
       "      <td>2018-07-20 17:25:12</td>\n",
       "      <td>125.90</td>\n",
       "      <td>23.68</td>\n",
       "      <td>cama_mesa_banho</td>\n",
       "      <td>56.0</td>\n",
       "      <td>255.0</td>\n",
       "      <td>...</td>\n",
       "      <td>30.0</td>\n",
       "      <td>5.0</td>\n",
       "      <td>30.0</td>\n",
       "      <td>8cc6453c57a83e84ab84f67dac770a1c</td>\n",
       "      <td>delivered</td>\n",
       "      <td>2018-07-18 17:11:10</td>\n",
       "      <td>2018-07-18 17:25:12</td>\n",
       "      <td>2018-07-19 15:57:00</td>\n",
       "      <td>2018-07-24 15:32:09</td>\n",
       "      <td>2018-08-13 00:00:00</td>\n",
       "    </tr>\n",
       "    <tr>\n",
       "      <th>55653</th>\n",
       "      <td>912806f58b85a8b3b9a57757227c9a36</td>\n",
       "      <td>1</td>\n",
       "      <td>d435c3fa55cfd37fa04032168ed59cf8</td>\n",
       "      <td>51ed72984a04e5dd35c2b27e77179038</td>\n",
       "      <td>2017-12-27 16:52:30</td>\n",
       "      <td>223.90</td>\n",
       "      <td>35.00</td>\n",
       "      <td>eletrodomesticos_2</td>\n",
       "      <td>53.0</td>\n",
       "      <td>704.0</td>\n",
       "      <td>...</td>\n",
       "      <td>80.0</td>\n",
       "      <td>15.0</td>\n",
       "      <td>58.0</td>\n",
       "      <td>d76831a8621f75ed2c625ebf14d32f4a</td>\n",
       "      <td>delivered</td>\n",
       "      <td>2017-12-20 16:44:00</td>\n",
       "      <td>2017-12-20 16:52:30</td>\n",
       "      <td>2017-12-22 23:05:57</td>\n",
       "      <td>2018-02-01 14:15:31</td>\n",
       "      <td>2018-01-23 00:00:00</td>\n",
       "    </tr>\n",
       "    <tr>\n",
       "      <th>95816</th>\n",
       "      <td>f8a9c0be5071e2ca36f561ad567b1800</td>\n",
       "      <td>1</td>\n",
       "      <td>6b966b123b31a54f73d652b5d8f45bb3</td>\n",
       "      <td>8b181ee5518df84f18f4e1a43fe07923</td>\n",
       "      <td>2018-06-05 09:31:39</td>\n",
       "      <td>27.90</td>\n",
       "      <td>27.08</td>\n",
       "      <td>beleza_saude</td>\n",
       "      <td>59.0</td>\n",
       "      <td>846.0</td>\n",
       "      <td>...</td>\n",
       "      <td>28.0</td>\n",
       "      <td>40.0</td>\n",
       "      <td>25.0</td>\n",
       "      <td>40e141d432fb1a06f862197c9c0de0ce</td>\n",
       "      <td>delivered</td>\n",
       "      <td>2018-05-30 09:21:06</td>\n",
       "      <td>2018-05-30 09:34:56</td>\n",
       "      <td>2018-06-05 12:19:00</td>\n",
       "      <td>2018-06-13 22:48:47</td>\n",
       "      <td>2018-07-05 00:00:00</td>\n",
       "    </tr>\n",
       "    <tr>\n",
       "      <th>69708</th>\n",
       "      <td>b5339ee686743c519402f862fba76aee</td>\n",
       "      <td>1</td>\n",
       "      <td>57c580a8fbf3d8374b06bee7b6f4ce31</td>\n",
       "      <td>30a2f535bb48308f991d0b9ad4a8c4bb</td>\n",
       "      <td>2017-12-06 02:25:28</td>\n",
       "      <td>49.90</td>\n",
       "      <td>9.34</td>\n",
       "      <td>moveis_decoracao</td>\n",
       "      <td>57.0</td>\n",
       "      <td>780.0</td>\n",
       "      <td>...</td>\n",
       "      <td>50.0</td>\n",
       "      <td>3.0</td>\n",
       "      <td>25.0</td>\n",
       "      <td>ea50d78b023d96a5d45a86d2059348e1</td>\n",
       "      <td>delivered</td>\n",
       "      <td>2017-11-29 01:13:28</td>\n",
       "      <td>2017-11-30 02:25:28</td>\n",
       "      <td>2017-11-30 18:02:45</td>\n",
       "      <td>2017-12-01 23:07:04</td>\n",
       "      <td>2017-12-13 00:00:00</td>\n",
       "    </tr>\n",
       "    <tr>\n",
       "      <th>72902</th>\n",
       "      <td>bd4b5585c4d7c16db3fe69d062fcafb0</td>\n",
       "      <td>1</td>\n",
       "      <td>623fb8cc5f36842aa32650e2208a08c8</td>\n",
       "      <td>f8db351d8c4c4c22c6835c19a46f01b0</td>\n",
       "      <td>2017-02-07 13:32:11</td>\n",
       "      <td>24.90</td>\n",
       "      <td>24.84</td>\n",
       "      <td>relogios_presentes</td>\n",
       "      <td>58.0</td>\n",
       "      <td>361.0</td>\n",
       "      <td>...</td>\n",
       "      <td>18.0</td>\n",
       "      <td>8.0</td>\n",
       "      <td>13.0</td>\n",
       "      <td>180c7a296ff543e42cdb420d915588c7</td>\n",
       "      <td>delivered</td>\n",
       "      <td>2017-02-03 13:32:11</td>\n",
       "      <td>2017-02-03 13:45:08</td>\n",
       "      <td>2017-02-06 12:03:51</td>\n",
       "      <td>2017-02-21 16:56:00</td>\n",
       "      <td>2017-03-14 00:00:00</td>\n",
       "    </tr>\n",
       "    <tr>\n",
       "      <th>69830</th>\n",
       "      <td>b5781a5976dad5a78067d528713ef47e</td>\n",
       "      <td>1</td>\n",
       "      <td>b83ba81552d0748b45288e7e57c62888</td>\n",
       "      <td>edb1ef5e36e0c8cd84eb3c9b003e486d</td>\n",
       "      <td>2017-10-26 15:49:35</td>\n",
       "      <td>599.65</td>\n",
       "      <td>20.64</td>\n",
       "      <td>beleza_saude</td>\n",
       "      <td>41.0</td>\n",
       "      <td>874.0</td>\n",
       "      <td>...</td>\n",
       "      <td>36.0</td>\n",
       "      <td>10.0</td>\n",
       "      <td>16.0</td>\n",
       "      <td>daa2305279978c8d98ad9b317c9a9965</td>\n",
       "      <td>delivered</td>\n",
       "      <td>2017-10-21 15:40:00</td>\n",
       "      <td>2017-10-21 15:49:35</td>\n",
       "      <td>2017-10-23 20:04:06</td>\n",
       "      <td>2017-10-31 20:22:04</td>\n",
       "      <td>2017-11-17 00:00:00</td>\n",
       "    </tr>\n",
       "    <tr>\n",
       "      <th>10379</th>\n",
       "      <td>1ade84aca2a23a5b07101e2c8db4f120</td>\n",
       "      <td>2</td>\n",
       "      <td>97017430754804328eb9597b7f85da03</td>\n",
       "      <td>ea8482cd71df3c1969d7b9473ff13abc</td>\n",
       "      <td>2017-12-05 11:38:04</td>\n",
       "      <td>27.99</td>\n",
       "      <td>34.15</td>\n",
       "      <td>telefonia</td>\n",
       "      <td>60.0</td>\n",
       "      <td>818.0</td>\n",
       "      <td>...</td>\n",
       "      <td>17.0</td>\n",
       "      <td>4.0</td>\n",
       "      <td>12.0</td>\n",
       "      <td>6de415323c0f244a419ad9485ae825ec</td>\n",
       "      <td>delivered</td>\n",
       "      <td>2017-11-29 11:26:28</td>\n",
       "      <td>2017-11-29 11:38:04</td>\n",
       "      <td>2017-12-04 20:28:47</td>\n",
       "      <td>2017-12-18 17:53:47</td>\n",
       "      <td>2018-01-02 00:00:00</td>\n",
       "    </tr>\n",
       "  </tbody>\n",
       "</table>\n",
       "<p>10 rows × 22 columns</p>\n",
       "</div>"
      ],
      "text/plain": [
       "                               order_id  order_item_id  \\\n",
       "45721  76d02bba227a9b675d413ce36b7231c6              1   \n",
       "53851  8c4f09ed660488431555a3738650d897              1   \n",
       "14840  26ba0c1bad97bbfdcc4419e3ca40d9a8              1   \n",
       "7589   13b194db506615d16a862e66b0a2f6e6              1   \n",
       "55653  912806f58b85a8b3b9a57757227c9a36              1   \n",
       "95816  f8a9c0be5071e2ca36f561ad567b1800              1   \n",
       "69708  b5339ee686743c519402f862fba76aee              1   \n",
       "72902  bd4b5585c4d7c16db3fe69d062fcafb0              1   \n",
       "69830  b5781a5976dad5a78067d528713ef47e              1   \n",
       "10379  1ade84aca2a23a5b07101e2c8db4f120              2   \n",
       "\n",
       "                             product_id                         seller_id  \\\n",
       "45721  4deaa173012071863baaf9702b34168c  e9779976487b77c6d4ac45f75ec7afe9   \n",
       "53851  7ce94ab189134e2d3c05f496d635419c  8b321bb669392f5163d04c59e235e066   \n",
       "14840  a760ef0bb70c954d79e62ec6023d380c  01cf7e3d21494c41fb86034f2e714fa1   \n",
       "7589   3e5201fe0d1ba474d9b90152c83c706c  8160255418d5aaa7dbdc9f4c64ebda44   \n",
       "55653  d435c3fa55cfd37fa04032168ed59cf8  51ed72984a04e5dd35c2b27e77179038   \n",
       "95816  6b966b123b31a54f73d652b5d8f45bb3  8b181ee5518df84f18f4e1a43fe07923   \n",
       "69708  57c580a8fbf3d8374b06bee7b6f4ce31  30a2f535bb48308f991d0b9ad4a8c4bb   \n",
       "72902  623fb8cc5f36842aa32650e2208a08c8  f8db351d8c4c4c22c6835c19a46f01b0   \n",
       "69830  b83ba81552d0748b45288e7e57c62888  edb1ef5e36e0c8cd84eb3c9b003e486d   \n",
       "10379  97017430754804328eb9597b7f85da03  ea8482cd71df3c1969d7b9473ff13abc   \n",
       "\n",
       "       shipping_limit_date   price  freight_value product_category_name  \\\n",
       "45721  2017-09-21 16:35:16   87.00          15.36               bebidas   \n",
       "53851  2018-05-17 10:17:43   13.65          15.23           eletronicos   \n",
       "14840  2017-02-04 20:17:34   76.05          15.79            cool_stuff   \n",
       "7589   2018-07-20 17:25:12  125.90          23.68       cama_mesa_banho   \n",
       "55653  2017-12-27 16:52:30  223.90          35.00    eletrodomesticos_2   \n",
       "95816  2018-06-05 09:31:39   27.90          27.08          beleza_saude   \n",
       "69708  2017-12-06 02:25:28   49.90           9.34      moveis_decoracao   \n",
       "72902  2017-02-07 13:32:11   24.90          24.84    relogios_presentes   \n",
       "69830  2017-10-26 15:49:35  599.65          20.64          beleza_saude   \n",
       "10379  2017-12-05 11:38:04   27.99          34.15             telefonia   \n",
       "\n",
       "       product_name_lenght  product_description_lenght  ...  \\\n",
       "45721                 60.0                      1740.0  ...   \n",
       "53851                 39.0                       400.0  ...   \n",
       "14840                 32.0                      1115.0  ...   \n",
       "7589                  56.0                       255.0  ...   \n",
       "55653                 53.0                       704.0  ...   \n",
       "95816                 59.0                       846.0  ...   \n",
       "69708                 57.0                       780.0  ...   \n",
       "72902                 58.0                       361.0  ...   \n",
       "69830                 41.0                       874.0  ...   \n",
       "10379                 60.0                       818.0  ...   \n",
       "\n",
       "       product_length_cm  product_height_cm  product_width_cm  \\\n",
       "45721               20.0               15.0              15.0   \n",
       "53851               25.0                7.0              16.0   \n",
       "14840               24.0               23.0              25.0   \n",
       "7589                30.0                5.0              30.0   \n",
       "55653               80.0               15.0              58.0   \n",
       "95816               28.0               40.0              25.0   \n",
       "69708               50.0                3.0              25.0   \n",
       "72902               18.0                8.0              13.0   \n",
       "69830               36.0               10.0              16.0   \n",
       "10379               17.0                4.0              12.0   \n",
       "\n",
       "                            customer_id  order_status  \\\n",
       "45721  753c62e8a94b6f213074e9a8999e6922     delivered   \n",
       "53851  6f63c8fb2fec92e5e4f3addb737d10b1     delivered   \n",
       "14840  0b0021fc48717a02bcbd22404ed2f1f3     delivered   \n",
       "7589   8cc6453c57a83e84ab84f67dac770a1c     delivered   \n",
       "55653  d76831a8621f75ed2c625ebf14d32f4a     delivered   \n",
       "95816  40e141d432fb1a06f862197c9c0de0ce     delivered   \n",
       "69708  ea50d78b023d96a5d45a86d2059348e1     delivered   \n",
       "72902  180c7a296ff543e42cdb420d915588c7     delivered   \n",
       "69830  daa2305279978c8d98ad9b317c9a9965     delivered   \n",
       "10379  6de415323c0f244a419ad9485ae825ec     delivered   \n",
       "\n",
       "      order_purchase_timestamp    order_approved_at  \\\n",
       "45721      2017-09-16 16:24:07  2017-09-16 16:35:16   \n",
       "53851      2018-05-11 10:04:25  2018-05-11 10:17:43   \n",
       "14840      2017-01-31 20:17:34  2017-01-31 20:35:55   \n",
       "7589       2018-07-18 17:11:10  2018-07-18 17:25:12   \n",
       "55653      2017-12-20 16:44:00  2017-12-20 16:52:30   \n",
       "95816      2018-05-30 09:21:06  2018-05-30 09:34:56   \n",
       "69708      2017-11-29 01:13:28  2017-11-30 02:25:28   \n",
       "72902      2017-02-03 13:32:11  2017-02-03 13:45:08   \n",
       "69830      2017-10-21 15:40:00  2017-10-21 15:49:35   \n",
       "10379      2017-11-29 11:26:28  2017-11-29 11:38:04   \n",
       "\n",
       "      order_delivered_carrier_date order_delivered_customer_date  \\\n",
       "45721          2017-09-19 19:58:11           2017-09-27 16:14:30   \n",
       "53851          2018-05-11 13:56:00           2018-05-28 20:21:03   \n",
       "14840          2017-02-02 10:18:59           2017-02-07 08:33:38   \n",
       "7589           2018-07-19 15:57:00           2018-07-24 15:32:09   \n",
       "55653          2017-12-22 23:05:57           2018-02-01 14:15:31   \n",
       "95816          2018-06-05 12:19:00           2018-06-13 22:48:47   \n",
       "69708          2017-11-30 18:02:45           2017-12-01 23:07:04   \n",
       "72902          2017-02-06 12:03:51           2017-02-21 16:56:00   \n",
       "69830          2017-10-23 20:04:06           2017-10-31 20:22:04   \n",
       "10379          2017-12-04 20:28:47           2017-12-18 17:53:47   \n",
       "\n",
       "      order_estimated_delivery_date  \n",
       "45721           2017-10-04 00:00:00  \n",
       "53851           2018-06-14 00:00:00  \n",
       "14840           2017-02-27 00:00:00  \n",
       "7589            2018-08-13 00:00:00  \n",
       "55653           2018-01-23 00:00:00  \n",
       "95816           2018-07-05 00:00:00  \n",
       "69708           2017-12-13 00:00:00  \n",
       "72902           2017-03-14 00:00:00  \n",
       "69830           2017-11-17 00:00:00  \n",
       "10379           2018-01-02 00:00:00  \n",
       "\n",
       "[10 rows x 22 columns]"
      ]
     },
     "execution_count": 115,
     "metadata": {},
     "output_type": "execute_result"
    }
   ],
   "source": [
    "item_status_product.sample(n=10, random_state=22)"
   ]
  },
  {
   "cell_type": "markdown",
   "id": "8ad6b0ac-b730-4f3d-8381-8fea4d1820ad",
   "metadata": {},
   "source": [
    "- ### order_status_product 와 customer_geo 합치기"
   ]
  },
  {
   "cell_type": "code",
   "execution_count": 116,
   "id": "68bad0a6-6efa-4747-adc8-8740b697ca22",
   "metadata": {},
   "outputs": [],
   "source": [
    "item_status_product_customer = pd.merge(item_status_product, customer_geo, how='left', on='customer_id')"
   ]
  },
  {
   "cell_type": "code",
   "execution_count": 117,
   "id": "244e87bc-8370-42fb-90b3-1b4424fdf5e3",
   "metadata": {},
   "outputs": [
    {
     "name": "stdout",
     "output_type": "stream",
     "text": [
      "<class 'pandas.core.frame.DataFrame'>\n",
      "RangeIndex: 98666 entries, 0 to 98665\n",
      "Data columns (total 31 columns):\n",
      " #   Column                         Non-Null Count  Dtype  \n",
      "---  ------                         --------------  -----  \n",
      " 0   order_id                       98666 non-null  object \n",
      " 1   order_item_id                  98666 non-null  int64  \n",
      " 2   product_id                     98666 non-null  object \n",
      " 3   seller_id                      98666 non-null  object \n",
      " 4   shipping_limit_date            98666 non-null  object \n",
      " 5   price                          98666 non-null  float64\n",
      " 6   freight_value                  98666 non-null  float64\n",
      " 7   product_category_name          97248 non-null  object \n",
      " 8   product_name_lenght            97248 non-null  float64\n",
      " 9   product_description_lenght     97248 non-null  float64\n",
      " 10  product_photos_qty             97248 non-null  float64\n",
      " 11  product_weight_g               98650 non-null  float64\n",
      " 12  product_length_cm              98650 non-null  float64\n",
      " 13  product_height_cm              98650 non-null  float64\n",
      " 14  product_width_cm               98650 non-null  float64\n",
      " 15  customer_id                    98666 non-null  object \n",
      " 16  order_status                   98666 non-null  object \n",
      " 17  order_purchase_timestamp       98666 non-null  object \n",
      " 18  order_approved_at              98652 non-null  object \n",
      " 19  order_delivered_carrier_date   97657 non-null  object \n",
      " 20  order_delivered_customer_date  96476 non-null  object \n",
      " 21  order_estimated_delivery_date  98666 non-null  object \n",
      " 22  customer_unique_id             98666 non-null  object \n",
      " 23  customer_zip_code_prefix       98666 non-null  int64  \n",
      " 24  customer_city                  98666 non-null  object \n",
      " 25  customer_state                 98666 non-null  object \n",
      " 26  geolocation_zip_code_prefix    98392 non-null  float64\n",
      " 27  geolocation_lat                98392 non-null  float64\n",
      " 28  geolocation_lng                98392 non-null  float64\n",
      " 29  geolocation_city               98392 non-null  object \n",
      " 30  geolocation_state              98392 non-null  object \n",
      "dtypes: float64(12), int64(2), object(17)\n",
      "memory usage: 23.3+ MB\n"
     ]
    }
   ],
   "source": [
    "item_status_product_customer.info()"
   ]
  },
  {
   "cell_type": "code",
   "execution_count": 118,
   "id": "4dc89ac3-307d-42f4-8e8d-c9165cd9edd9",
   "metadata": {},
   "outputs": [],
   "source": [
    "product_name = pd.read_csv('C:/Users/elley/Desktop/Python/project_4_portfolio/ecommerce/product_category_name_translation.csv')"
   ]
  },
  {
   "cell_type": "markdown",
   "id": "dcc3361e-b550-427c-95ba-66027b9c09ff",
   "metadata": {},
   "source": [
    "- ### 마지막으로 프로덕트 카테고리 이름을 영어로 보기 위해 product name join\n",
    "  - #### 병합된 데이터에서 unique한 상품 카테고리명은 73개 \n",
    "  - #### 프로덕트 카테고리 영어로 해석가능한 상품은 총 71개"
   ]
  },
  {
   "cell_type": "code",
   "execution_count": 121,
   "id": "e6e30f3a-7f71-4b0b-a6f7-4c0c887596ac",
   "metadata": {},
   "outputs": [
    {
     "data": {
      "text/plain": [
       "73"
      ]
     },
     "execution_count": 121,
     "metadata": {},
     "output_type": "execute_result"
    }
   ],
   "source": [
    "item_status_product_customer['product_category_name'].nunique()"
   ]
  },
  {
   "cell_type": "code",
   "execution_count": 122,
   "id": "b9f2df48-d6eb-4dc6-8418-51321ae83f64",
   "metadata": {},
   "outputs": [
    {
     "name": "stdout",
     "output_type": "stream",
     "text": [
      "<class 'pandas.core.frame.DataFrame'>\n",
      "RangeIndex: 71 entries, 0 to 70\n",
      "Data columns (total 2 columns):\n",
      " #   Column                         Non-Null Count  Dtype \n",
      "---  ------                         --------------  ----- \n",
      " 0   product_category_name          71 non-null     object\n",
      " 1   product_category_name_english  71 non-null     object\n",
      "dtypes: object(2)\n",
      "memory usage: 1.2+ KB\n"
     ]
    }
   ],
   "source": [
    "product_name.info()"
   ]
  },
  {
   "cell_type": "code",
   "execution_count": 123,
   "id": "5aa91063-5df5-4280-beb8-eabd79e551d6",
   "metadata": {},
   "outputs": [],
   "source": [
    "eng_item_status_product_customer = pd.merge(item_status_product_customer, product_name, how='left', on='product_category_name')"
   ]
  },
  {
   "cell_type": "code",
   "execution_count": 124,
   "id": "e203a04e-0fb3-482a-a9aa-8a4b81b0d477",
   "metadata": {},
   "outputs": [
    {
     "name": "stdout",
     "output_type": "stream",
     "text": [
      "<class 'pandas.core.frame.DataFrame'>\n",
      "RangeIndex: 98666 entries, 0 to 98665\n",
      "Data columns (total 32 columns):\n",
      " #   Column                         Non-Null Count  Dtype  \n",
      "---  ------                         --------------  -----  \n",
      " 0   order_id                       98666 non-null  object \n",
      " 1   order_item_id                  98666 non-null  int64  \n",
      " 2   product_id                     98666 non-null  object \n",
      " 3   seller_id                      98666 non-null  object \n",
      " 4   shipping_limit_date            98666 non-null  object \n",
      " 5   price                          98666 non-null  float64\n",
      " 6   freight_value                  98666 non-null  float64\n",
      " 7   product_category_name          97248 non-null  object \n",
      " 8   product_name_lenght            97248 non-null  float64\n",
      " 9   product_description_lenght     97248 non-null  float64\n",
      " 10  product_photos_qty             97248 non-null  float64\n",
      " 11  product_weight_g               98650 non-null  float64\n",
      " 12  product_length_cm              98650 non-null  float64\n",
      " 13  product_height_cm              98650 non-null  float64\n",
      " 14  product_width_cm               98650 non-null  float64\n",
      " 15  customer_id                    98666 non-null  object \n",
      " 16  order_status                   98666 non-null  object \n",
      " 17  order_purchase_timestamp       98666 non-null  object \n",
      " 18  order_approved_at              98652 non-null  object \n",
      " 19  order_delivered_carrier_date   97657 non-null  object \n",
      " 20  order_delivered_customer_date  96476 non-null  object \n",
      " 21  order_estimated_delivery_date  98666 non-null  object \n",
      " 22  customer_unique_id             98666 non-null  object \n",
      " 23  customer_zip_code_prefix       98666 non-null  int64  \n",
      " 24  customer_city                  98666 non-null  object \n",
      " 25  customer_state                 98666 non-null  object \n",
      " 26  geolocation_zip_code_prefix    98392 non-null  float64\n",
      " 27  geolocation_lat                98392 non-null  float64\n",
      " 28  geolocation_lng                98392 non-null  float64\n",
      " 29  geolocation_city               98392 non-null  object \n",
      " 30  geolocation_state              98392 non-null  object \n",
      " 31  product_category_name_english  97226 non-null  object \n",
      "dtypes: float64(12), int64(2), object(18)\n",
      "memory usage: 24.1+ MB\n"
     ]
    }
   ],
   "source": [
    "eng_item_status_product_customer.info()"
   ]
  },
  {
   "cell_type": "code",
   "execution_count": 125,
   "id": "c2c29ea5-9f0b-4026-818c-c65b624407c6",
   "metadata": {},
   "outputs": [],
   "source": [
    "eng_item_status_product_customer.to_excel('eng_item_status_product_customer.xlsx', index=False)"
   ]
  },
  {
   "cell_type": "code",
   "execution_count": 137,
   "id": "c36d2d85-2374-49ad-9457-6b6a766da047",
   "metadata": {},
   "outputs": [],
   "source": [
    "eng_item_status_product_customer.to_csv('eng_item_status_product_customer.csv', index=False)"
   ]
  },
  {
   "cell_type": "markdown",
   "id": "c1c887c7-27c5-4b39-a026-cfe1ef63680a",
   "metadata": {},
   "source": [
    "- ### Tableau에서 분석할 대상만 전체 데이터에서 추출하기"
   ]
  },
  {
   "cell_type": "code",
   "execution_count": 41,
   "id": "71d4ce64-f698-4fd2-85c3-6e1aef83b977",
   "metadata": {},
   "outputs": [],
   "source": [
    "orig = pd.read_csv('C:/Users/elley/Desktop/Python/project_4_portfolio/ecommerce/eng_item_status_product_customer.csv')"
   ]
  },
  {
   "cell_type": "code",
   "execution_count": 16,
   "id": "7d21a5d2-7c9b-4167-8f5a-307c8cb4dec3",
   "metadata": {},
   "outputs": [],
   "source": [
    "pd.set_option('display.max_columns', None)"
   ]
  },
  {
   "cell_type": "markdown",
   "id": "2aa57648-fe81-4f03-89b9-72b6d99c84f5",
   "metadata": {},
   "source": [
    "- ### 컬럼명 알기 쉽게 변환"
   ]
  },
  {
   "cell_type": "code",
   "execution_count": 42,
   "id": "e0d26c06-1436-4137-9da0-818d6e411096",
   "metadata": {},
   "outputs": [],
   "source": [
    "orig_mod = orig.rename(columns={'order_item_id': 'item_count'}, inplace=False)"
   ]
  },
  {
   "cell_type": "code",
   "execution_count": 43,
   "id": "0db45490-2435-45a3-9da9-66e7724f0f78",
   "metadata": {},
   "outputs": [
    {
     "data": {
      "text/html": [
       "<div>\n",
       "<style scoped>\n",
       "    .dataframe tbody tr th:only-of-type {\n",
       "        vertical-align: middle;\n",
       "    }\n",
       "\n",
       "    .dataframe tbody tr th {\n",
       "        vertical-align: top;\n",
       "    }\n",
       "\n",
       "    .dataframe thead th {\n",
       "        text-align: right;\n",
       "    }\n",
       "</style>\n",
       "<table border=\"1\" class=\"dataframe\">\n",
       "  <thead>\n",
       "    <tr style=\"text-align: right;\">\n",
       "      <th></th>\n",
       "      <th>order_id</th>\n",
       "      <th>item_count</th>\n",
       "      <th>product_id</th>\n",
       "      <th>seller_id</th>\n",
       "      <th>shipping_limit_date</th>\n",
       "      <th>price</th>\n",
       "      <th>freight_value</th>\n",
       "      <th>product_category_name</th>\n",
       "      <th>product_name_lenght</th>\n",
       "      <th>product_description_lenght</th>\n",
       "      <th>product_photos_qty</th>\n",
       "      <th>product_weight_g</th>\n",
       "      <th>product_length_cm</th>\n",
       "      <th>product_height_cm</th>\n",
       "      <th>product_width_cm</th>\n",
       "      <th>customer_id</th>\n",
       "      <th>order_status</th>\n",
       "      <th>order_purchase_timestamp</th>\n",
       "      <th>order_approved_at</th>\n",
       "      <th>order_delivered_carrier_date</th>\n",
       "      <th>order_delivered_customer_date</th>\n",
       "      <th>order_estimated_delivery_date</th>\n",
       "      <th>customer_unique_id</th>\n",
       "      <th>customer_zip_code_prefix</th>\n",
       "      <th>customer_city</th>\n",
       "      <th>customer_state</th>\n",
       "      <th>geolocation_zip_code_prefix</th>\n",
       "      <th>geolocation_lat</th>\n",
       "      <th>geolocation_lng</th>\n",
       "      <th>geolocation_city</th>\n",
       "      <th>geolocation_state</th>\n",
       "      <th>product_category_name_english</th>\n",
       "    </tr>\n",
       "  </thead>\n",
       "  <tbody>\n",
       "    <tr>\n",
       "      <th>0</th>\n",
       "      <td>00010242fe8c5a6d1ba2dd792cb16214</td>\n",
       "      <td>1</td>\n",
       "      <td>4244733e06e7ecb4970a6e2683c13e61</td>\n",
       "      <td>48436dade18ac8b2bce089ec2a041202</td>\n",
       "      <td>2017-09-19 09:45:35</td>\n",
       "      <td>58.9</td>\n",
       "      <td>13.29</td>\n",
       "      <td>cool_stuff</td>\n",
       "      <td>58.0</td>\n",
       "      <td>598.0</td>\n",
       "      <td>4.0</td>\n",
       "      <td>650.0</td>\n",
       "      <td>28.0</td>\n",
       "      <td>9.0</td>\n",
       "      <td>14.0</td>\n",
       "      <td>3ce436f183e68e07877b285a838db11a</td>\n",
       "      <td>delivered</td>\n",
       "      <td>2017-09-13 08:59:02</td>\n",
       "      <td>2017-09-13 09:45:35</td>\n",
       "      <td>2017-09-19 18:34:16</td>\n",
       "      <td>2017-09-20 23:43:48</td>\n",
       "      <td>2017-09-29 00:00:00</td>\n",
       "      <td>871766c5855e863f6eccc05f988b23cb</td>\n",
       "      <td>28013</td>\n",
       "      <td>campos dos goytacazes</td>\n",
       "      <td>RJ</td>\n",
       "      <td>28013.0</td>\n",
       "      <td>-21.758076</td>\n",
       "      <td>-41.312633</td>\n",
       "      <td>campos dos goytacazes</td>\n",
       "      <td>RJ</td>\n",
       "      <td>cool_stuff</td>\n",
       "    </tr>\n",
       "    <tr>\n",
       "      <th>1</th>\n",
       "      <td>00018f77f2f0320c557190d7a144bdd3</td>\n",
       "      <td>1</td>\n",
       "      <td>e5f2d52b802189ee658865ca93d83a8f</td>\n",
       "      <td>dd7ddc04e1b6c2c614352b383efe2d36</td>\n",
       "      <td>2017-05-03 11:05:13</td>\n",
       "      <td>239.9</td>\n",
       "      <td>19.93</td>\n",
       "      <td>pet_shop</td>\n",
       "      <td>56.0</td>\n",
       "      <td>239.0</td>\n",
       "      <td>2.0</td>\n",
       "      <td>30000.0</td>\n",
       "      <td>50.0</td>\n",
       "      <td>30.0</td>\n",
       "      <td>40.0</td>\n",
       "      <td>f6dd3ec061db4e3987629fe6b26e5cce</td>\n",
       "      <td>delivered</td>\n",
       "      <td>2017-04-26 10:53:06</td>\n",
       "      <td>2017-04-26 11:05:13</td>\n",
       "      <td>2017-05-04 14:35:00</td>\n",
       "      <td>2017-05-12 16:04:24</td>\n",
       "      <td>2017-05-15 00:00:00</td>\n",
       "      <td>eb28e67c4c0b83846050ddfb8a35d051</td>\n",
       "      <td>15775</td>\n",
       "      <td>santa fe do sul</td>\n",
       "      <td>SP</td>\n",
       "      <td>15775.0</td>\n",
       "      <td>-20.212393</td>\n",
       "      <td>-50.941471</td>\n",
       "      <td>santa fe do sul</td>\n",
       "      <td>SP</td>\n",
       "      <td>pet_shop</td>\n",
       "    </tr>\n",
       "    <tr>\n",
       "      <th>2</th>\n",
       "      <td>000229ec398224ef6ca0657da4fc703e</td>\n",
       "      <td>1</td>\n",
       "      <td>c777355d18b72b67abbeef9df44fd0fd</td>\n",
       "      <td>5b51032eddd242adc84c38acab88f23d</td>\n",
       "      <td>2018-01-18 14:48:30</td>\n",
       "      <td>199.0</td>\n",
       "      <td>17.87</td>\n",
       "      <td>moveis_decoracao</td>\n",
       "      <td>59.0</td>\n",
       "      <td>695.0</td>\n",
       "      <td>2.0</td>\n",
       "      <td>3050.0</td>\n",
       "      <td>33.0</td>\n",
       "      <td>13.0</td>\n",
       "      <td>33.0</td>\n",
       "      <td>6489ae5e4333f3693df5ad4372dab6d3</td>\n",
       "      <td>delivered</td>\n",
       "      <td>2018-01-14 14:33:31</td>\n",
       "      <td>2018-01-14 14:48:30</td>\n",
       "      <td>2018-01-16 12:36:48</td>\n",
       "      <td>2018-01-22 13:19:16</td>\n",
       "      <td>2018-02-05 00:00:00</td>\n",
       "      <td>3818d81c6709e39d06b2738a8d3a2474</td>\n",
       "      <td>35661</td>\n",
       "      <td>para de minas</td>\n",
       "      <td>MG</td>\n",
       "      <td>35661.0</td>\n",
       "      <td>-19.860439</td>\n",
       "      <td>-44.597972</td>\n",
       "      <td>pará de minas</td>\n",
       "      <td>MG</td>\n",
       "      <td>furniture_decor</td>\n",
       "    </tr>\n",
       "  </tbody>\n",
       "</table>\n",
       "</div>"
      ],
      "text/plain": [
       "                           order_id  item_count  \\\n",
       "0  00010242fe8c5a6d1ba2dd792cb16214           1   \n",
       "1  00018f77f2f0320c557190d7a144bdd3           1   \n",
       "2  000229ec398224ef6ca0657da4fc703e           1   \n",
       "\n",
       "                         product_id                         seller_id  \\\n",
       "0  4244733e06e7ecb4970a6e2683c13e61  48436dade18ac8b2bce089ec2a041202   \n",
       "1  e5f2d52b802189ee658865ca93d83a8f  dd7ddc04e1b6c2c614352b383efe2d36   \n",
       "2  c777355d18b72b67abbeef9df44fd0fd  5b51032eddd242adc84c38acab88f23d   \n",
       "\n",
       "   shipping_limit_date  price  freight_value product_category_name  \\\n",
       "0  2017-09-19 09:45:35   58.9          13.29            cool_stuff   \n",
       "1  2017-05-03 11:05:13  239.9          19.93              pet_shop   \n",
       "2  2018-01-18 14:48:30  199.0          17.87      moveis_decoracao   \n",
       "\n",
       "   product_name_lenght  product_description_lenght  product_photos_qty  \\\n",
       "0                 58.0                       598.0                 4.0   \n",
       "1                 56.0                       239.0                 2.0   \n",
       "2                 59.0                       695.0                 2.0   \n",
       "\n",
       "   product_weight_g  product_length_cm  product_height_cm  product_width_cm  \\\n",
       "0             650.0               28.0                9.0              14.0   \n",
       "1           30000.0               50.0               30.0              40.0   \n",
       "2            3050.0               33.0               13.0              33.0   \n",
       "\n",
       "                        customer_id order_status order_purchase_timestamp  \\\n",
       "0  3ce436f183e68e07877b285a838db11a    delivered      2017-09-13 08:59:02   \n",
       "1  f6dd3ec061db4e3987629fe6b26e5cce    delivered      2017-04-26 10:53:06   \n",
       "2  6489ae5e4333f3693df5ad4372dab6d3    delivered      2018-01-14 14:33:31   \n",
       "\n",
       "     order_approved_at order_delivered_carrier_date  \\\n",
       "0  2017-09-13 09:45:35          2017-09-19 18:34:16   \n",
       "1  2017-04-26 11:05:13          2017-05-04 14:35:00   \n",
       "2  2018-01-14 14:48:30          2018-01-16 12:36:48   \n",
       "\n",
       "  order_delivered_customer_date order_estimated_delivery_date  \\\n",
       "0           2017-09-20 23:43:48           2017-09-29 00:00:00   \n",
       "1           2017-05-12 16:04:24           2017-05-15 00:00:00   \n",
       "2           2018-01-22 13:19:16           2018-02-05 00:00:00   \n",
       "\n",
       "                 customer_unique_id  customer_zip_code_prefix  \\\n",
       "0  871766c5855e863f6eccc05f988b23cb                     28013   \n",
       "1  eb28e67c4c0b83846050ddfb8a35d051                     15775   \n",
       "2  3818d81c6709e39d06b2738a8d3a2474                     35661   \n",
       "\n",
       "           customer_city customer_state  geolocation_zip_code_prefix  \\\n",
       "0  campos dos goytacazes             RJ                      28013.0   \n",
       "1        santa fe do sul             SP                      15775.0   \n",
       "2          para de minas             MG                      35661.0   \n",
       "\n",
       "   geolocation_lat  geolocation_lng       geolocation_city geolocation_state  \\\n",
       "0       -21.758076       -41.312633  campos dos goytacazes                RJ   \n",
       "1       -20.212393       -50.941471        santa fe do sul                SP   \n",
       "2       -19.860439       -44.597972          pará de minas                MG   \n",
       "\n",
       "  product_category_name_english  \n",
       "0                    cool_stuff  \n",
       "1                      pet_shop  \n",
       "2               furniture_decor  "
      ]
     },
     "execution_count": 43,
     "metadata": {},
     "output_type": "execute_result"
    }
   ],
   "source": [
    "orig_mod.head(3)"
   ]
  },
  {
   "cell_type": "code",
   "execution_count": 44,
   "id": "6d71690a-fe6f-400c-b7a5-61e73b2c226b",
   "metadata": {},
   "outputs": [
    {
     "data": {
      "text/html": [
       "<div>\n",
       "<style scoped>\n",
       "    .dataframe tbody tr th:only-of-type {\n",
       "        vertical-align: middle;\n",
       "    }\n",
       "\n",
       "    .dataframe tbody tr th {\n",
       "        vertical-align: top;\n",
       "    }\n",
       "\n",
       "    .dataframe thead th {\n",
       "        text-align: right;\n",
       "    }\n",
       "</style>\n",
       "<table border=\"1\" class=\"dataframe\">\n",
       "  <thead>\n",
       "    <tr style=\"text-align: right;\">\n",
       "      <th></th>\n",
       "      <th>order_id</th>\n",
       "      <th>item_count</th>\n",
       "      <th>product_id</th>\n",
       "      <th>seller_id</th>\n",
       "      <th>shipping_limit_date</th>\n",
       "      <th>price</th>\n",
       "      <th>freight_value</th>\n",
       "      <th>product_category_name</th>\n",
       "      <th>product_name_lenght</th>\n",
       "      <th>product_description_lenght</th>\n",
       "      <th>product_photos_qty</th>\n",
       "      <th>product_weight_g</th>\n",
       "      <th>product_length_cm</th>\n",
       "      <th>product_height_cm</th>\n",
       "      <th>product_width_cm</th>\n",
       "      <th>customer_id</th>\n",
       "      <th>order_status</th>\n",
       "      <th>order_purchase_timestamp</th>\n",
       "      <th>order_approved_at</th>\n",
       "      <th>order_delivered_carrier_date</th>\n",
       "      <th>order_delivered_customer_date</th>\n",
       "      <th>order_estimated_delivery_date</th>\n",
       "      <th>customer_unique_id</th>\n",
       "      <th>customer_zip_code_prefix</th>\n",
       "      <th>customer_city</th>\n",
       "      <th>customer_state</th>\n",
       "      <th>geolocation_zip_code_prefix</th>\n",
       "      <th>geolocation_lat</th>\n",
       "      <th>geolocation_lng</th>\n",
       "      <th>geolocation_city</th>\n",
       "      <th>geolocation_state</th>\n",
       "      <th>product_category_name_english</th>\n",
       "    </tr>\n",
       "  </thead>\n",
       "  <tbody>\n",
       "  </tbody>\n",
       "</table>\n",
       "</div>"
      ],
      "text/plain": [
       "Empty DataFrame\n",
       "Columns: [order_id, item_count, product_id, seller_id, shipping_limit_date, price, freight_value, product_category_name, product_name_lenght, product_description_lenght, product_photos_qty, product_weight_g, product_length_cm, product_height_cm, product_width_cm, customer_id, order_status, order_purchase_timestamp, order_approved_at, order_delivered_carrier_date, order_delivered_customer_date, order_estimated_delivery_date, customer_unique_id, customer_zip_code_prefix, customer_city, customer_state, geolocation_zip_code_prefix, geolocation_lat, geolocation_lng, geolocation_city, geolocation_state, product_category_name_english]\n",
       "Index: []"
      ]
     },
     "execution_count": 44,
     "metadata": {},
     "output_type": "execute_result"
    }
   ],
   "source": [
    "orig_mod[orig_mod['order_status'] == 'created']"
   ]
  },
  {
   "cell_type": "code",
   "execution_count": 45,
   "id": "6807dba4-f13e-468b-a143-a75a4bb01323",
   "metadata": {},
   "outputs": [
    {
     "name": "stdout",
     "output_type": "stream",
     "text": [
      "<class 'pandas.core.frame.DataFrame'>\n",
      "RangeIndex: 98666 entries, 0 to 98665\n",
      "Data columns (total 32 columns):\n",
      " #   Column                         Non-Null Count  Dtype  \n",
      "---  ------                         --------------  -----  \n",
      " 0   order_id                       98666 non-null  object \n",
      " 1   item_count                     98666 non-null  int64  \n",
      " 2   product_id                     98666 non-null  object \n",
      " 3   seller_id                      98666 non-null  object \n",
      " 4   shipping_limit_date            98666 non-null  object \n",
      " 5   price                          98666 non-null  float64\n",
      " 6   freight_value                  98666 non-null  float64\n",
      " 7   product_category_name          97248 non-null  object \n",
      " 8   product_name_lenght            97248 non-null  float64\n",
      " 9   product_description_lenght     97248 non-null  float64\n",
      " 10  product_photos_qty             97248 non-null  float64\n",
      " 11  product_weight_g               98650 non-null  float64\n",
      " 12  product_length_cm              98650 non-null  float64\n",
      " 13  product_height_cm              98650 non-null  float64\n",
      " 14  product_width_cm               98650 non-null  float64\n",
      " 15  customer_id                    98666 non-null  object \n",
      " 16  order_status                   98666 non-null  object \n",
      " 17  order_purchase_timestamp       98666 non-null  object \n",
      " 18  order_approved_at              98652 non-null  object \n",
      " 19  order_delivered_carrier_date   97657 non-null  object \n",
      " 20  order_delivered_customer_date  96476 non-null  object \n",
      " 21  order_estimated_delivery_date  98666 non-null  object \n",
      " 22  customer_unique_id             98666 non-null  object \n",
      " 23  customer_zip_code_prefix       98666 non-null  int64  \n",
      " 24  customer_city                  98666 non-null  object \n",
      " 25  customer_state                 98666 non-null  object \n",
      " 26  geolocation_zip_code_prefix    98392 non-null  float64\n",
      " 27  geolocation_lat                98392 non-null  float64\n",
      " 28  geolocation_lng                98392 non-null  float64\n",
      " 29  geolocation_city               98392 non-null  object \n",
      " 30  geolocation_state              98392 non-null  object \n",
      " 31  product_category_name_english  97226 non-null  object \n",
      "dtypes: float64(12), int64(2), object(18)\n",
      "memory usage: 24.1+ MB\n"
     ]
    }
   ],
   "source": [
    "orig_mod.info()"
   ]
  },
  {
   "cell_type": "code",
   "execution_count": 46,
   "id": "071a2b55-ff2c-4e93-83d3-e39c1d59f5b5",
   "metadata": {},
   "outputs": [],
   "source": [
    "new_df = orig_mod.iloc[:, [0, 1, 2, 3, 5, 7, 31, 15, 16, 18, 22, 26, 27, 28, 29, 30]]"
   ]
  },
  {
   "cell_type": "code",
   "execution_count": 47,
   "id": "a915b39c-1d54-4f9f-9d9f-5896b770d898",
   "metadata": {},
   "outputs": [],
   "source": [
    "new_df_cleaned = new_df.dropna()"
   ]
  },
  {
   "cell_type": "code",
   "execution_count": 48,
   "id": "15a482cb-4f85-4411-b16a-671f5093191f",
   "metadata": {},
   "outputs": [],
   "source": [
    "sales_cleaned = new_df_cleaned"
   ]
  },
  {
   "cell_type": "code",
   "execution_count": 49,
   "id": "fee44494-420c-405c-8fd7-ce8535d3f79b",
   "metadata": {},
   "outputs": [
    {
     "name": "stdout",
     "output_type": "stream",
     "text": [
      "<class 'pandas.core.frame.DataFrame'>\n",
      "Index: 96945 entries, 0 to 98665\n",
      "Data columns (total 16 columns):\n",
      " #   Column                         Non-Null Count  Dtype  \n",
      "---  ------                         --------------  -----  \n",
      " 0   order_id                       96945 non-null  object \n",
      " 1   item_count                     96945 non-null  int64  \n",
      " 2   product_id                     96945 non-null  object \n",
      " 3   seller_id                      96945 non-null  object \n",
      " 4   price                          96945 non-null  float64\n",
      " 5   product_category_name          96945 non-null  object \n",
      " 6   product_category_name_english  96945 non-null  object \n",
      " 7   customer_id                    96945 non-null  object \n",
      " 8   order_status                   96945 non-null  object \n",
      " 9   order_approved_at              96945 non-null  object \n",
      " 10  customer_unique_id             96945 non-null  object \n",
      " 11  geolocation_zip_code_prefix    96945 non-null  float64\n",
      " 12  geolocation_lat                96945 non-null  float64\n",
      " 13  geolocation_lng                96945 non-null  float64\n",
      " 14  geolocation_city               96945 non-null  object \n",
      " 15  geolocation_state              96945 non-null  object \n",
      "dtypes: float64(4), int64(1), object(11)\n",
      "memory usage: 12.6+ MB\n"
     ]
    }
   ],
   "source": [
    "sales_cleaned.info()"
   ]
  },
  {
   "cell_type": "markdown",
   "id": "5441e0e6-2fb7-4d93-8ae2-b2c8f8e7629d",
   "metadata": {},
   "source": [
    "- #### order_status 중 아래 4가지는 완전히 종료되지 않았으므로 제외\n",
    "1) processing\n",
    "2) unavailable\n",
    "3) canceled\n",
    "4) created \n"
   ]
  },
  {
   "cell_type": "code",
   "execution_count": 50,
   "id": "2bf8292d-6923-415e-b0b4-0b3b529f25df",
   "metadata": {},
   "outputs": [],
   "source": [
    "sales_cleaned = sales_cleaned[~sales_cleaned['order_status'].isin(['processing', 'unavailable', 'canceled', 'created'])]"
   ]
  },
  {
   "cell_type": "code",
   "execution_count": 51,
   "id": "a74bad04-ba1f-42a5-861e-6c350c0d9954",
   "metadata": {},
   "outputs": [
    {
     "name": "stdout",
     "output_type": "stream",
     "text": [
      "<class 'pandas.core.frame.DataFrame'>\n",
      "Index: 96208 entries, 0 to 98665\n",
      "Data columns (total 16 columns):\n",
      " #   Column                         Non-Null Count  Dtype  \n",
      "---  ------                         --------------  -----  \n",
      " 0   order_id                       96208 non-null  object \n",
      " 1   item_count                     96208 non-null  int64  \n",
      " 2   product_id                     96208 non-null  object \n",
      " 3   seller_id                      96208 non-null  object \n",
      " 4   price                          96208 non-null  float64\n",
      " 5   product_category_name          96208 non-null  object \n",
      " 6   product_category_name_english  96208 non-null  object \n",
      " 7   customer_id                    96208 non-null  object \n",
      " 8   order_status                   96208 non-null  object \n",
      " 9   order_approved_at              96208 non-null  object \n",
      " 10  customer_unique_id             96208 non-null  object \n",
      " 11  geolocation_zip_code_prefix    96208 non-null  float64\n",
      " 12  geolocation_lat                96208 non-null  float64\n",
      " 13  geolocation_lng                96208 non-null  float64\n",
      " 14  geolocation_city               96208 non-null  object \n",
      " 15  geolocation_state              96208 non-null  object \n",
      "dtypes: float64(4), int64(1), object(11)\n",
      "memory usage: 12.5+ MB\n"
     ]
    }
   ],
   "source": [
    "sales_cleaned.info()"
   ]
  },
  {
   "cell_type": "code",
   "execution_count": 52,
   "id": "8a8e65e0-cd12-4568-bf3a-d32a1d5c49e2",
   "metadata": {},
   "outputs": [],
   "source": [
    "sales_cleaned.to_excel('sales_cleaned.xlsx', index=False)"
   ]
  },
  {
   "cell_type": "code",
   "execution_count": null,
   "id": "dd8683ba-9a81-4669-97ad-1440299cdef4",
   "metadata": {},
   "outputs": [],
   "source": []
  },
  {
   "cell_type": "code",
   "execution_count": null,
   "id": "fb738173-f97a-4957-9364-c0d2cb0dd2ed",
   "metadata": {},
   "outputs": [],
   "source": []
  },
  {
   "cell_type": "code",
   "execution_count": null,
   "id": "5d58286c-00cd-4d51-83c7-8d9153123b0a",
   "metadata": {},
   "outputs": [],
   "source": []
  },
  {
   "cell_type": "code",
   "execution_count": null,
   "id": "668bc2ee-0a2e-4981-abc4-5a6054bf80e2",
   "metadata": {},
   "outputs": [],
   "source": []
  },
  {
   "cell_type": "code",
   "execution_count": null,
   "id": "94ee438f-c921-4a29-acfc-c8861852d4fc",
   "metadata": {},
   "outputs": [],
   "source": []
  }
 ],
 "metadata": {
  "kernelspec": {
   "display_name": "Python 3 (ipykernel)",
   "language": "python",
   "name": "python3"
  },
  "language_info": {
   "codemirror_mode": {
    "name": "ipython",
    "version": 3
   },
   "file_extension": ".py",
   "mimetype": "text/x-python",
   "name": "python",
   "nbconvert_exporter": "python",
   "pygments_lexer": "ipython3",
   "version": "3.12.9"
  }
 },
 "nbformat": 4,
 "nbformat_minor": 5
}
